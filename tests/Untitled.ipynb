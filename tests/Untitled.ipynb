{
 "cells": [
  {
   "cell_type": "code",
   "execution_count": 1,
   "id": "developed-heavy",
   "metadata": {},
   "outputs": [],
   "source": []
  },
  {
   "cell_type": "code",
   "execution_count": null,
   "id": "armed-scale",
   "metadata": {},
   "outputs": [],
   "source": []
  },
  {
   "cell_type": "code",
   "execution_count": null,
   "id": "coordinate-delight",
   "metadata": {},
   "outputs": [],
   "source": []
  },
  {
   "cell_type": "code",
   "execution_count": null,
   "id": "cleared-berkeley",
   "metadata": {},
   "outputs": [],
   "source": []
  },
  {
   "cell_type": "code",
   "execution_count": null,
   "id": "revised-synthetic",
   "metadata": {},
   "outputs": [],
   "source": []
  },
  {
   "cell_type": "code",
   "execution_count": null,
   "id": "velvet-going",
   "metadata": {},
   "outputs": [],
   "source": []
  },
  {
   "cell_type": "code",
   "execution_count": null,
   "id": "major-sunday",
   "metadata": {},
   "outputs": [],
   "source": []
  },
  {
   "cell_type": "code",
   "execution_count": null,
   "id": "superior-sphere",
   "metadata": {},
   "outputs": [],
   "source": []
  },
  {
   "cell_type": "code",
   "execution_count": null,
   "id": "divine-jewel",
   "metadata": {},
   "outputs": [],
   "source": []
  },
  {
   "cell_type": "code",
   "execution_count": null,
   "id": "greater-fiber",
   "metadata": {},
   "outputs": [],
   "source": []
  },
  {
   "cell_type": "code",
   "execution_count": null,
   "id": "permanent-berlin",
   "metadata": {},
   "outputs": [],
   "source": []
  },
  {
   "cell_type": "code",
   "execution_count": null,
   "id": "suspended-providence",
   "metadata": {},
   "outputs": [],
   "source": []
  },
  {
   "cell_type": "code",
   "execution_count": null,
   "id": "failing-burns",
   "metadata": {},
   "outputs": [],
   "source": []
  },
  {
   "cell_type": "code",
   "execution_count": 5,
   "id": "superb-version",
   "metadata": {},
   "outputs": [],
   "source": [
    "#from farabio.data.biodatasets import RANZCRDataset\n",
    "#from torch.utils.data import DataLoader\n",
    "\n",
    "#root = \"/home/data/02_SSD4TB/suzy/datasets/public\"\n",
    "#train_dataset = RANZCRDataset(\n",
    "#    root=root, train=True, transform=None, download=False)"
   ]
  },
  {
   "cell_type": "code",
   "execution_count": 2,
   "id": "incomplete-ceiling",
   "metadata": {},
   "outputs": [],
   "source": [
    "#train_dataset.visualize_dataset()"
   ]
  },
  {
   "cell_type": "code",
   "execution_count": null,
   "id": "acceptable-nightlife",
   "metadata": {},
   "outputs": [],
   "source": []
  },
  {
   "cell_type": "code",
   "execution_count": null,
   "id": "spread-final",
   "metadata": {},
   "outputs": [],
   "source": []
  },
  {
   "cell_type": "code",
   "execution_count": 3,
   "id": "searching-thing",
   "metadata": {},
   "outputs": [],
   "source": [
    "#train_dataset.file_list[0][-1]"
   ]
  },
  {
   "cell_type": "code",
   "execution_count": null,
   "id": "chief-conflict",
   "metadata": {},
   "outputs": [],
   "source": []
  },
  {
   "cell_type": "code",
   "execution_count": 4,
   "id": "brief-jacket",
   "metadata": {},
   "outputs": [],
   "source": [
    "# random_idx = np.random.randint(1, len(train_list), size=16)\n",
    "# fig, axes = plt.subplots(6,6, figsize=(13,13))\n",
    "\n",
    "# for idx, ax in enumerate(axes.ravel()):\n",
    "#     img = Image.open(train_list[idx][0])\n",
    "#     ax.set_title(train_list[idx][1])\n",
    "#     ax.imshow(img)\n",
    "\n",
    "# def visualize_dataset():\n",
    "#     \"\"\"\n",
    "#     Function to visualize images and masks\n",
    "#     \"\"\"\n",
    "    \n",
    "    \n",
    "#     root = \"/home/data/02_SSD4TB/suzy/datasets/public\"\n",
    "\n",
    "#     train_dataset = RANZCRDataset(\n",
    "#         root=root, train=True, transform=None, download=False)\n",
    "\n",
    "#     batch_size = 12\n",
    "#     train_loader = DataLoader(dataset = train_dataset, batch_size = batch_size, shuffle = True)\n",
    "#     inputs, classes = next(iter(train_loader))\n",
    "#     class_names = train_dataset.classes\n",
    "\n",
    "#     #inputs, classes = next(iter(train_loader))\n",
    "#     out = torchvision.utils.make_grid(inputs)\n",
    "#     self.imshow(out, title=[class_names[x] for x in classes])\n",
    "\n",
    "# visualize_dataset()"
   ]
  },
  {
   "cell_type": "code",
   "execution_count": null,
   "id": "buried-iceland",
   "metadata": {},
   "outputs": [],
   "source": []
  },
  {
   "cell_type": "code",
   "execution_count": null,
   "id": "acknowledged-certification",
   "metadata": {},
   "outputs": [],
   "source": []
  }
 ],
 "metadata": {
  "kernelspec": {
   "display_name": "Python 3",
   "language": "python",
   "name": "python3"
  },
  "language_info": {
   "codemirror_mode": {
    "name": "ipython",
    "version": 3
   },
   "file_extension": ".py",
   "mimetype": "text/x-python",
   "name": "python",
   "nbconvert_exporter": "python",
   "pygments_lexer": "ipython3",
   "version": "3.8.8"
  }
 },
 "nbformat": 4,
 "nbformat_minor": 5
}
