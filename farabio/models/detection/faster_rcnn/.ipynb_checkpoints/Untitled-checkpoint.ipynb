{
 "cells": [
  {
   "cell_type": "code",
   "execution_count": 1,
   "id": "suffering-catalyst",
   "metadata": {},
   "outputs": [
    {
     "name": "stdout",
     "output_type": "stream",
     "text": [
      "Complete in 0.0m  0.00s\n"
     ]
    }
   ],
   "source": [
    "import time\n",
    "from farabio.core.sample_config import get_config\n",
    "from farabio.models.segmentation.unet.unet_trainer import UnetTrainer\n",
    "from farabio.models.segmentation.attunet.attunet_trainer import AttunetTrainer\n",
    "from farabio.models.superres.srgan.srgan_trainer import SrganTrainer\n",
    "from farabio.models.translation.cyclegan.cyclegan_trainer import CycleganTrainer\n",
    "from farabio.models.detection.yolov3.yolo_trainer import YoloTrainer\n",
    "\n",
    "\n",
    "models = {\n",
    "    \"unet\": UnetTrainer,\n",
    "    \"attunet\": AttunetTrainer,\n",
    "    \"srgan\": SrganTrainer,\n",
    "    \"cyclegan\": CycleganTrainer,\n",
    "    \"yolov3\": YoloTrainer,\n",
    "}\n",
    "\n",
    "\n",
    "if __name__ == \"__main__\":\n",
    "    itime = time.time()\n",
    "\n",
    "    model = \"faster_rcnn\"\n",
    "    config, _ = get_config(model)\n",
    "    \n",
    "    etime = time.time() - itime\n",
    "    print(f'Complete in {etime // 60}m {etime % 60: .2f}s')\n"
   ]
  },
  {
   "cell_type": "code",
   "execution_count": 4,
   "id": "bridal-accommodation",
   "metadata": {},
   "outputs": [
    {
     "data": {
      "text/plain": [
       "Namespace(data='voc', debug_file='/tmp/debugf', env='faster-rcnn', epoch=14, load_path=None, lr=0.001, lr_decay=0.1, max_size=1000, min_size=600, num_workers=8, plot_every=40, port=8097, pretrained_model='vgg16', roi_sigma=1.0, rpn_sigma=3.0, test_num=10000, test_num_workers=8, use_adam=False, use_chainer=False, use_drop=False, voc_data_dir='/data/02_SSD4TB/suzy/datasets/public/pascalvoc/VOCdevkit/VOC2007', weight_decay=0.0005)"
      ]
     },
     "execution_count": 4,
     "metadata": {},
     "output_type": "execute_result"
    }
   ],
   "source": [
    "config"
   ]
  },
  {
   "cell_type": "code",
   "execution_count": 60,
   "id": "devoted-duncan",
   "metadata": {},
   "outputs": [],
   "source": [
    "def state_dict_namespace(cfg):\n",
    "    return {k: getattr(cfg, k) for k, _ in cfg.__dict__.items() \\\n",
    "            if not k.startswith('_')}"
   ]
  },
  {
   "cell_type": "code",
   "execution_count": 61,
   "id": "parental-money",
   "metadata": {},
   "outputs": [
    {
     "data": {
      "text/plain": [
       "{'voc_data_dir': '/data/02_SSD4TB/suzy/datasets/public/pascalvoc/VOCdevkit/VOC2007',\n",
       " 'min_size': 600,\n",
       " 'max_size': 1000,\n",
       " 'load_path': None,\n",
       " 'rpn_sigma': 3.0,\n",
       " 'roi_sigma': 1.0,\n",
       " 'weight_decay': 0.0005,\n",
       " 'lr_decay': 0.1,\n",
       " 'lr': 0.001,\n",
       " 'data': 'voc',\n",
       " 'pretrained_model': 'vgg16',\n",
       " 'epoch': 14,\n",
       " 'use_adam': False,\n",
       " 'use_chainer': False,\n",
       " 'use_drop': False,\n",
       " 'debug_file': '/tmp/debugf',\n",
       " 'test_num': 10000,\n",
       " 'env': 'faster-rcnn',\n",
       " 'port': 8097,\n",
       " 'plot_every': 40,\n",
       " 'num_workers': 8,\n",
       " 'test_num_workers': 8}"
      ]
     },
     "execution_count": 61,
     "metadata": {},
     "output_type": "execute_result"
    }
   ],
   "source": [
    "_state_dict(config)"
   ]
  },
  {
   "cell_type": "code",
   "execution_count": 62,
   "id": "executed-violin",
   "metadata": {},
   "outputs": [],
   "source": [
    "save_dict = dict()\n",
    "save_dict['config'] = state_dict_from_namespace(config)"
   ]
  },
  {
   "cell_type": "code",
   "execution_count": 63,
   "id": "natural-invitation",
   "metadata": {},
   "outputs": [],
   "source": [
    "import torch\n",
    "torch.save(save_dict, \"x.pth\")"
   ]
  },
  {
   "cell_type": "code",
   "execution_count": 64,
   "id": "intimate-wealth",
   "metadata": {},
   "outputs": [],
   "source": [
    "loaded_state_dict = torch.load(\"x.pth\")"
   ]
  },
  {
   "cell_type": "code",
   "execution_count": 65,
   "id": "sophisticated-cover",
   "metadata": {},
   "outputs": [
    {
     "data": {
      "text/plain": [
       "{'config': {'voc_data_dir': '/data/02_SSD4TB/suzy/datasets/public/pascalvoc/VOCdevkit/VOC2007',\n",
       "  'min_size': 600,\n",
       "  'max_size': 1000,\n",
       "  'load_path': None,\n",
       "  'rpn_sigma': 3.0,\n",
       "  'roi_sigma': 1.0,\n",
       "  'weight_decay': 0.0005,\n",
       "  'lr_decay': 0.1,\n",
       "  'lr': 0.001,\n",
       "  'data': 'voc',\n",
       "  'pretrained_model': 'vgg16',\n",
       "  'epoch': 14,\n",
       "  'use_adam': False,\n",
       "  'use_chainer': False,\n",
       "  'use_drop': False,\n",
       "  'debug_file': '/tmp/debugf',\n",
       "  'test_num': 10000,\n",
       "  'env': 'faster-rcnn',\n",
       "  'port': 8097,\n",
       "  'plot_every': 40,\n",
       "  'num_workers': 8,\n",
       "  'test_num_workers': 8}}"
      ]
     },
     "execution_count": 65,
     "metadata": {},
     "output_type": "execute_result"
    }
   ],
   "source": [
    "loaded_state_dict"
   ]
  },
  {
   "cell_type": "code",
   "execution_count": null,
   "id": "theoretical-reynolds",
   "metadata": {},
   "outputs": [],
   "source": []
  },
  {
   "cell_type": "code",
   "execution_count": null,
   "id": "innocent-sixth",
   "metadata": {},
   "outputs": [],
   "source": []
  },
  {
   "cell_type": "code",
   "execution_count": 46,
   "id": "hundred-senate",
   "metadata": {},
   "outputs": [
    {
     "ename": "AttributeError",
     "evalue": "'dict' object has no attribute '__dict__'",
     "output_type": "error",
     "traceback": [
      "\u001b[0;31m---------------------------------------------------------------------------\u001b[0m",
      "\u001b[0;31mAttributeError\u001b[0m                            Traceback (most recent call last)",
      "\u001b[0;32m<ipython-input-46-21c02e4c3848>\u001b[0m in \u001b[0;36m<module>\u001b[0;34m\u001b[0m\n\u001b[0;32m----> 1\u001b[0;31m \u001b[0m_parse_cfg\u001b[0m\u001b[0;34m(\u001b[0m\u001b[0mloaded_state_dict\u001b[0m\u001b[0;34m[\u001b[0m\u001b[0;34m'config'\u001b[0m\u001b[0;34m]\u001b[0m\u001b[0;34m)\u001b[0m\u001b[0;34m\u001b[0m\u001b[0;34m\u001b[0m\u001b[0m\n\u001b[0m",
      "\u001b[0;32m<ipython-input-24-fc9244e02630>\u001b[0m in \u001b[0;36m_parse_cfg\u001b[0;34m(cfg)\u001b[0m\n\u001b[1;32m      1\u001b[0m \u001b[0;32mdef\u001b[0m \u001b[0m_parse_cfg\u001b[0m\u001b[0;34m(\u001b[0m\u001b[0mcfg\u001b[0m\u001b[0;34m)\u001b[0m\u001b[0;34m:\u001b[0m\u001b[0;34m\u001b[0m\u001b[0;34m\u001b[0m\u001b[0m\n\u001b[0;32m----> 2\u001b[0;31m     \u001b[0mstate_dict\u001b[0m \u001b[0;34m=\u001b[0m \u001b[0m_state_dict\u001b[0m\u001b[0;34m(\u001b[0m\u001b[0mcfg\u001b[0m\u001b[0;34m)\u001b[0m\u001b[0;34m\u001b[0m\u001b[0;34m\u001b[0m\u001b[0m\n\u001b[0m\u001b[1;32m      3\u001b[0m     \u001b[0;32mfor\u001b[0m \u001b[0mk\u001b[0m\u001b[0;34m,\u001b[0m \u001b[0mv\u001b[0m \u001b[0;32min\u001b[0m \u001b[0mkwargs\u001b[0m\u001b[0;34m.\u001b[0m\u001b[0mitems\u001b[0m\u001b[0;34m(\u001b[0m\u001b[0;34m)\u001b[0m\u001b[0;34m:\u001b[0m\u001b[0;34m\u001b[0m\u001b[0;34m\u001b[0m\u001b[0m\n\u001b[1;32m      4\u001b[0m         \u001b[0;32mif\u001b[0m \u001b[0mk\u001b[0m \u001b[0;32mnot\u001b[0m \u001b[0;32min\u001b[0m \u001b[0mstate_dict\u001b[0m\u001b[0;34m:\u001b[0m\u001b[0;34m\u001b[0m\u001b[0;34m\u001b[0m\u001b[0m\n\u001b[1;32m      5\u001b[0m             \u001b[0;32mraise\u001b[0m \u001b[0mValueError\u001b[0m\u001b[0;34m(\u001b[0m\u001b[0;34m'UnKnown Option: \"--%s\"'\u001b[0m \u001b[0;34m%\u001b[0m \u001b[0mk\u001b[0m\u001b[0;34m)\u001b[0m\u001b[0;34m\u001b[0m\u001b[0;34m\u001b[0m\u001b[0m\n",
      "\u001b[0;32m<ipython-input-24-fc9244e02630>\u001b[0m in \u001b[0;36m_state_dict\u001b[0;34m(cfg)\u001b[0m\n\u001b[1;32m     11\u001b[0m \u001b[0;34m\u001b[0m\u001b[0m\n\u001b[1;32m     12\u001b[0m \u001b[0;32mdef\u001b[0m \u001b[0m_state_dict\u001b[0m\u001b[0;34m(\u001b[0m\u001b[0mcfg\u001b[0m\u001b[0;34m)\u001b[0m\u001b[0;34m:\u001b[0m\u001b[0;34m\u001b[0m\u001b[0;34m\u001b[0m\u001b[0m\n\u001b[0;32m---> 13\u001b[0;31m     return {k: getattr(cfg, k) for k, _ in cfg.__dict__.items() \\\n\u001b[0m\u001b[1;32m     14\u001b[0m             if not k.startswith('_')}\n",
      "\u001b[0;31mAttributeError\u001b[0m: 'dict' object has no attribute '__dict__'"
     ]
    }
   ],
   "source": [
    "_parse_cfg(loaded_state_dict['config'])"
   ]
  },
  {
   "cell_type": "code",
   "execution_count": null,
   "id": "official-cattle",
   "metadata": {},
   "outputs": [],
   "source": []
  }
 ],
 "metadata": {
  "kernelspec": {
   "display_name": "Python 3",
   "language": "python",
   "name": "python3"
  },
  "language_info": {
   "codemirror_mode": {
    "name": "ipython",
    "version": 3
   },
   "file_extension": ".py",
   "mimetype": "text/x-python",
   "name": "python",
   "nbconvert_exporter": "python",
   "pygments_lexer": "ipython3",
   "version": "3.8.8"
  }
 },
 "nbformat": 4,
 "nbformat_minor": 5
}
