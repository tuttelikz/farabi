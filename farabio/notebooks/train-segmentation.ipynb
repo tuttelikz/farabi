{
 "cells": [
  {
   "cell_type": "markdown",
   "id": "5f403351-5cb1-48d5-94d2-54d65b053d28",
   "metadata": {},
   "source": [
    "## Tutorial 2: Training segmentation model for 2018 Data Science Bowl dataset.\n",
    "\n",
    "### Introduction\n",
    "\n",
    "This is a quick walkthrough notebook to demonstrate how to train U-Net segmentation model on Data Science Bowl 18 Dataset using PyTorch! At the end of this tutorial, you are expected to get `bestmodel.pt` file inside `model` folder.\n",
    "\n",
    "### Table of contents\n",
    "\n",
    "- [Imports](#imports)\n",
    "- [Load Data Science Bowl 18 Dataset](#load-data-science-bowl-18-dataset)\n",
    "- [Define dataloaders](#define-dataloaders)\n",
    "- [Define loss](#define-loss)\n",
    "- [Load model](#load-model)\n",
    "- [Start training loop](#start-training-loop)"
   ]
  },
  {
   "cell_type": "markdown",
   "id": "67e339b3-5aac-46a1-ba59-2961dd47498f",
   "metadata": {},
   "source": [
    "#### Imports"
   ]
  },
  {
   "cell_type": "code",
   "execution_count": 1,
   "id": "64f56dbb-10af-4042-92dc-e65a7b30945b",
   "metadata": {},
   "outputs": [],
   "source": [
    "import torch\n",
    "import torch.nn as nn\n",
    "import torch.nn.functional as F\n",
    "from torch.utils.data import Dataset, DataLoader, random_split\n",
    "import os\n",
    "import albumentations as A\n",
    "from albumentations.pytorch.transforms import ToTensorV2\n",
    "from skimage import io, transform\n",
    "import numpy as np\n",
    "import random\n",
    "import matplotlib.pyplot as plt\n",
    "from tqdm import tqdm as tqdm\n",
    "import shutil\n",
    "from farabio.models.segmentation import *\n",
    "from farabio.data.biodatasets import *"
   ]
  },
  {
   "cell_type": "markdown",
   "id": "aa29d26d-006f-4cf7-9e3a-964f164e2238",
   "metadata": {},
   "source": [
    "#### Load Data Science Bowl 18 Dataset"
   ]
  },
  {
   "cell_type": "code",
   "execution_count": 2,
   "id": "0eace39d-3e55-480f-8200-fa78d5e6e2b8",
   "metadata": {},
   "outputs": [
    {
     "data": {
      "image/png": "[encoded data removed]",
      "text/plain": [
       "<Figure size 432x288 with 4 Axes>"
      ]
     },
     "metadata": {},
     "output_type": "display_data"
    }
   ],
   "source": [
    "_path = \"/home/data/07_SSD4TB/public-datasets/data-science-bowl-2018/\"\n",
    "\n",
    "train_dataset = DSB18Dataset(_path, transform=None, download=False, mode=\"train\", show=True)\n",
    "valid_dataset = DSB18Dataset(_path, transform=None, download=False, mode=\"val\", show=False)"
   ]
  },
  {
   "cell_type": "markdown",
   "id": "57288593-5459-45b9-87ad-6a27541e0dc3",
   "metadata": {},
   "source": [
    "#### Define dataloaders"
   ]
  },
  {
   "cell_type": "code",
   "execution_count": 3,
   "id": "0ed9e0dd-ed27-4b28-a896-dbbd0aebe3cd",
   "metadata": {},
   "outputs": [],
   "source": [
    "train_loader = DataLoader(dataset=train_dataset, batch_size=16, shuffle=True)\n",
    "valid_loader = DataLoader(dataset=valid_dataset, batch_size=8)"
   ]
  },
  {
   "cell_type": "markdown",
   "id": "1955acde-c09b-4d42-b830-865b7bf650f8",
   "metadata": {},
   "source": [
    "#### Define loss"
   ]
  },
  {
   "cell_type": "code",
   "execution_count": 4,
   "id": "fc30d00e-ae2f-4fdb-9c57-30a1de1e9696",
   "metadata": {},
   "outputs": [],
   "source": [
    "class DiceBCELoss(nn.Module):\n",
    "    def __init__(self, weight=None, size_average=True):\n",
    "        super(DiceBCELoss, self).__init__()\n",
    "\n",
    "    def forward(self, inputs, targets, smooth=1):\n",
    "        \n",
    "        #comment out if your model contains a sigmoid or equivalent activation layer\n",
    "        inputs = torch.sigmoid(inputs)       \n",
    "        \n",
    "        #flatten label and prediction tensors\n",
    "        inputs = inputs.view(-1)\n",
    "        targets = targets.view(-1)\n",
    "        \n",
    "        intersection = (inputs * targets).sum()                            \n",
    "        dice_loss = 1 - (2.*intersection + smooth)/(inputs.sum() + targets.sum() + smooth)  \n",
    "        BCE = F.binary_cross_entropy(inputs, targets, reduction='mean')\n",
    "        Dice_BCE = BCE + dice_loss\n",
    "        \n",
    "        return Dice_BCE\n",
    "\n",
    "\n",
    "class DiceLoss(nn.Module):\n",
    "    def __init__(self, weight=None, size_average=True):\n",
    "        super(DiceLoss, self).__init__()\n",
    "\n",
    "    def forward(self, inputs, targets, smooth=1):\n",
    "        \n",
    "        #comment out if your model contains a sigmoid or equivalent activation layer\n",
    "        inputs = torch.sigmoid(inputs)        #???????\n",
    "        \n",
    "        #flatten label and prediction tensors\n",
    "        inputs = inputs.view(-1)\n",
    "        targets = targets.view(-1)\n",
    "        \n",
    "        intersection = (inputs * targets).sum()                            \n",
    "        dice = (2.*intersection + smooth)/(inputs.sum() + targets.sum() + smooth)  \n",
    "        \n",
    "        return 1 - dice\n",
    "\n",
    "\n",
    "class IoU(nn.Module):\n",
    "    def __init__(self, weight=None, size_average=True):\n",
    "        super(IoU, self).__init__()\n",
    "\n",
    "    def forward(self, inputs, targets, smooth=1):\n",
    "        \n",
    "        #comment out if your model contains a sigmoid or equivalent activation layer\n",
    "        inputs = torch.sigmoid(inputs)       \n",
    "        \n",
    "        #flatten label and prediction tensors\n",
    "        inputs = inputs.view(-1)\n",
    "        targets = targets.view(-1)\n",
    "        \n",
    "        #intersection is equivalent to True Positive count\n",
    "        #union is the mutually inclusive area of all labels & predictions \n",
    "        intersection = (inputs * targets).sum()\n",
    "        total = (inputs + targets).sum()\n",
    "        union = total - intersection \n",
    "        \n",
    "        IoU = (intersection + smooth)/(union + smooth)\n",
    "                \n",
    "        return IoU"
   ]
  },
  {
   "cell_type": "markdown",
   "id": "8e14ba1e-ac19-46ca-85ed-81f6e25bf946",
   "metadata": {},
   "source": [
    "#### Load model"
   ]
  },
  {
   "cell_type": "code",
   "execution_count": 5,
   "id": "8ee2f79d-bf26-467d-8c34-6529ceb15f04",
   "metadata": {},
   "outputs": [
    {
     "name": "stdout",
     "output_type": "stream",
     "text": [
      "Let's use 4 GPUs!\n",
      "model is ready!\n"
     ]
    }
   ],
   "source": [
    "device = torch.device(\"cuda:0\" if torch.cuda.is_available() else \"cpu\")\n",
    "model = unet_resnet34(in_channels=3, out_channels=1).to(device)\n",
    "\n",
    "if torch.cuda.device_count() > 1:\n",
    "    print(\"Let's use\", torch.cuda.device_count(), \"GPUs!\")\n",
    "    model = nn.DataParallel(model)\n",
    "\n",
    "model.to(device)\n",
    "optimizer = torch.optim.Adam(model.parameters(),lr = 1e-3)\n",
    "print(\"model is ready!\")"
   ]
  },
  {
   "cell_type": "markdown",
   "id": "b698dafb-0326-4167-9cce-65e11393ad98",
   "metadata": {},
   "source": [
    "#### Start training loop"
   ]
  },
  {
   "cell_type": "code",
   "execution_count": 6,
   "id": "98840e22-0713-431c-b90d-7506e7793def",
   "metadata": {},
   "outputs": [],
   "source": [
    "def save_ckp(state, is_best, checkpoint_path, best_model_path):\n",
    "    \"\"\"\n",
    "    state: checkpoint we want to save\n",
    "    is_best: is this the best checkpoint; min validation loss\n",
    "    checkpoint_path: path to save checkpoint\n",
    "    best_model_path: path to save best model\n",
    "    \"\"\"\n",
    "    f_path = checkpoint_path\n",
    "    # save checkpoint data to the path given, checkpoint_path\n",
    "    torch.save(state, f_path)\n",
    "    # if it is a best model, min validation loss\n",
    "    if is_best:\n",
    "        best_fpath = best_model_path\n",
    "        # copy that checkpoint file to best path given, best_model_path\n",
    "        shutil.copyfile(f_path, best_fpath)\n",
    "\n",
    "def load_ckp(checkpoint_fpath, model, optimizer):\n",
    "    \"\"\"\n",
    "    checkpoint_path: path to save checkpoint\n",
    "    model: model that we want to load checkpoint parameters into       \n",
    "    optimizer: optimizer we defined in previous training\n",
    "    \"\"\"\n",
    "    # load check point\n",
    "    checkpoint = torch.load(checkpoint_fpath)\n",
    "    # initialize state_dict from checkpoint to model\n",
    "    model.load_state_dict(checkpoint['state_dict'])\n",
    "    # initialize optimizer from checkpoint to optimizer\n",
    "    optimizer.load_state_dict(checkpoint['optimizer'])\n",
    "    # initialize valid_loss_min from checkpoint to valid_loss_min\n",
    "    valid_loss_min = checkpoint['valid_loss_min']\n",
    "    # return model, optimizer, epoch value, min validation loss \n",
    "    return model, optimizer, checkpoint['epoch'], valid_loss_min.item()"
   ]
  },
  {
   "cell_type": "code",
   "execution_count": 8,
   "id": "1b7806a4-822d-4ddb-882e-293e0f5a5245",
   "metadata": {},
   "outputs": [
    {
     "name": "stderr",
     "output_type": "stream",
     "text": [
      "Epoch: 1, loss: 0.23099388050187286, IoU: 0.6247038565451642: 100%|█████████████████████| 34/34 [03:47<00:00,  6.69s/it]\n"
     ]
    },
    {
     "name": "stdout",
     "output_type": "stream",
     "text": [
      "\n",
      "###############Train Loss: 0.362613257634677, Train IOU: 0.47284613069054704###############\n",
      "###############Valid Loss: 0.38213493389016623, Valid IOU: 0.4533167557518091###############\n",
      "Validation loss decreased (inf --> 0.382135).  Saving model ...\n"
     ]
    }
   ],
   "source": [
    "if not os.path.exists(\"model\"):\n",
    "    os.makedirs(\"model\")\n",
    "    \n",
    "#from engine import evaluate\n",
    "criterion = DiceLoss()\n",
    "accuracy_metric = IoU()\n",
    "num_epochs = 1\n",
    "valid_loss_min = np.Inf\n",
    "\n",
    "checkpoint_path = 'model/chkpoint_'\n",
    "best_model_path = 'model/bestmodel.pt'\n",
    "\n",
    "total_train_loss = []\n",
    "total_train_score = []\n",
    "total_valid_loss = []\n",
    "total_valid_score = []\n",
    "\n",
    "losses_value = 0\n",
    "for epoch in range(num_epochs):\n",
    "    train_loss = []\n",
    "    train_score = []\n",
    "    valid_loss = []\n",
    "    valid_score = []\n",
    "    #<-----------Training Loop---------------------------->\n",
    "    pbar = tqdm(train_loader, desc = 'description')\n",
    "    for x_train, y_train,fname in pbar:\n",
    "        x_train = torch.autograd.Variable(x_train).to(device)\n",
    "        y_train = torch.autograd.Variable(y_train).to(device)\n",
    "        optimizer.zero_grad()\n",
    "        output = model(x_train)\n",
    "        #Loss\n",
    "        loss = criterion(output, y_train)\n",
    "        losses_value = loss.item()\n",
    "        #Score\n",
    "        score = accuracy_metric(output,y_train)\n",
    "        loss.backward()\n",
    "        optimizer.step()\n",
    "        train_loss.append(losses_value)\n",
    "        train_score.append(score.item())\n",
    "        #train_score.append(score)\n",
    "        pbar.set_description(f\"Epoch: {epoch+1}, loss: {losses_value}, IoU: {score}\")\n",
    "\n",
    "    #<---------------Validation Loop---------------------->\n",
    "    with torch.no_grad():\n",
    "        for image,mask,fname in valid_loader:\n",
    "            image = torch.autograd.Variable(image).to(device)\n",
    "            mask = torch.autograd.Variable(mask).to(device)\n",
    "            output = model(image)\n",
    "            ## Compute Loss Value.\n",
    "            loss = criterion(output, mask)\n",
    "            losses_value = loss.item()\n",
    "            ## Compute Accuracy Score\n",
    "            score = accuracy_metric(output,mask)\n",
    "            valid_loss.append(losses_value)\n",
    "            valid_score.append(score.item())\n",
    "\n",
    "    total_train_loss.append(np.mean(train_loss))\n",
    "    total_train_score.append(np.mean(train_score))\n",
    "    total_valid_loss.append(np.mean(valid_loss))\n",
    "    total_valid_score.append(np.mean(valid_score))\n",
    "    print(f\"\\n###############Train Loss: {total_train_loss[-1]}, Train IOU: {total_train_score[-1]}###############\")\n",
    "    print(f\"###############Valid Loss: {total_valid_loss[-1]}, Valid IOU: {total_valid_score[-1]}###############\")\n",
    "\n",
    "    #Save best model Checkpoint\n",
    "    # create checkpoint variable and add important data\n",
    "    checkpoint = {\n",
    "        'epoch': epoch + 1,\n",
    "        'valid_loss_min': total_valid_loss[-1],\n",
    "        'state_dict': model.state_dict(),\n",
    "        'optimizer': optimizer.state_dict(),\n",
    "    }\n",
    "    \n",
    "    # save checkpoint\n",
    "    save_ckp(checkpoint, False, checkpoint_path, best_model_path)\n",
    "    \n",
    "    ## TODO: save the model if validation loss has decreased\n",
    "    if total_valid_loss[-1] <= valid_loss_min:\n",
    "        print('Validation loss decreased ({:.6f} --> {:.6f}).  Saving model ...'.format(valid_loss_min,total_valid_loss[-1]))\n",
    "        # save checkpoint as best model\n",
    "        save_ckp(checkpoint, True, checkpoint_path, best_model_path)\n",
    "        valid_loss_min = total_valid_loss[-1]"
   ]
  }
 ],
 "metadata": {
  "kernelspec": {
   "display_name": "Python 3 (ipykernel)",
   "language": "python",
   "name": "python3"
  },
  "language_info": {
   "codemirror_mode": {
    "name": "ipython",
    "version": 3
   },
   "file_extension": ".py",
   "mimetype": "text/x-python",
   "name": "python",
   "nbconvert_exporter": "python",
   "pygments_lexer": "ipython3",
   "version": "3.8.10"
  }
 },
 "nbformat": 4,
 "nbformat_minor": 5
}
