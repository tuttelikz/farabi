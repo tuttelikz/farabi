{
 "cells": [
  {
   "cell_type": "code",
   "execution_count": 1,
   "id": "6549c9c2-da4e-4c93-9dbc-9039364b78bf",
   "metadata": {},
   "outputs": [],
   "source": [
    "from farabio.data.biodatasets import VinBigDataset"
   ]
  },
  {
   "cell_type": "code",
   "execution_count": 2,
   "id": "dc44a5a6-894a-43ce-beb8-7470d6c315cc",
   "metadata": {},
   "outputs": [
    {
     "name": "stderr",
     "output_type": "stream",
     "text": [
      "/home/suzy/gitrepos/tuttelikz/farabio/farabio/data/biodatasets.py:994: SettingWithCopyWarning: \n",
      "A value is trying to be set on a copy of a slice from a DataFrame.\n",
      "Try using .loc[row_indexer,col_indexer] = value instead\n",
      "\n",
      "See the caveats in the documentation: https://pandas.pydata.org/pandas-docs/stable/user_guide/indexing.html#returning-a-view-versus-a-copy\n",
      "  train_df[\"class_id\"] = train_df[\"class_id\"].apply(lambda x: x+1)\n",
      "/home/suzy/gitrepos/tuttelikz/farabio/farabio/data/biodatasets.py:995: SettingWithCopyWarning: \n",
      "A value is trying to be set on a copy of a slice from a DataFrame.\n",
      "Try using .loc[row_indexer,col_indexer] = value instead\n",
      "\n",
      "See the caveats in the documentation: https://pandas.pydata.org/pandas-docs/stable/user_guide/indexing.html#returning-a-view-versus-a-copy\n",
      "  valid_df[\"class_id\"] = valid_df[\"class_id\"].apply(lambda x: x+1)\n"
     ]
    }
   ],
   "source": [
    "_path = \"/home/data/07_SSD4TB/public-datasets/vinbigdata-chest-xray-abnormalities-detection\"\n",
    "\n",
    "train_dataset = VinBigDataset(_path, transform=None, download=False, mode=\"train\", show=False)"
   ]
  },
  {
   "cell_type": "code",
   "execution_count": 3,
   "id": "c200bc96-9459-4aff-a445-d2fbd5e050ae",
   "metadata": {},
   "outputs": [
    {
     "name": "stderr",
     "output_type": "stream",
     "text": [
      "/home/suzy/miniconda3/envs/fclean/lib/python3.8/site-packages/pydicom/pixel_data_handlers/pillow_handler.py:238: UserWarning: The (0028,0101) 'Bits Stored' value (12-bit) doesn't match the JPEG 2000 data (16-bit). It's recommended that you change the 'Bits Stored' value\n",
      "  warnings.warn(\n"
     ]
    },
    {
     "data": {
      "text/plain": [
       "(array([[[6.2271066e-02, 6.2271066e-02, 6.2271066e-02],\n",
       "         [6.2271066e-02, 6.2271066e-02, 6.2271066e-02],\n",
       "         [0.0000000e+00, 0.0000000e+00, 0.0000000e+00],\n",
       "         ...,\n",
       "         [0.0000000e+00, 0.0000000e+00, 0.0000000e+00],\n",
       "         [0.0000000e+00, 0.0000000e+00, 0.0000000e+00],\n",
       "         [0.0000000e+00, 0.0000000e+00, 0.0000000e+00]],\n",
       " \n",
       "        [[6.2271066e-02, 6.2271066e-02, 6.2271066e-02],\n",
       "         [0.0000000e+00, 0.0000000e+00, 0.0000000e+00],\n",
       "         [0.0000000e+00, 0.0000000e+00, 0.0000000e+00],\n",
       "         ...,\n",
       "         [0.0000000e+00, 0.0000000e+00, 0.0000000e+00],\n",
       "         [0.0000000e+00, 0.0000000e+00, 0.0000000e+00],\n",
       "         [0.0000000e+00, 0.0000000e+00, 0.0000000e+00]],\n",
       " \n",
       "        [[0.0000000e+00, 0.0000000e+00, 0.0000000e+00],\n",
       "         [0.0000000e+00, 0.0000000e+00, 0.0000000e+00],\n",
       "         [0.0000000e+00, 0.0000000e+00, 0.0000000e+00],\n",
       "         ...,\n",
       "         [0.0000000e+00, 0.0000000e+00, 0.0000000e+00],\n",
       "         [0.0000000e+00, 0.0000000e+00, 0.0000000e+00],\n",
       "         [0.0000000e+00, 0.0000000e+00, 0.0000000e+00]],\n",
       " \n",
       "        ...,\n",
       " \n",
       "        [[2.5500000e+02, 2.5500000e+02, 2.5500000e+02],\n",
       "         [0.0000000e+00, 0.0000000e+00, 0.0000000e+00],\n",
       "         [7.8523811e+01, 7.8523811e+01, 7.8523811e+01],\n",
       "         ...,\n",
       "         [2.8021979e+00, 2.8021979e+00, 2.8021979e+00],\n",
       "         [1.7435898e+00, 1.7435898e+00, 1.7435898e+00],\n",
       "         [1.2454213e-01, 1.2454213e-01, 1.2454213e-01]],\n",
       " \n",
       "        [[2.5500000e+02, 2.5500000e+02, 2.5500000e+02],\n",
       "         [0.0000000e+00, 0.0000000e+00, 0.0000000e+00],\n",
       "         [7.7340660e+01, 7.7340660e+01, 7.7340660e+01],\n",
       "         ...,\n",
       "         [3.0512822e+00, 3.0512822e+00, 3.0512822e+00],\n",
       "         [1.9304029e+00, 1.9304029e+00, 1.9304029e+00],\n",
       "         [4.3589744e-01, 4.3589744e-01, 4.3589744e-01]],\n",
       " \n",
       "        [[2.5500000e+02, 2.5500000e+02, 2.5500000e+02],\n",
       "         [0.0000000e+00, 0.0000000e+00, 0.0000000e+00],\n",
       "         [7.9333336e+01, 7.9333336e+01, 7.9333336e+01],\n",
       "         ...,\n",
       "         [3.4871795e+00, 3.4871795e+00, 3.4871795e+00],\n",
       "         [2.0549452e+00, 2.0549452e+00, 2.0549452e+00],\n",
       "         [6.8498170e-01, 6.8498170e-01, 6.8498170e-01]]], dtype=float32),\n",
       " {'boxes': array([[ 691., 1375., 1653., 1831.],\n",
       "         [1789., 1729., 1875., 1992.],\n",
       "         [1789., 1729., 1875., 1992.],\n",
       "         [ 692., 1375., 1657., 1799.],\n",
       "         [ 689., 1313., 1666., 1763.],\n",
       "         [1052.,  715., 1299.,  966.]]),\n",
       "  'labels': tensor([ 5, 12, 13,  5,  5,  2]),\n",
       "  'image_id': tensor([0]),\n",
       "  'area': tensor([438672.,  22618.,  22618., 409160., 439650.,  61997.]),\n",
       "  'iscrowd': tensor([0, 0, 0, 0, 0, 0])},\n",
       " '9a5094b2563a1ef3ff50dc5c7ff71345')"
      ]
     },
     "execution_count": 3,
     "metadata": {},
     "output_type": "execute_result"
    }
   ],
   "source": [
    "next(iter(train_dataset))"
   ]
  },
  {
   "cell_type": "code",
   "execution_count": null,
   "id": "c435da14-19ec-4372-8420-09cd4e87769b",
   "metadata": {},
   "outputs": [],
   "source": []
  },
  {
   "cell_type": "code",
   "execution_count": 1,
   "id": "5d290062-71bd-478f-af39-105a7044332b",
   "metadata": {},
   "outputs": [
    {
     "name": "stdout",
     "output_type": "stream",
     "text": [
      "1.9.0+cu111\n"
     ]
    }
   ],
   "source": [
    "import torch\n",
    "print(torch.__version__)"
   ]
  },
  {
   "cell_type": "code",
   "execution_count": null,
   "id": "88746871-c8e9-4934-b2b1-f5a38e3826e8",
   "metadata": {},
   "outputs": [],
   "source": []
  },
  {
   "cell_type": "code",
   "execution_count": null,
   "id": "64ff250f-219b-4f30-959d-03daa0e1202d",
   "metadata": {},
   "outputs": [],
   "source": []
  },
  {
   "cell_type": "code",
   "execution_count": null,
   "id": "db3553f9-2eb4-431a-a1ca-c10e64890605",
   "metadata": {},
   "outputs": [],
   "source": []
  },
  {
   "cell_type": "code",
   "execution_count": null,
   "id": "ee9a08e8-3652-4940-8470-ef2b14043dee",
   "metadata": {},
   "outputs": [],
   "source": []
  },
  {
   "cell_type": "code",
   "execution_count": null,
   "id": "7245755a-0966-45bc-93f4-06cbee1d491c",
   "metadata": {},
   "outputs": [],
   "source": []
  },
  {
   "cell_type": "code",
   "execution_count": null,
   "id": "4e7167f5-e8ff-4e72-a22a-35cc052dc07d",
   "metadata": {},
   "outputs": [],
   "source": []
  },
  {
   "cell_type": "code",
   "execution_count": null,
   "id": "acc870c3-78a5-42ff-96de-b2822510afe7",
   "metadata": {},
   "outputs": [],
   "source": []
  },
  {
   "cell_type": "code",
   "execution_count": null,
   "id": "11e84cf7-576c-4637-84c6-3f2a9829316d",
   "metadata": {},
   "outputs": [],
   "source": []
  },
  {
   "cell_type": "code",
   "execution_count": null,
   "id": "3c4c867e-3bad-425b-816c-5fa762cf681a",
   "metadata": {},
   "outputs": [],
   "source": []
  },
  {
   "cell_type": "code",
   "execution_count": null,
   "id": "b6bd7217-3022-4305-bf30-5c0b58d3ecb6",
   "metadata": {},
   "outputs": [],
   "source": []
  },
  {
   "cell_type": "code",
   "execution_count": null,
   "id": "2cd3f18e-0efd-4bd1-af9a-30058208ca5a",
   "metadata": {},
   "outputs": [],
   "source": []
  },
  {
   "cell_type": "code",
   "execution_count": null,
   "id": "44956d21-b9fc-4cf1-8e57-9cb2ee213083",
   "metadata": {},
   "outputs": [],
   "source": []
  },
  {
   "cell_type": "code",
   "execution_count": null,
   "id": "177dd756-f461-40ae-bb1d-6da6fcc96687",
   "metadata": {},
   "outputs": [],
   "source": []
  },
  {
   "cell_type": "code",
   "execution_count": null,
   "id": "afd3622d-18fe-478b-a077-940b4e1d2ef5",
   "metadata": {},
   "outputs": [],
   "source": []
  },
  {
   "cell_type": "code",
   "execution_count": null,
   "id": "fb8952ea-c55f-4cf7-a3dd-9d6aeed4a6a4",
   "metadata": {},
   "outputs": [],
   "source": []
  },
  {
   "cell_type": "code",
   "execution_count": 4,
   "id": "1b6c58eb-ff80-49ff-bf34-11c1aacf977a",
   "metadata": {},
   "outputs": [],
   "source": [
    "import os\n",
    "import subprocess\n",
    "from zipfile import ZipFile"
   ]
  },
  {
   "cell_type": "code",
   "execution_count": 9,
   "id": "bef40952-7d13-4f53-9e0c-96e4dfd371c0",
   "metadata": {},
   "outputs": [
    {
     "name": "stdout",
     "output_type": "stream",
     "text": [
      "as\n"
     ]
    }
   ],
   "source": [
    "print(\"as\")"
   ]
  },
  {
   "cell_type": "code",
   "execution_count": 10,
   "id": "03dfbd43-4bf5-4e14-9142-c98e78876e71",
   "metadata": {},
   "outputs": [],
   "source": [
    "def download_datasets(tag, path=\".\"):\n",
    "    \"\"\"Helper function to download datasets\n",
    "    Parameters\n",
    "    ----------\n",
    "    tag : str\n",
    "        tag for dataset\n",
    "        .. note::\n",
    "            available tags:\n",
    "            kaggle_biodatasets = [\n",
    "                \"aptos2019-blindness-detection\",\n",
    "                \"chest-xray-pneumonia\",\n",
    "                \"data-science-bowl-2018\",\n",
    "                \"histopathologic-cancer-detection\",\n",
    "                \"intel-mobileodt-cervical-cancer-screening\",\n",
    "                \"ranzcr-clip-catheter-line-classification\",\n",
    "                \"skin-cancer-mnist\",\n",
    "                \"vinbigdata-chest-xray-abnormalities-detection\"\n",
    "            ]\n",
    "    path : str, optional\n",
    "        path where to save dataset, by default \".\"\n",
    "    Examples\n",
    "    ----------\n",
    "    >>> download_datasets(tag=\"skin-cancer-mnist\", path=\".\")\n",
    "    \"\"\"\n",
    "    if tag == \"chest-xray-pneumonia\":\n",
    "        bash_c_tag = [\"kaggle\", \"datasets\", \"download\",\n",
    "                      \"-d\", \"paultimothymooney/chest-xray-pneumonia\"]\n",
    "    elif tag == \"skin-cancer-mnist\":\n",
    "        bash_c_tag = [\"kaggle\", \"datasets\", \"download\",\n",
    "                      \"-d\", \"kmader/skin-cancer-mnist-ham10000\"]\n",
    "    else:\n",
    "        bash_c = [\"kaggle\", \"competitions\", \"download\", \"-c\"]\n",
    "        bash_c_tag = bash_c.copy()\n",
    "        bash_c_tag.append(tag)\n",
    "\n",
    "    prev_cwd = os.getcwd()\n",
    "    os.chdir(path)\n",
    "    process = subprocess.Popen(bash_c_tag, stdout=subprocess.PIPE)\n",
    "    output, error = process.communicate()\n",
    "    print(output)\n",
    "\n",
    "    os.chdir(prev_cwd)"
   ]
  },
  {
   "cell_type": "code",
   "execution_count": 13,
   "id": "eaff5603-3c9c-475b-8dc2-f20a595c9cfd",
   "metadata": {},
   "outputs": [],
   "source": [
    "#download_datasets(\"vinbigdata-chest-xray-abnormalities-detection\", \"/home/data/07_SSD4TB/public-datasets/example\")"
   ]
  },
  {
   "cell_type": "code",
   "execution_count": null,
   "id": "d8e8a2e2-9c19-4bd3-9a9f-19ff29e2b9c6",
   "metadata": {},
   "outputs": [],
   "source": [
    "download_datasets(tag, path=root)\n",
    "            extract_zip(os.path.join(root, tag+\".zip\"),\n",
    "                        os.path.join(root, tag))"
   ]
  },
  {
   "cell_type": "code",
   "execution_count": null,
   "id": "35cd72bf-f645-4747-9f1b-0c914b1d3b6e",
   "metadata": {},
   "outputs": [],
   "source": []
  },
  {
   "cell_type": "code",
   "execution_count": 2,
   "id": "a4195659-f926-4372-a76d-7de765543ca2",
   "metadata": {},
   "outputs": [],
   "source": [
    "def extract_zip(fzip, fnew=None):\n",
    "    with ZipFile(fzip, 'r') as zip:  # ZipFile(fzip, 'r') as zip:\n",
    "        print('Extracting all the train files now...')\n",
    "        zip.extractall(fnew)\n",
    "        print('Done!')\n",
    "        "
   ]
  },
  {
   "cell_type": "code",
   "execution_count": 7,
   "id": "562a9371-2679-4e0b-b18c-fdd5485fa0fe",
   "metadata": {},
   "outputs": [
    {
     "name": "stdout",
     "output_type": "stream",
     "text": [
      "Extracting all the train files now...\n"
     ]
    },
    {
     "ename": "KeyboardInterrupt",
     "evalue": "",
     "output_type": "error",
     "traceback": [
      "\u001b[0;31m---------------------------------------------------------------------------\u001b[0m",
      "\u001b[0;31mKeyboardInterrupt\u001b[0m                         Traceback (most recent call last)",
      "\u001b[0;32m/tmp/ipykernel_2173249/4137023780.py\u001b[0m in \u001b[0;36m<module>\u001b[0;34m\u001b[0m\n\u001b[1;32m      7\u001b[0m \u001b[0m_tag\u001b[0m \u001b[0;34m=\u001b[0m \u001b[0;34m\"vinbigdata-chest-xray-abnormalities-detection\"\u001b[0m\u001b[0;34m\u001b[0m\u001b[0;34m\u001b[0m\u001b[0m\n\u001b[1;32m      8\u001b[0m \u001b[0;34m\u001b[0m\u001b[0m\n\u001b[0;32m----> 9\u001b[0;31m extract_zip(os.path.join(_root, _tag + \".zip\"),\n\u001b[0m\u001b[1;32m     10\u001b[0m             os.path.join(_root, _tag))\n",
      "\u001b[0;32m/tmp/ipykernel_2173249/1553503021.py\u001b[0m in \u001b[0;36mextract_zip\u001b[0;34m(fzip, fnew)\u001b[0m\n\u001b[1;32m      2\u001b[0m     \u001b[0;32mwith\u001b[0m \u001b[0mZipFile\u001b[0m\u001b[0;34m(\u001b[0m\u001b[0mfzip\u001b[0m\u001b[0;34m,\u001b[0m \u001b[0;34m'r'\u001b[0m\u001b[0;34m)\u001b[0m \u001b[0;32mas\u001b[0m \u001b[0mzip\u001b[0m\u001b[0;34m:\u001b[0m  \u001b[0;31m# ZipFile(fzip, 'r') as zip:\u001b[0m\u001b[0;34m\u001b[0m\u001b[0;34m\u001b[0m\u001b[0m\n\u001b[1;32m      3\u001b[0m         \u001b[0mprint\u001b[0m\u001b[0;34m(\u001b[0m\u001b[0;34m'Extracting all the train files now...'\u001b[0m\u001b[0;34m)\u001b[0m\u001b[0;34m\u001b[0m\u001b[0;34m\u001b[0m\u001b[0m\n\u001b[0;32m----> 4\u001b[0;31m         \u001b[0mzip\u001b[0m\u001b[0;34m.\u001b[0m\u001b[0mextractall\u001b[0m\u001b[0;34m(\u001b[0m\u001b[0mfnew\u001b[0m\u001b[0;34m)\u001b[0m\u001b[0;34m\u001b[0m\u001b[0;34m\u001b[0m\u001b[0m\n\u001b[0m\u001b[1;32m      5\u001b[0m         \u001b[0mprint\u001b[0m\u001b[0;34m(\u001b[0m\u001b[0;34m'Done!'\u001b[0m\u001b[0;34m)\u001b[0m\u001b[0;34m\u001b[0m\u001b[0;34m\u001b[0m\u001b[0m\n",
      "\u001b[0;32m~/miniconda3/envs/mobile-ai/lib/python3.8/zipfile.py\u001b[0m in \u001b[0;36mextractall\u001b[0;34m(self, path, members, pwd)\u001b[0m\n\u001b[1;32m   1645\u001b[0m \u001b[0;34m\u001b[0m\u001b[0m\n\u001b[1;32m   1646\u001b[0m         \u001b[0;32mfor\u001b[0m \u001b[0mzipinfo\u001b[0m \u001b[0;32min\u001b[0m \u001b[0mmembers\u001b[0m\u001b[0;34m:\u001b[0m\u001b[0;34m\u001b[0m\u001b[0;34m\u001b[0m\u001b[0m\n\u001b[0;32m-> 1647\u001b[0;31m             \u001b[0mself\u001b[0m\u001b[0;34m.\u001b[0m\u001b[0m_extract_member\u001b[0m\u001b[0;34m(\u001b[0m\u001b[0mzipinfo\u001b[0m\u001b[0;34m,\u001b[0m \u001b[0mpath\u001b[0m\u001b[0;34m,\u001b[0m \u001b[0mpwd\u001b[0m\u001b[0;34m)\u001b[0m\u001b[0;34m\u001b[0m\u001b[0;34m\u001b[0m\u001b[0m\n\u001b[0m\u001b[1;32m   1648\u001b[0m \u001b[0;34m\u001b[0m\u001b[0m\n\u001b[1;32m   1649\u001b[0m     \u001b[0;34m@\u001b[0m\u001b[0mclassmethod\u001b[0m\u001b[0;34m\u001b[0m\u001b[0;34m\u001b[0m\u001b[0m\n",
      "\u001b[0;32m~/miniconda3/envs/mobile-ai/lib/python3.8/zipfile.py\u001b[0m in \u001b[0;36m_extract_member\u001b[0;34m(self, member, targetpath, pwd)\u001b[0m\n\u001b[1;32m   1700\u001b[0m         \u001b[0;32mwith\u001b[0m \u001b[0mself\u001b[0m\u001b[0;34m.\u001b[0m\u001b[0mopen\u001b[0m\u001b[0;34m(\u001b[0m\u001b[0mmember\u001b[0m\u001b[0;34m,\u001b[0m \u001b[0mpwd\u001b[0m\u001b[0;34m=\u001b[0m\u001b[0mpwd\u001b[0m\u001b[0;34m)\u001b[0m \u001b[0;32mas\u001b[0m \u001b[0msource\u001b[0m\u001b[0;34m,\u001b[0m\u001b[0;31m \u001b[0m\u001b[0;31m\\\u001b[0m\u001b[0;34m\u001b[0m\u001b[0;34m\u001b[0m\u001b[0m\n\u001b[1;32m   1701\u001b[0m              \u001b[0mopen\u001b[0m\u001b[0;34m(\u001b[0m\u001b[0mtargetpath\u001b[0m\u001b[0;34m,\u001b[0m \u001b[0;34m\"wb\"\u001b[0m\u001b[0;34m)\u001b[0m \u001b[0;32mas\u001b[0m \u001b[0mtarget\u001b[0m\u001b[0;34m:\u001b[0m\u001b[0;34m\u001b[0m\u001b[0;34m\u001b[0m\u001b[0m\n\u001b[0;32m-> 1702\u001b[0;31m             \u001b[0mshutil\u001b[0m\u001b[0;34m.\u001b[0m\u001b[0mcopyfileobj\u001b[0m\u001b[0;34m(\u001b[0m\u001b[0msource\u001b[0m\u001b[0;34m,\u001b[0m \u001b[0mtarget\u001b[0m\u001b[0;34m)\u001b[0m\u001b[0;34m\u001b[0m\u001b[0;34m\u001b[0m\u001b[0m\n\u001b[0m\u001b[1;32m   1703\u001b[0m \u001b[0;34m\u001b[0m\u001b[0m\n\u001b[1;32m   1704\u001b[0m         \u001b[0;32mreturn\u001b[0m \u001b[0mtargetpath\u001b[0m\u001b[0;34m\u001b[0m\u001b[0;34m\u001b[0m\u001b[0m\n",
      "\u001b[0;32m~/miniconda3/envs/mobile-ai/lib/python3.8/shutil.py\u001b[0m in \u001b[0;36mcopyfileobj\u001b[0;34m(fsrc, fdst, length)\u001b[0m\n\u001b[1;32m    203\u001b[0m     \u001b[0mfdst_write\u001b[0m \u001b[0;34m=\u001b[0m \u001b[0mfdst\u001b[0m\u001b[0;34m.\u001b[0m\u001b[0mwrite\u001b[0m\u001b[0;34m\u001b[0m\u001b[0;34m\u001b[0m\u001b[0m\n\u001b[1;32m    204\u001b[0m     \u001b[0;32mwhile\u001b[0m \u001b[0;32mTrue\u001b[0m\u001b[0;34m:\u001b[0m\u001b[0;34m\u001b[0m\u001b[0;34m\u001b[0m\u001b[0m\n\u001b[0;32m--> 205\u001b[0;31m         \u001b[0mbuf\u001b[0m \u001b[0;34m=\u001b[0m \u001b[0mfsrc_read\u001b[0m\u001b[0;34m(\u001b[0m\u001b[0mlength\u001b[0m\u001b[0;34m)\u001b[0m\u001b[0;34m\u001b[0m\u001b[0;34m\u001b[0m\u001b[0m\n\u001b[0m\u001b[1;32m    206\u001b[0m         \u001b[0;32mif\u001b[0m \u001b[0;32mnot\u001b[0m \u001b[0mbuf\u001b[0m\u001b[0;34m:\u001b[0m\u001b[0;34m\u001b[0m\u001b[0;34m\u001b[0m\u001b[0m\n\u001b[1;32m    207\u001b[0m             \u001b[0;32mbreak\u001b[0m\u001b[0;34m\u001b[0m\u001b[0;34m\u001b[0m\u001b[0m\n",
      "\u001b[0;32m~/miniconda3/envs/mobile-ai/lib/python3.8/zipfile.py\u001b[0m in \u001b[0;36mread\u001b[0;34m(self, n)\u001b[0m\n\u001b[1;32m    938\u001b[0m         \u001b[0mself\u001b[0m\u001b[0;34m.\u001b[0m\u001b[0m_offset\u001b[0m \u001b[0;34m=\u001b[0m \u001b[0;36m0\u001b[0m\u001b[0;34m\u001b[0m\u001b[0;34m\u001b[0m\u001b[0m\n\u001b[1;32m    939\u001b[0m         \u001b[0;32mwhile\u001b[0m \u001b[0mn\u001b[0m \u001b[0;34m>\u001b[0m \u001b[0;36m0\u001b[0m \u001b[0;32mand\u001b[0m \u001b[0;32mnot\u001b[0m \u001b[0mself\u001b[0m\u001b[0;34m.\u001b[0m\u001b[0m_eof\u001b[0m\u001b[0;34m:\u001b[0m\u001b[0;34m\u001b[0m\u001b[0;34m\u001b[0m\u001b[0m\n\u001b[0;32m--> 940\u001b[0;31m             \u001b[0mdata\u001b[0m \u001b[0;34m=\u001b[0m \u001b[0mself\u001b[0m\u001b[0;34m.\u001b[0m\u001b[0m_read1\u001b[0m\u001b[0;34m(\u001b[0m\u001b[0mn\u001b[0m\u001b[0;34m)\u001b[0m\u001b[0;34m\u001b[0m\u001b[0;34m\u001b[0m\u001b[0m\n\u001b[0m\u001b[1;32m    941\u001b[0m             \u001b[0;32mif\u001b[0m \u001b[0mn\u001b[0m \u001b[0;34m<\u001b[0m \u001b[0mlen\u001b[0m\u001b[0;34m(\u001b[0m\u001b[0mdata\u001b[0m\u001b[0;34m)\u001b[0m\u001b[0;34m:\u001b[0m\u001b[0;34m\u001b[0m\u001b[0;34m\u001b[0m\u001b[0m\n\u001b[1;32m    942\u001b[0m                 \u001b[0mself\u001b[0m\u001b[0;34m.\u001b[0m\u001b[0m_readbuffer\u001b[0m \u001b[0;34m=\u001b[0m \u001b[0mdata\u001b[0m\u001b[0;34m\u001b[0m\u001b[0;34m\u001b[0m\u001b[0m\n",
      "\u001b[0;32m~/miniconda3/envs/mobile-ai/lib/python3.8/zipfile.py\u001b[0m in \u001b[0;36m_read1\u001b[0;34m(self, n)\u001b[0m\n\u001b[1;32m   1014\u001b[0m         \u001b[0;32melif\u001b[0m \u001b[0mself\u001b[0m\u001b[0;34m.\u001b[0m\u001b[0m_compress_type\u001b[0m \u001b[0;34m==\u001b[0m \u001b[0mZIP_DEFLATED\u001b[0m\u001b[0;34m:\u001b[0m\u001b[0;34m\u001b[0m\u001b[0;34m\u001b[0m\u001b[0m\n\u001b[1;32m   1015\u001b[0m             \u001b[0mn\u001b[0m \u001b[0;34m=\u001b[0m \u001b[0mmax\u001b[0m\u001b[0;34m(\u001b[0m\u001b[0mn\u001b[0m\u001b[0;34m,\u001b[0m \u001b[0mself\u001b[0m\u001b[0;34m.\u001b[0m\u001b[0mMIN_READ_SIZE\u001b[0m\u001b[0;34m)\u001b[0m\u001b[0;34m\u001b[0m\u001b[0;34m\u001b[0m\u001b[0m\n\u001b[0;32m-> 1016\u001b[0;31m             \u001b[0mdata\u001b[0m \u001b[0;34m=\u001b[0m \u001b[0mself\u001b[0m\u001b[0;34m.\u001b[0m\u001b[0m_decompressor\u001b[0m\u001b[0;34m.\u001b[0m\u001b[0mdecompress\u001b[0m\u001b[0;34m(\u001b[0m\u001b[0mdata\u001b[0m\u001b[0;34m,\u001b[0m \u001b[0mn\u001b[0m\u001b[0;34m)\u001b[0m\u001b[0;34m\u001b[0m\u001b[0;34m\u001b[0m\u001b[0m\n\u001b[0m\u001b[1;32m   1017\u001b[0m             self._eof = (self._decompressor.eof or\n\u001b[1;32m   1018\u001b[0m                          \u001b[0mself\u001b[0m\u001b[0;34m.\u001b[0m\u001b[0m_compress_left\u001b[0m \u001b[0;34m<=\u001b[0m \u001b[0;36m0\u001b[0m \u001b[0;32mand\u001b[0m\u001b[0;34m\u001b[0m\u001b[0;34m\u001b[0m\u001b[0m\n",
      "\u001b[0;31mKeyboardInterrupt\u001b[0m: "
     ]
    }
   ],
   "source": [
    "# extract_zip(os.path.join(root, tag+\".zip\"),\n",
    "#             os.path.join(root, tag))\n",
    "\n",
    "#\"/home/data/07_SSD4TB/public-datasets/example\"\n",
    "\n",
    "_root = \"/home/data/07_SSD4TB/public-datasets/example/\"\n",
    "_tag = \"vinbigdata-chest-xray-abnormalities-detection\"\n",
    "\n",
    "extract_zip(os.path.join(_root, _tag + \".zip\"),\n",
    "            os.path.join(_root, _tag))"
   ]
  },
  {
   "cell_type": "code",
   "execution_count": null,
   "id": "f1d3019a-1729-455c-9504-a469a3f4d849",
   "metadata": {},
   "outputs": [],
   "source": []
  },
  {
   "cell_type": "code",
   "execution_count": null,
   "id": "ce76efb5-bd83-4d31-93ff-c5fd516548df",
   "metadata": {},
   "outputs": [],
   "source": []
  },
  {
   "cell_type": "code",
   "execution_count": 1,
   "id": "c3735438-ac17-4096-9bf5-01184dc55b65",
   "metadata": {},
   "outputs": [
    {
     "name": "stdout",
     "output_type": "stream",
     "text": [
      "/home/suzy/gitrepos/tuttelikz/farabio/farabio/notebooks\n"
     ]
    }
   ],
   "source": [
    "!pwd"
   ]
  },
  {
   "cell_type": "code",
   "execution_count": null,
   "id": "2a8cac75-1ae4-4ec3-bd5d-9eb132e035a4",
   "metadata": {},
   "outputs": [],
   "source": []
  }
 ],
 "metadata": {
  "kernelspec": {
   "display_name": "Python 3 (ipykernel)",
   "language": "python",
   "name": "python3"
  },
  "language_info": {
   "codemirror_mode": {
    "name": "ipython",
    "version": 3
   },
   "file_extension": ".py",
   "mimetype": "text/x-python",
   "name": "python",
   "nbconvert_exporter": "python",
   "pygments_lexer": "ipython3",
   "version": "3.8.10"
  }
 },
 "nbformat": 4,
 "nbformat_minor": 5
}
