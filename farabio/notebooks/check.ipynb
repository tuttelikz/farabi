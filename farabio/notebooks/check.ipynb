{
 "cells": [
  {
   "cell_type": "code",
   "execution_count": 1,
   "id": "d86d7e9a-3412-4493-935b-64e6e1c3aea8",
   "metadata": {},
   "outputs": [],
   "source": [
    "import os\n",
    "import random\n",
    "import subprocess\n",
    "import numpy as np\n",
    "import pandas as pd\n",
    "from PIL import Image\n",
    "import albumentations as A\n",
    "from albumentations.pytorch import ToTensorV2\n",
    "from typing import Optional, Callable\n",
    "import matplotlib.pyplot as plt\n",
    "from skimage import io, transform\n",
    "from sklearn.model_selection import train_test_split\n",
    "from sklearn.preprocessing import OrdinalEncoder\n",
    "import torch\n",
    "from torch.utils.data import Dataset, DataLoader\n",
    "import torchvision\n",
    "import torchvision.transforms.functional as F\n",
    "from torchvision import transforms\n",
    "from torchvision.datasets import ImageFolder\n",
    "from torchvision.utils import draw_segmentation_masks\n",
    "from zipfile import ZipFile\n",
    "import glob\n",
    "import torchvision.models as models\n",
    "import torch.nn as nn"
   ]
  },
  {
   "cell_type": "code",
   "execution_count": 2,
   "id": "556aa599-818a-4844-ad82-706ebea01c0c",
   "metadata": {},
   "outputs": [],
   "source": [
    "_path_chest = \"/home/data/02_SSD4TB/suzy/datasets/public/chest-xray\"\n",
    "_path_dsb = \"/home/data/02_SSD4TB/suzy/datasets/public/data-science-bowl-2018\"\n",
    "_path_histo = \"/home/data/02_SSD4TB/suzy/datasets/public/histopathologic-cancer-detection\"\n",
    "_path_ranzcr = \"/home/data/02_SSD4TB/suzy/datasets/public/ranzcr-clip-catheter-line-classification\"\n",
    "_path_retina = \"/home/data/02_SSD4TB/suzy/datasets/public/aptos2019-blindness-detection\""
   ]
  },
  {
   "cell_type": "code",
   "execution_count": null,
   "id": "371f6959-6c2e-4e72-ac6b-cb9fa4c66e00",
   "metadata": {},
   "outputs": [],
   "source": []
  },
  {
   "cell_type": "code",
   "execution_count": null,
   "id": "51c8b7b5-7e98-46bd-a9b4-2c7bb9149c8b",
   "metadata": {},
   "outputs": [],
   "source": []
  },
  {
   "cell_type": "code",
   "execution_count": null,
   "id": "a7de38ee-a50d-48c0-b30d-626d0863e824",
   "metadata": {},
   "outputs": [],
   "source": []
  },
  {
   "cell_type": "code",
   "execution_count": null,
   "id": "4b6178fe-b417-4562-8429-71f413a4b242",
   "metadata": {},
   "outputs": [],
   "source": []
  },
  {
   "cell_type": "code",
   "execution_count": null,
   "id": "cee86b41-7d02-4eb6-baf2-9698ea11a79e",
   "metadata": {},
   "outputs": [],
   "source": []
  },
  {
   "cell_type": "code",
   "execution_count": null,
   "id": "dcf91df9-0e5b-4901-870e-92248f48289d",
   "metadata": {},
   "outputs": [],
   "source": []
  },
  {
   "cell_type": "code",
   "execution_count": null,
   "id": "b4bde0a4-5a02-4396-addb-5339346e01a6",
   "metadata": {},
   "outputs": [],
   "source": []
  },
  {
   "cell_type": "code",
   "execution_count": null,
   "id": "4c98cbb8-2bfe-4217-8503-9dd23a3844ef",
   "metadata": {},
   "outputs": [],
   "source": []
  }
 ],
 "metadata": {
  "kernelspec": {
   "display_name": "Python 3 (ipykernel)",
   "language": "python",
   "name": "python3"
  },
  "language_info": {
   "codemirror_mode": {
    "name": "ipython",
    "version": 3
   },
   "file_extension": ".py",
   "mimetype": "text/x-python",
   "name": "python",
   "nbconvert_exporter": "python",
   "pygments_lexer": "ipython3",
   "version": "3.8.10"
  }
 },
 "nbformat": 4,
 "nbformat_minor": 5
}
