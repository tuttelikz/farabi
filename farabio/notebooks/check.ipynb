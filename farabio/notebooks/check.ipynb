{
 "cells": [
  {
   "cell_type": "code",
   "execution_count": 1,
   "metadata": {},
   "outputs": [],
   "source": [
    "import os\n",
    "import torchvision\n",
    "from farabio.data.biodatasets import ChestXrayDataset\n",
    "from torch.utils.data import Dataset, DataLoader\n",
    "import matplotlib.pyplot as plt\n",
    "import numpy as np\n",
    "import albumentations as A\n",
    "from torchvision import transforms\n",
    "from albumentations.pytorch import ToTensorV2\n",
    "import random\n",
    "from skimage import io, transform\n",
    "import torch\n",
    "import numpy as np\n",
    "import matplotlib.pyplot as plt\n",
    "from PIL import Image\n",
    "import torchvision.transforms.functional as F"
   ]
  },
  {
   "cell_type": "code",
   "execution_count": 2,
   "metadata": {},
   "outputs": [],
   "source": [
    "# from original work"
   ]
  },
  {
   "cell_type": "code",
   "execution_count": 3,
   "metadata": {
    "tags": []
   },
   "outputs": [],
   "source": [
    "class DSB18Dataset(Dataset):\n",
    "    r\"\"\"PyTorch friendly DSB18Dataset class\n",
    "\n",
    "    Dataset is loaded using Kaggle API.\n",
    "    For further information on raw dataset and nuclei segmentation, please refer to [1]_.\n",
    "\n",
    "    Examples\n",
    "    ----------\n",
    "    >>> train_dataset = DSB18Dataset(root=\".\", transform=None, download=False)\n",
    "    >>> train_dataset.visualize_dataset(5)\n",
    "\n",
    "    .. image:: ../imgs/DSB18Dataset.png\n",
    "        :width: 300\n",
    "\n",
    "    References\n",
    "    ---------------\n",
    "    .. [1] https://www.kaggle.com/c/data-science-bowl-2018/overview\n",
    "    \"\"\"\n",
    "\n",
    "    def __init__(self, root: str = \".\", download: bool = False, mode: str = \"train\", shape: int = 512, transform: transforms = None, target_transform: transforms = None, show: int = 5):\n",
    "    \n",
    "        tag = \"data-science-bowl-2018\"\n",
    "        modes = [\"train\", \"val\"]\n",
    "        assert mode in modes, \"Available options for mode: train, val\"\n",
    "\n",
    "        path = os.path.join(root, tag, \"stage1_train\")\n",
    "        if download:\n",
    "            download_datasets(tag, path=root)\n",
    "            extract_zip(os.path.join(root, tag+\".zip\"),\n",
    "                        os.path.join(root, tag))\n",
    "            extract_zip(os.path.join(root, tag, \"stage1_train.zip\"), path)\n",
    "        else:\n",
    "            path = os.path.join(root, \"stage1_train\")\n",
    "\n",
    "        self.path = path\n",
    "\n",
    "        if transform is None:\n",
    "            self.transforms = self.default_transform(shape)\n",
    "\n",
    "        self.folders = os.listdir(self.path)\n",
    "        self.shape = shape\n",
    "        self.visualize_dataset(show)\n",
    "\n",
    "    def __len__(self):\n",
    "        return len(self.folders)\n",
    "\n",
    "    def __getitem__(self, idx):\n",
    "        image_folder = os.path.join(self.path, self.folders[idx], 'images/')\n",
    "        mask_folder = os.path.join(self.path, self.folders[idx], 'masks/')\n",
    "        fname = os.listdir(image_folder)[0]\n",
    "        image_path = os.path.join(image_folder, fname)\n",
    "\n",
    "        img = io.imread(image_path)[:, :, :3].astype('float32')\n",
    "        img = transform.resize(img, (self.shape, self.shape))\n",
    "\n",
    "        mask = self.get_mask(mask_folder, self.shape,\n",
    "                             self.shape).astype('float32')\n",
    "\n",
    "        augmented = self.transforms(image=img, mask=mask)\n",
    "        img = augmented['image']\n",
    "        mask = augmented['mask']\n",
    "\n",
    "        mask = mask.permute(2, 0, 1)\n",
    "        return (img, mask, fname)\n",
    "\n",
    "    def get_mask(self, mask_folder, IMG_HEIGHT, IMG_WIDTH):\n",
    "        mask = np.zeros((IMG_HEIGHT, IMG_WIDTH, 1), dtype=bool)\n",
    "        for mask_ in os.listdir(mask_folder):\n",
    "            mask_ = io.imread(os.path.join(mask_folder, mask_))\n",
    "            mask_ = transform.resize(mask_, (IMG_HEIGHT, IMG_WIDTH))\n",
    "            mask_ = np.expand_dims(mask_, axis=-1)\n",
    "            mask = np.maximum(mask, mask_)\n",
    "\n",
    "        return mask\n",
    "\n",
    "    def default_transform(self, img_shape):\n",
    "        return A.Compose([\n",
    "            A.Resize(img_shape, img_shape),\n",
    "            A.Normalize(mean=(0.485, 0.456, 0.406),\n",
    "                        std=(0.229, 0.224, 0.225)),\n",
    "            A.HorizontalFlip(p=0.25),\n",
    "            A.VerticalFlip(p=0.25),\n",
    "            ToTensorV2()\n",
    "        ])\n",
    "\n",
    "    def visualize_dataset(self, n_images, predict=None):\n",
    "        \"\"\"\n",
    "        Function to visualize images and masks\n",
    "        \"\"\"\n",
    "        images = random.sample(range(0, 670), n_images)\n",
    "        figure, ax = plt.subplots(nrows=len(images), ncols=2, figsize=(5, 8))\n",
    "        for i in range(0, len(images)):\n",
    "            img_no = images[i]\n",
    "            image, mask, fname = self.__getitem__(img_no)\n",
    "            image = self.format_image(image)\n",
    "            mask = self.format_mask(mask)\n",
    "            ax[i, 0].imshow(image)\n",
    "            ax[i, 1].imshow(mask, interpolation=\"nearest\", cmap=\"gray\")\n",
    "            ax[i, 0].set_title(\"Ground Truth Image\")\n",
    "            ax[i, 1].set_title(\"Mask\")\n",
    "            ax[i, 0].set_axis_off()\n",
    "            ax[i, 1].set_axis_off()\n",
    "            plt.tight_layout()\n",
    "\n",
    "        return plt\n",
    "\n",
    "    @staticmethod\n",
    "    def format_image(img):\n",
    "        img = np.array(np.transpose(img, (1, 2, 0)))\n",
    "        mean = np.array((0.485, 0.456, 0.406))\n",
    "        std = np.array((0.229, 0.224, 0.225))\n",
    "        img = std * img + mean\n",
    "        img = img*255\n",
    "        img = img.astype(np.uint8)\n",
    "        return img\n",
    "\n",
    "    @staticmethod\n",
    "    def format_mask(mask):\n",
    "        mask = np.squeeze(np.transpose(mask, (1, 2, 0)))\n",
    "        return mask"
   ]
  },
  {
   "cell_type": "code",
   "execution_count": 4,
   "metadata": {},
   "outputs": [],
   "source": [
    "# dataset"
   ]
  },
  {
   "cell_type": "code",
   "execution_count": 576,
   "metadata": {},
   "outputs": [],
   "source": [
    "class DSB18Dataset(Dataset):\n",
    "    r\"\"\"PyTorch friendly DSB18Dataset class\n",
    "\n",
    "    Dataset is loaded using Kaggle API.\n",
    "    For further information on raw dataset and nuclei segmentation, please refer to [1]_.\n",
    "\n",
    "    Examples\n",
    "    ----------\n",
    "    >>> train_dataset = DSB18Dataset(root=\".\", transform=None, download=False)\n",
    "    >>> train_dataset.visualize_dataset(5)\n",
    "\n",
    "    .. image:: ../imgs/DSB18Dataset.png\n",
    "        :width: 300\n",
    "\n",
    "    References\n",
    "    ---------------\n",
    "    .. [1] https://www.kaggle.com/c/data-science-bowl-2018/overview\n",
    "    \"\"\"\n",
    "\n",
    "    def __init__(self, root: str = \".\", download: bool = False, mode: str = \"train\", shape: int = 512, transform: transform = None, target_transform: transforms = None, show: bool = True):\n",
    "    \n",
    "        tag = \"data-science-bowl-2018\"\n",
    "        modes = [\"train\", \"val\"]\n",
    "        assert mode in modes, \"Available options for mode: train, val\"\n",
    "\n",
    "        path = os.path.join(root, tag, \"stage1_train\")\n",
    "        if download:\n",
    "            download_datasets(tag, path=root)\n",
    "            extract_zip(os.path.join(root, tag+\".zip\"), os.path.join(root, tag))\n",
    "            extract_zip(os.path.join(root, tag, \"stage1_train.zip\"), path)\n",
    "        else:\n",
    "            path = os.path.join(root, \"stage1_train\")\n",
    "\n",
    "        self.path = path\n",
    "        self.folders = os.listdir(self.path)\n",
    "        self.shape = shape\n",
    "        \n",
    "        if transform is None:\n",
    "            self.transform = self.default_transform()\n",
    "        else:\n",
    "            self.transform = transform\n",
    "        \n",
    "        if target_transform is None:\n",
    "            self.target_transform = self.default_target_transform()\n",
    "        else:\n",
    "            self.target_transform = target_transform()\n",
    "        \n",
    "        if show:\n",
    "            self.visualize_batch()\n",
    "\n",
    "    def __len__(self):\n",
    "        return len(self.folders)\n",
    "\n",
    "    def __getitem__(self, idx):\n",
    "        image_folder = os.path.join(self.path, self.folders[idx], 'images/')\n",
    "        mask_folder = os.path.join(self.path, self.folders[idx], 'masks/')\n",
    "        \n",
    "        fname = os.listdir(image_folder)[0]\n",
    "        \n",
    "        image_path = os.path.join(image_folder, fname)\n",
    "        \n",
    "        img = Image.open(image_path).convert('RGB')\n",
    "        \n",
    "        mask = self.get_mask(mask_folder)\n",
    "        \n",
    "        img = self.transform(img)\n",
    "        mask = self.target_transform(mask)\n",
    "        \n",
    "        return img, mask, fname\n",
    "    \n",
    "    def get_mask(self, mask_folder):\n",
    "        mask = np.zeros((self.shape, self.shape, 1), dtype=bool)\n",
    "        for mask_ in os.listdir(mask_folder):\n",
    "            mask_ = io.imread(os.path.join(mask_folder, mask_))\n",
    "            mask_ = transform.resize(mask_, (self.shape, self.shape))\n",
    "            mask_ = np.expand_dims(mask_, axis=-1)\n",
    "            mask = np.maximum(mask, mask_)\n",
    "\n",
    "        return mask\n",
    "    \n",
    "    def default_transform(self):\n",
    "        transform = transforms.Compose([\n",
    "            transforms.ToTensor(),\n",
    "            transforms.Resize((self.shape, self.shape))\n",
    "        ])\n",
    "\n",
    "        return transform\n",
    "    \n",
    "    def default_target_transform(self):\n",
    "        target_transform = transforms.Compose([\n",
    "            transforms.ToTensor(),\n",
    "            transforms.Resize((self.shape, self.shape))\n",
    "        ])\n",
    "\n",
    "        return target_transform\n",
    "    \n",
    "    def visualize_batch(self):\n",
    "        loader = DataLoader(self, shuffle=True, batch_size=4)\n",
    "        imgs, masks, fnames = next(iter(loader))\n",
    "\n",
    "        batch_inputs = convert_image_dtype(imgs, dtype=torch.uint8)\n",
    "        batch_outputs = convert_image_dtype(masks, dtype=torch.bool)\n",
    "\n",
    "        cells_with_masks = [\n",
    "            draw_segmentation_masks(img, masks=mask, alpha=0.6, colors = (102,255,178))\n",
    "            for img, mask in zip(batch_inputs, batch_outputs)\n",
    "        ]\n",
    "\n",
    "        self.show(cells_with_masks, fnames)\n",
    "    \n",
    "    @staticmethod\n",
    "    def show(imgs, fnames):\n",
    "        if not isinstance(imgs, list):\n",
    "            imgs = [imgs]\n",
    "        fix, axs = plt.subplots(ncols=len(imgs), squeeze=False)\n",
    "        for i, img in enumerate(imgs):\n",
    "            img = img.detach()\n",
    "            img = F.to_pil_image(img)\n",
    "            axs[0, i].imshow(np.asarray(img))\n",
    "            axs[0, i].set(xticklabels=[], yticklabels=[], xticks=[], yticks=[])\n",
    "            axs[0,i].set_title(\"...\"+fnames[i][-10:-4])"
   ]
  },
  {
   "cell_type": "code",
   "execution_count": 583,
   "metadata": {},
   "outputs": [
    {
     "data": {
      "image/png": "[encoded data removed]",
      "text/plain": [
       "<Figure size 432x288 with 4 Axes>"
      ]
     },
     "metadata": {},
     "output_type": "display_data"
    }
   ],
   "source": [
    "_path = \"/home/data/02_SSD4TB/suzy/datasets/public/data-science-bowl-2018\"\n",
    "train_dataset = DSB18Dataset(_path, transform=None, download=False, show=True)"
   ]
  },
  {
   "cell_type": "code",
   "execution_count": null,
   "metadata": {},
   "outputs": [],
   "source": []
  },
  {
   "cell_type": "code",
   "execution_count": null,
   "metadata": {},
   "outputs": [],
   "source": []
  },
  {
   "cell_type": "code",
   "execution_count": null,
   "metadata": {},
   "outputs": [],
   "source": []
  },
  {
   "cell_type": "code",
   "execution_count": null,
   "metadata": {},
   "outputs": [],
   "source": []
  },
  {
   "cell_type": "code",
   "execution_count": null,
   "metadata": {},
   "outputs": [],
   "source": []
  },
  {
   "cell_type": "code",
   "execution_count": null,
   "metadata": {},
   "outputs": [],
   "source": [
    "#     def visualize_batch(self):\n",
    "#         loader = DataLoader(self, shuffle=True, batch_size=4)\n",
    "#         imgs = next(iter(loader))\n",
    "#         inputs = torchvision.utils.make_grid(imgs)\n",
    "#         plt.imshow(inputs.permute(1, 2, 0))"
   ]
  },
  {
   "cell_type": "code",
   "execution_count": null,
   "metadata": {},
   "outputs": [],
   "source": []
  },
  {
   "cell_type": "code",
   "execution_count": null,
   "metadata": {},
   "outputs": [],
   "source": []
  },
  {
   "cell_type": "code",
   "execution_count": null,
   "metadata": {},
   "outputs": [],
   "source": []
  },
  {
   "cell_type": "code",
   "execution_count": null,
   "metadata": {},
   "outputs": [],
   "source": []
  },
  {
   "cell_type": "code",
   "execution_count": 381,
   "metadata": {},
   "outputs": [],
   "source": [
    "loader = DataLoader(train_dataset, shuffle=True, batch_size=4)\n",
    "imgs, masks = next(iter(loader))"
   ]
  },
  {
   "cell_type": "code",
   "execution_count": 437,
   "metadata": {},
   "outputs": [],
   "source": [
    "inputs = torchvision.utils.make_grid(imgs)\n",
    "outputs = torchvision.utils.make_grid(masks)\n",
    "\n",
    "batch_inputs_uint = convert_image_dtype(imgs, dtype=torch.uint8)\n",
    "batch_outputs_bool = convert_image_dtype(masks, dtype=torch.bool)"
   ]
  },
  {
   "cell_type": "code",
   "execution_count": null,
   "metadata": {},
   "outputs": [],
   "source": []
  },
  {
   "cell_type": "code",
   "execution_count": 393,
   "metadata": {},
   "outputs": [
    {
     "data": {
      "text/plain": [
       "<matplotlib.image.AxesImage at 0x7f622ae0c0d0>"
      ]
     },
     "execution_count": 393,
     "metadata": {},
     "output_type": "execute_result"
    },
    {
     "data": {
      "image/png": "[encoded data removed]",
      "text/plain": [
       "<Figure size 432x288 with 1 Axes>"
      ]
     },
     "metadata": {
      "needs_background": "light"
     },
     "output_type": "display_data"
    }
   ],
   "source": [
    "#plt.imshow(inputs.permute(1,2,0))\n",
    "plt.imshow(outputs.permute(1,2,0).squeeze())"
   ]
  },
  {
   "cell_type": "code",
   "execution_count": 398,
   "metadata": {},
   "outputs": [
    {
     "ename": "ValueError",
     "evalue": "The image dtype must be uint8, got torch.float32",
     "output_type": "error",
     "traceback": [
      "\u001b[0;31m---------------------------------------------------------------------------\u001b[0m",
      "\u001b[0;31mValueError\u001b[0m                                Traceback (most recent call last)",
      "\u001b[0;32m/tmp/ipykernel_54173/444589557.py\u001b[0m in \u001b[0;36m<module>\u001b[0;34m\u001b[0m\n\u001b[1;32m      1\u001b[0m \u001b[0;32mfrom\u001b[0m \u001b[0mtorchvision\u001b[0m\u001b[0;34m.\u001b[0m\u001b[0mutils\u001b[0m \u001b[0;32mimport\u001b[0m \u001b[0mdraw_segmentation_masks\u001b[0m\u001b[0;34m\u001b[0m\u001b[0;34m\u001b[0m\u001b[0m\n\u001b[0;32m----> 2\u001b[0;31m \u001b[0mdraw_segmentation_masks\u001b[0m\u001b[0;34m(\u001b[0m\u001b[0minputs\u001b[0m\u001b[0;34m,\u001b[0m \u001b[0mmasks\u001b[0m\u001b[0;34m=\u001b[0m\u001b[0moutputs\u001b[0m\u001b[0;34m)\u001b[0m\u001b[0;34m\u001b[0m\u001b[0;34m\u001b[0m\u001b[0m\n\u001b[0m",
      "\u001b[0;32m~/miniconda3/envs/fsimple/lib/python3.8/site-packages/torch/autograd/grad_mode.py\u001b[0m in \u001b[0;36mdecorate_context\u001b[0;34m(*args, **kwargs)\u001b[0m\n\u001b[1;32m     26\u001b[0m         \u001b[0;32mdef\u001b[0m \u001b[0mdecorate_context\u001b[0m\u001b[0;34m(\u001b[0m\u001b[0;34m*\u001b[0m\u001b[0margs\u001b[0m\u001b[0;34m,\u001b[0m \u001b[0;34m**\u001b[0m\u001b[0mkwargs\u001b[0m\u001b[0;34m)\u001b[0m\u001b[0;34m:\u001b[0m\u001b[0;34m\u001b[0m\u001b[0;34m\u001b[0m\u001b[0m\n\u001b[1;32m     27\u001b[0m             \u001b[0;32mwith\u001b[0m \u001b[0mself\u001b[0m\u001b[0;34m.\u001b[0m\u001b[0m__class__\u001b[0m\u001b[0;34m(\u001b[0m\u001b[0;34m)\u001b[0m\u001b[0;34m:\u001b[0m\u001b[0;34m\u001b[0m\u001b[0;34m\u001b[0m\u001b[0m\n\u001b[0;32m---> 28\u001b[0;31m                 \u001b[0;32mreturn\u001b[0m \u001b[0mfunc\u001b[0m\u001b[0;34m(\u001b[0m\u001b[0;34m*\u001b[0m\u001b[0margs\u001b[0m\u001b[0;34m,\u001b[0m \u001b[0;34m**\u001b[0m\u001b[0mkwargs\u001b[0m\u001b[0;34m)\u001b[0m\u001b[0;34m\u001b[0m\u001b[0;34m\u001b[0m\u001b[0m\n\u001b[0m\u001b[1;32m     29\u001b[0m         \u001b[0;32mreturn\u001b[0m \u001b[0mcast\u001b[0m\u001b[0;34m(\u001b[0m\u001b[0mF\u001b[0m\u001b[0;34m,\u001b[0m \u001b[0mdecorate_context\u001b[0m\u001b[0;34m)\u001b[0m\u001b[0;34m\u001b[0m\u001b[0;34m\u001b[0m\u001b[0m\n\u001b[1;32m     30\u001b[0m \u001b[0;34m\u001b[0m\u001b[0m\n",
      "\u001b[0;32m~/miniconda3/envs/fsimple/lib/python3.8/site-packages/torchvision/utils.py\u001b[0m in \u001b[0;36mdraw_segmentation_masks\u001b[0;34m(image, masks, alpha, colors)\u001b[0m\n\u001b[1;32m    247\u001b[0m         \u001b[0;32mraise\u001b[0m \u001b[0mTypeError\u001b[0m\u001b[0;34m(\u001b[0m\u001b[0;34mf\"The image must be a tensor, got {type(image)}\"\u001b[0m\u001b[0;34m)\u001b[0m\u001b[0;34m\u001b[0m\u001b[0;34m\u001b[0m\u001b[0m\n\u001b[1;32m    248\u001b[0m     \u001b[0;32melif\u001b[0m \u001b[0mimage\u001b[0m\u001b[0;34m.\u001b[0m\u001b[0mdtype\u001b[0m \u001b[0;34m!=\u001b[0m \u001b[0mtorch\u001b[0m\u001b[0;34m.\u001b[0m\u001b[0muint8\u001b[0m\u001b[0;34m:\u001b[0m\u001b[0;34m\u001b[0m\u001b[0;34m\u001b[0m\u001b[0m\n\u001b[0;32m--> 249\u001b[0;31m         \u001b[0;32mraise\u001b[0m \u001b[0mValueError\u001b[0m\u001b[0;34m(\u001b[0m\u001b[0;34mf\"The image dtype must be uint8, got {image.dtype}\"\u001b[0m\u001b[0;34m)\u001b[0m\u001b[0;34m\u001b[0m\u001b[0;34m\u001b[0m\u001b[0m\n\u001b[0m\u001b[1;32m    250\u001b[0m     \u001b[0;32melif\u001b[0m \u001b[0mimage\u001b[0m\u001b[0;34m.\u001b[0m\u001b[0mdim\u001b[0m\u001b[0;34m(\u001b[0m\u001b[0;34m)\u001b[0m \u001b[0;34m!=\u001b[0m \u001b[0;36m3\u001b[0m\u001b[0;34m:\u001b[0m\u001b[0;34m\u001b[0m\u001b[0;34m\u001b[0m\u001b[0m\n\u001b[1;32m    251\u001b[0m         \u001b[0;32mraise\u001b[0m \u001b[0mValueError\u001b[0m\u001b[0;34m(\u001b[0m\u001b[0;34m\"Pass individual images, not batches\"\u001b[0m\u001b[0;34m)\u001b[0m\u001b[0;34m\u001b[0m\u001b[0;34m\u001b[0m\u001b[0m\n",
      "\u001b[0;31mValueError\u001b[0m: The image dtype must be uint8, got torch.float32"
     ]
    }
   ],
   "source": [
    "from torchvision.utils import draw_segmentation_masks\n",
    "draw_segmentation_masks(inputs, masks=outputs)"
   ]
  },
  {
   "cell_type": "code",
   "execution_count": 403,
   "metadata": {},
   "outputs": [],
   "source": [
    "input_pils = F.to_pil_image(inputs)"
   ]
  },
  {
   "cell_type": "code",
   "execution_count": null,
   "metadata": {},
   "outputs": [],
   "source": []
  },
  {
   "cell_type": "code",
   "execution_count": 490,
   "metadata": {},
   "outputs": [
    {
     "name": "stdout",
     "output_type": "stream",
     "text": [
      "def target\n",
      "c620631271a56407d6d69fa1a69451ca99c50dcc30e29db04cf6fb7cacbde8cb.png\n",
      "c1afe66cd139f996fd984f5f2622903730ec2f1192d90608154f07f7ef6cdb4b.png\n",
      "30f65741053db713b3f328d31d3234b6fedbe31df65c1a8ea29be28146cab789.png\n",
      "4e23ecf65040f86420e0201134e538951acdeda84fbb274311f995682044dd64.png\n"
     ]
    },
    {
     "data": {
      "image/png": "[encoded data removed]",
      "text/plain": [
       "<Figure size 432x288 with 4 Axes>"
      ]
     },
     "metadata": {},
     "output_type": "display_data"
    }
   ],
   "source": [
    "from torchvision.transforms.functional import convert_image_dtype\n",
    "\n",
    "def show(imgs):\n",
    "    if not isinstance(imgs, list):\n",
    "        imgs = [imgs]\n",
    "    fix, axs = plt.subplots(ncols=len(imgs), squeeze=False)\n",
    "    for i, img in enumerate(imgs):\n",
    "        img = img.detach()\n",
    "        img = F.to_pil_image(img)\n",
    "        axs[0, i].imshow(np.asarray(img))\n",
    "        axs[0, i].set(xticklabels=[], yticklabels=[], xticks=[], yticks=[])\n",
    "        \n",
    "train_dataset = DSB18Dataset(_path, transform=None, download=False)\n",
    "\n",
    "loader = DataLoader(train_dataset, shuffle=True, batch_size=4)\n",
    "imgs, masks = next(iter(loader))\n",
    "\n",
    "\n",
    "batch_inputs = convert_image_dtype(imgs, dtype=torch.uint8)\n",
    "batch_outputs = convert_image_dtype(masks, dtype=torch.bool)\n",
    "\n",
    "#grids = draw_segmentation_masks(batch_inputs, masks=batch_outputs)\n",
    "\n",
    "dogs_with_masks = [\n",
    "    draw_segmentation_masks(img, masks=mask, alpha=0.6, colors = (102,255,178))\n",
    "    for img, mask in zip(batch_inputs, batch_outputs)\n",
    "]\n",
    "\n",
    "show(dogs_with_masks)"
   ]
  },
  {
   "cell_type": "code",
   "execution_count": null,
   "metadata": {},
   "outputs": [],
   "source": []
  },
  {
   "cell_type": "code",
   "execution_count": null,
   "metadata": {},
   "outputs": [],
   "source": []
  },
  {
   "cell_type": "code",
   "execution_count": null,
   "metadata": {},
   "outputs": [],
   "source": []
  },
  {
   "cell_type": "code",
   "execution_count": null,
   "metadata": {},
   "outputs": [],
   "source": []
  },
  {
   "cell_type": "code",
   "execution_count": null,
   "metadata": {},
   "outputs": [],
   "source": []
  },
  {
   "cell_type": "code",
   "execution_count": 488,
   "metadata": {},
   "outputs": [
    {
     "name": "stdout",
     "output_type": "stream",
     "text": [
      "def target\n",
      "a891bbc89143bca7a717386144eb061ec2d599cba24681389bcb3a2fedb8ff8c.png\n",
      "ef6634efb46567d87b811be786b18c4cd0e2cda23d79b65d6afe0d259ef3ade6.png\n",
      "20c37b1ad2f510ed7396969e855fe93d0d05611738f6e706e8ca1d1aed3ded45.png\n",
      "b61d3fb0d0ebbee018346e0adeff9e9178f33aa95262779b3c196f93b4ace895.png\n"
     ]
    },
    {
     "data": {
      "image/png": "[encoded data removed]",
      "text/plain": [
       "<Figure size 432x288 with 4 Axes>"
      ]
     },
     "metadata": {},
     "output_type": "display_data"
    }
   ],
   "source": [
    "from torchvision.transforms.functional import convert_image_dtype\n",
    "\n",
    "\n",
    "def show(imgs):\n",
    "    if not isinstance(imgs, list):\n",
    "        imgs = [imgs]\n",
    "    fix, axs = plt.subplots(ncols=len(imgs), squeeze=False)\n",
    "    for i, img in enumerate(imgs):\n",
    "        img = img.detach()\n",
    "        img = F.to_pil_image(img)\n",
    "        axs[0, i].imshow(np.asarray(img))\n",
    "        axs[0, i].set(xticklabels=[], yticklabels=[], xticks=[], yticks=[])\n",
    "        \n",
    "        \n",
    "train_dataset = DSB18Dataset(_path, transform=None, download=False)\n",
    "\n",
    "loader = DataLoader(train_dataset, shuffle=True, batch_size=4)\n",
    "imgs, masks = next(iter(loader))\n",
    "\n",
    "inputs = torchvision.utils.make_grid(imgs)\n",
    "outputs = torchvision.utils.make_grid(masks)\n",
    "\n",
    "batch_inputs = convert_image_dtype(inputs, dtype=torch.uint8)\n",
    "batch_outputs = convert_image_dtype(outputs, dtype=torch.bool)\n",
    "\n",
    "#grids = draw_segmentation_masks(batch_inputs, masks=batch_outputs)\n",
    "\n",
    "dogs_with_masks = [\n",
    "    draw_segmentation_masks(img, masks=mask, alpha=0.6, colors = (102,255,178))\n",
    "    for img, mask in zip(batch_inputs_uint, batch_outputs_bool)\n",
    "]\n",
    "\n",
    "show(dogs_with_masks)"
   ]
  },
  {
   "cell_type": "code",
   "execution_count": null,
   "metadata": {},
   "outputs": [],
   "source": []
  },
  {
   "cell_type": "code",
   "execution_count": 407,
   "metadata": {},
   "outputs": [
    {
     "data": {
      "text/plain": [
       "torch.float64"
      ]
     },
     "execution_count": 407,
     "metadata": {},
     "output_type": "execute_result"
    }
   ],
   "source": [
    "outputs.dtype"
   ]
  },
  {
   "cell_type": "code",
   "execution_count": 386,
   "metadata": {},
   "outputs": [
    {
     "data": {
      "text/plain": [
       "<matplotlib.image.AxesImage at 0x7f622af01730>"
      ]
     },
     "execution_count": 386,
     "metadata": {},
     "output_type": "execute_result"
    },
    {
     "data": {
      "image/png": "[encoded data removed]",
      "text/plain": [
       "<Figure size 432x288 with 1 Axes>"
      ]
     },
     "metadata": {
      "needs_background": "light"
     },
     "output_type": "display_data"
    }
   ],
   "source": []
  },
  {
   "cell_type": "code",
   "execution_count": null,
   "metadata": {},
   "outputs": [],
   "source": []
  },
  {
   "cell_type": "code",
   "execution_count": null,
   "metadata": {},
   "outputs": [],
   "source": []
  },
  {
   "cell_type": "code",
   "execution_count": 352,
   "metadata": {},
   "outputs": [
    {
     "data": {
      "text/plain": [
       "torch.Size([3, 516, 2058])"
      ]
     },
     "execution_count": 352,
     "metadata": {},
     "output_type": "execute_result"
    }
   ],
   "source": [
    "inputs.shape"
   ]
  },
  {
   "cell_type": "code",
   "execution_count": 351,
   "metadata": {},
   "outputs": [
    {
     "data": {
      "text/plain": [
       "torch.Size([4, 512, 512])"
      ]
     },
     "execution_count": 351,
     "metadata": {},
     "output_type": "execute_result"
    }
   ],
   "source": [
    "outputs.shape"
   ]
  },
  {
   "cell_type": "code",
   "execution_count": 350,
   "metadata": {},
   "outputs": [
    {
     "data": {
      "text/plain": [
       "<matplotlib.image.AxesImage at 0x7f62300a7130>"
      ]
     },
     "execution_count": 350,
     "metadata": {},
     "output_type": "execute_result"
    },
    {
     "data": {
      "image/png": "[encoded data removed]",
      "text/plain": [
       "<Figure size 432x288 with 1 Axes>"
      ]
     },
     "metadata": {
      "needs_background": "light"
     },
     "output_type": "display_data"
    }
   ],
   "source": [
    "plt.imshow(outputs.permute(1,2,0))"
   ]
  },
  {
   "cell_type": "code",
   "execution_count": 318,
   "metadata": {},
   "outputs": [
    {
     "data": {
      "text/plain": [
       "torch.Size([4, 512, 512, 1])"
      ]
     },
     "execution_count": 318,
     "metadata": {},
     "output_type": "execute_result"
    }
   ],
   "source": [
    "masks.shape"
   ]
  },
  {
   "cell_type": "code",
   "execution_count": null,
   "metadata": {},
   "outputs": [],
   "source": []
  },
  {
   "cell_type": "code",
   "execution_count": null,
   "metadata": {},
   "outputs": [],
   "source": []
  },
  {
   "cell_type": "code",
   "execution_count": 287,
   "metadata": {},
   "outputs": [
    {
     "data": {
      "text/plain": [
       "torch.Size([512, 516, 14])"
      ]
     },
     "execution_count": 287,
     "metadata": {},
     "output_type": "execute_result"
    }
   ],
   "source": [
    "inputs.shape"
   ]
  },
  {
   "cell_type": "code",
   "execution_count": null,
   "metadata": {},
   "outputs": [],
   "source": []
  },
  {
   "cell_type": "code",
   "execution_count": 284,
   "metadata": {},
   "outputs": [
    {
     "data": {
      "text/plain": [
       "torch.Size([4, 3, 512, 512])"
      ]
     },
     "execution_count": 284,
     "metadata": {},
     "output_type": "execute_result"
    }
   ],
   "source": [
    "imgs.shape"
   ]
  },
  {
   "cell_type": "code",
   "execution_count": null,
   "metadata": {},
   "outputs": [],
   "source": []
  },
  {
   "cell_type": "code",
   "execution_count": null,
   "metadata": {},
   "outputs": [],
   "source": []
  },
  {
   "cell_type": "code",
   "execution_count": 216,
   "metadata": {},
   "outputs": [],
   "source": [
    "# create dataset object and get object"
   ]
  },
  {
   "cell_type": "code",
   "execution_count": 238,
   "metadata": {},
   "outputs": [],
   "source": [
    "def show(imgs):\n",
    "    if not isinstance(imgs, list):\n",
    "        imgs = [imgs]\n",
    "        \n",
    "    print(len(imgs))\n",
    "    #fix, axs = plt.subplots(ncols=len(imgs), squeeze=False)\n",
    "\n",
    "#     for i, img in enumerate(imgs):\n",
    "#         img = F.to_pil_image(img)\n",
    "#         img_np = np.asarray(img)\n",
    "        \n",
    "#         print(img_np.min(),img_np.max())\n",
    "#         axs[0, i].imshow(img_np)\n",
    "#         axs[0, i].set(xticklabels=[], yticklabels=[], xticks=[], yticks=[])"
   ]
  },
  {
   "cell_type": "code",
   "execution_count": 239,
   "metadata": {},
   "outputs": [],
   "source": [
    "# get the dataset and loader"
   ]
  },
  {
   "cell_type": "code",
   "execution_count": 244,
   "metadata": {},
   "outputs": [
    {
     "name": "stdout",
     "output_type": "stream",
     "text": [
      "d4d6c683f249d82518431603bf0206d05f2114ac871a99ffade0f5f61cf167e1.png\n",
      "091944f1d2611c916b98c020bd066667e33f4639159b2a92407fe5a40788856d.png\n",
      "1631352dbafb8a90f11219fffd3bea368a30bc3bad3bbe0e84e19bd720df4945.png\n",
      "45cc00f2ef95da6698bf590663e319d7c0ed4fb99d42dd3cf4060887da74fb81.png\n",
      "torch.Size([4, 3, 512, 512])\n",
      "1\n"
     ]
    }
   ],
   "source": [
    "_path = \"/home/data/02_SSD4TB/suzy/datasets/public/data-science-bowl-2018\"\n",
    "train_dataset = DSB18Dataset(_path, transform=None, download=False)\n",
    "loader = DataLoader(train_dataset, shuffle=True, batch_size=4)\n",
    "\n",
    "imgs = next(iter(loader))\n",
    "print(imgs.shape)\n",
    "inputs = torchvision.utils.make_grid(imgs)\n",
    "plt.imshow(inputs.permute(1, 2, 0))\n",
    "\n",
    "def v\n",
    "show(inputs)"
   ]
  },
  {
   "cell_type": "code",
   "execution_count": 252,
   "metadata": {},
   "outputs": [
    {
     "data": {
      "text/plain": [
       "<matplotlib.image.AxesImage at 0x7f622adae8e0>"
      ]
     },
     "execution_count": 252,
     "metadata": {},
     "output_type": "execute_result"
    },
    {
     "data": {
      "image/png": "[encoded data removed]",
      "text/plain": [
       "<Figure size 432x288 with 1 Axes>"
      ]
     },
     "metadata": {
      "needs_background": "light"
     },
     "output_type": "display_data"
    }
   ],
   "source": []
  },
  {
   "cell_type": "code",
   "execution_count": 254,
   "metadata": {},
   "outputs": [
    {
     "data": {
      "text/plain": [
       "tensor(0.)"
      ]
     },
     "execution_count": 254,
     "metadata": {},
     "output_type": "execute_result"
    }
   ],
   "source": [
    "inputs.min()"
   ]
  },
  {
   "cell_type": "code",
   "execution_count": null,
   "metadata": {},
   "outputs": [],
   "source": []
  },
  {
   "cell_type": "code",
   "execution_count": 249,
   "metadata": {},
   "outputs": [
    {
     "data": {
      "text/plain": [
       "torch.Size([3, 516, 2058])"
      ]
     },
     "execution_count": 249,
     "metadata": {},
     "output_type": "execute_result"
    }
   ],
   "source": [
    "inputs.shape"
   ]
  },
  {
   "cell_type": "code",
   "execution_count": null,
   "metadata": {},
   "outputs": [],
   "source": []
  },
  {
   "cell_type": "code",
   "execution_count": 165,
   "metadata": {},
   "outputs": [
    {
     "name": "stdout",
     "output_type": "stream",
     "text": [
      "tensor(0.3194)\n",
      "tensor(-1.9634) None\n",
      "tensor(0.4875) tensor(-0.0140)\n"
     ]
    }
   ],
   "source": [
    "img_tensor = train_dataset.__getitem__(0)\n",
    "\n",
    "inv_normalize = transforms.Normalize(\n",
    "    mean=[-0.485/0.229, -0.456/0.224, -0.406/0.255],\n",
    "    std=[1/0.229, 1/0.224, 1/0.255]\n",
    ")\n",
    "\n",
    "inv_tensor = inv_normalize(img_tensor)\n",
    "print(inv_tensor.max(), inv_tensor.min())"
   ]
  },
  {
   "cell_type": "code",
   "execution_count": null,
   "metadata": {},
   "outputs": [],
   "source": [
    "inv_normalize = transforms.Normalize(\n",
    "    mean=[-0.485/0.229, -0.456/0.224, -0.406/0.255],\n",
    "    std=[1/0.229, 1/0.224, 1/0.255]\n",
    ")\n",
    "\n",
    "inv_tensor = inv_normalize(img)\n",
    "print(inv_tensor.max(), inv_tensor.min())\n",
    "\n",
    "img = F.to_pil_image(inv_tensor)\n",
    "img_np = np.asarray(img)"
   ]
  },
  {
   "cell_type": "code",
   "execution_count": null,
   "metadata": {},
   "outputs": [],
   "source": []
  },
  {
   "cell_type": "code",
   "execution_count": null,
   "metadata": {},
   "outputs": [],
   "source": []
  },
  {
   "cell_type": "code",
   "execution_count": null,
   "metadata": {},
   "outputs": [],
   "source": []
  },
  {
   "cell_type": "code",
   "execution_count": 149,
   "metadata": {},
   "outputs": [
    {
     "data": {
      "text/plain": [
       "tensor(-1.9634)"
      ]
     },
     "execution_count": 149,
     "metadata": {},
     "output_type": "execute_result"
    }
   ],
   "source": [
    "train_dataset.__getitem__(0).min()"
   ]
  },
  {
   "cell_type": "code",
   "execution_count": null,
   "metadata": {},
   "outputs": [],
   "source": []
  },
  {
   "cell_type": "code",
   "execution_count": 83,
   "metadata": {},
   "outputs": [
    {
     "data": {
      "text/plain": [
       "torch.float32"
      ]
     },
     "execution_count": 83,
     "metadata": {},
     "output_type": "execute_result"
    }
   ],
   "source": [
    "inputs.dtype"
   ]
  },
  {
   "cell_type": "code",
   "execution_count": null,
   "metadata": {},
   "outputs": [],
   "source": []
  },
  {
   "cell_type": "code",
   "execution_count": null,
   "metadata": {},
   "outputs": [],
   "source": []
  },
  {
   "cell_type": "code",
   "execution_count": 53,
   "metadata": {},
   "outputs": [],
   "source": [
    "def show(imgs):\n",
    "    if not isinstance(imgs, list):\n",
    "        imgs = imgs.tolist()\n",
    "    print(len(imgs))\n",
    "    fix, axs = plt.subplots(ncols=len(imgs), squeeze=False)\n",
    "\n",
    "    for i, img in enumerate(imgs):\n",
    "        #img = img.detach()\n",
    "        img = F.to_pil_image(img)\n",
    "        axs[0, i].imshow(np.asarray(img))\n",
    "        axs[0, i].set(xticklabels=[], yticklabels=[], xticks=[], yticks=[])"
   ]
  },
  {
   "cell_type": "code",
   "execution_count": 32,
   "metadata": {},
   "outputs": [
    {
     "data": {
      "text/plain": [
       "torch.Size([4, 520, 696])"
      ]
     },
     "execution_count": 32,
     "metadata": {},
     "output_type": "execute_result"
    }
   ],
   "source": [
    "inputs.shape"
   ]
  },
  {
   "cell_type": "code",
   "execution_count": 57,
   "metadata": {},
   "outputs": [
    {
     "name": "stdout",
     "output_type": "stream",
     "text": [
      "0\n",
      "1\n",
      "2\n",
      "3\n"
     ]
    },
    {
     "data": {
      "image/png": "[encoded data removed]",
      "text/plain": [
       "<Figure size 432x288 with 4 Axes>"
      ]
     },
     "metadata": {},
     "output_type": "display_data"
    }
   ],
   "source": [
    "fix, axs = plt.subplots(ncols=len(inputs), squeeze=False)\n",
    "\n",
    "for i, img in enumerate(inputs):\n",
    "    print(i)\n",
    "    img = F.to_pil_image(img)\n",
    "    axs[0, i].imshow(np.asarray(img))\n",
    "    axs[0, i].set(xticklabels=[], yticklabels=[], xticks=[], yticks=[])"
   ]
  },
  {
   "cell_type": "code",
   "execution_count": 21,
   "metadata": {},
   "outputs": [
    {
     "data": {
      "text/plain": [
       "torch.Size([4, 520, 696])"
      ]
     },
     "execution_count": 21,
     "metadata": {},
     "output_type": "execute_result"
    }
   ],
   "source": [
    "torchvision.utils.make_grid(inputs).shape"
   ]
  },
  {
   "cell_type": "code",
   "execution_count": null,
   "metadata": {},
   "outputs": [],
   "source": []
  },
  {
   "cell_type": "code",
   "execution_count": 15,
   "metadata": {},
   "outputs": [
    {
     "data": {
      "text/plain": [
       "torch.Size([4, 520, 696])"
      ]
     },
     "execution_count": 15,
     "metadata": {},
     "output_type": "execute_result"
    }
   ],
   "source": [
    "inputs.shape"
   ]
  },
  {
   "cell_type": "code",
   "execution_count": null,
   "metadata": {},
   "outputs": [],
   "source": []
  },
  {
   "cell_type": "code",
   "execution_count": 13,
   "metadata": {},
   "outputs": [
    {
     "name": "stdout",
     "output_type": "stream",
     "text": [
      "4\n"
     ]
    },
    {
     "ename": "TypeError",
     "evalue": "pic should be Tensor or ndarray. Got <class 'list'>.",
     "output_type": "error",
     "traceback": [
      "\u001b[0;31m---------------------------------------------------------------------------\u001b[0m",
      "\u001b[0;31mTypeError\u001b[0m                                 Traceback (most recent call last)",
      "\u001b[0;32m/tmp/ipykernel_54047/3091190166.py\u001b[0m in \u001b[0;36m<module>\u001b[0;34m\u001b[0m\n\u001b[0;32m----> 1\u001b[0;31m \u001b[0mshow\u001b[0m\u001b[0;34m(\u001b[0m\u001b[0minputs\u001b[0m\u001b[0;34m)\u001b[0m\u001b[0;34m\u001b[0m\u001b[0;34m\u001b[0m\u001b[0m\n\u001b[0m",
      "\u001b[0;32m/tmp/ipykernel_54047/303069428.py\u001b[0m in \u001b[0;36mshow\u001b[0;34m(imgs)\u001b[0m\n\u001b[1;32m      7\u001b[0m     \u001b[0;32mfor\u001b[0m \u001b[0mi\u001b[0m\u001b[0;34m,\u001b[0m \u001b[0mimg\u001b[0m \u001b[0;32min\u001b[0m \u001b[0menumerate\u001b[0m\u001b[0;34m(\u001b[0m\u001b[0mimgs\u001b[0m\u001b[0;34m)\u001b[0m\u001b[0;34m:\u001b[0m\u001b[0;34m\u001b[0m\u001b[0;34m\u001b[0m\u001b[0m\n\u001b[1;32m      8\u001b[0m         \u001b[0;31m#img = img.detach()\u001b[0m\u001b[0;34m\u001b[0m\u001b[0;34m\u001b[0m\u001b[0;34m\u001b[0m\u001b[0m\n\u001b[0;32m----> 9\u001b[0;31m         \u001b[0mimg\u001b[0m \u001b[0;34m=\u001b[0m \u001b[0mF\u001b[0m\u001b[0;34m.\u001b[0m\u001b[0mto_pil_image\u001b[0m\u001b[0;34m(\u001b[0m\u001b[0mimg\u001b[0m\u001b[0;34m)\u001b[0m\u001b[0;34m\u001b[0m\u001b[0;34m\u001b[0m\u001b[0m\n\u001b[0m\u001b[1;32m     10\u001b[0m         \u001b[0maxs\u001b[0m\u001b[0;34m[\u001b[0m\u001b[0;36m0\u001b[0m\u001b[0;34m,\u001b[0m \u001b[0mi\u001b[0m\u001b[0;34m]\u001b[0m\u001b[0;34m.\u001b[0m\u001b[0mimshow\u001b[0m\u001b[0;34m(\u001b[0m\u001b[0mnp\u001b[0m\u001b[0;34m.\u001b[0m\u001b[0masarray\u001b[0m\u001b[0;34m(\u001b[0m\u001b[0mimg\u001b[0m\u001b[0;34m)\u001b[0m\u001b[0;34m)\u001b[0m\u001b[0;34m\u001b[0m\u001b[0;34m\u001b[0m\u001b[0m\n\u001b[1;32m     11\u001b[0m         \u001b[0maxs\u001b[0m\u001b[0;34m[\u001b[0m\u001b[0;36m0\u001b[0m\u001b[0;34m,\u001b[0m \u001b[0mi\u001b[0m\u001b[0;34m]\u001b[0m\u001b[0;34m.\u001b[0m\u001b[0mset\u001b[0m\u001b[0;34m(\u001b[0m\u001b[0mxticklabels\u001b[0m\u001b[0;34m=\u001b[0m\u001b[0;34m[\u001b[0m\u001b[0;34m]\u001b[0m\u001b[0;34m,\u001b[0m \u001b[0myticklabels\u001b[0m\u001b[0;34m=\u001b[0m\u001b[0;34m[\u001b[0m\u001b[0;34m]\u001b[0m\u001b[0;34m,\u001b[0m \u001b[0mxticks\u001b[0m\u001b[0;34m=\u001b[0m\u001b[0;34m[\u001b[0m\u001b[0;34m]\u001b[0m\u001b[0;34m,\u001b[0m \u001b[0myticks\u001b[0m\u001b[0;34m=\u001b[0m\u001b[0;34m[\u001b[0m\u001b[0;34m]\u001b[0m\u001b[0;34m)\u001b[0m\u001b[0;34m\u001b[0m\u001b[0;34m\u001b[0m\u001b[0m\n",
      "\u001b[0;32m~/miniconda3/envs/fsimple/lib/python3.8/site-packages/torchvision/transforms/functional.py\u001b[0m in \u001b[0;36mto_pil_image\u001b[0;34m(pic, mode)\u001b[0m\n\u001b[1;32m    213\u001b[0m     \"\"\"\n\u001b[1;32m    214\u001b[0m     \u001b[0;32mif\u001b[0m \u001b[0;32mnot\u001b[0m\u001b[0;34m(\u001b[0m\u001b[0misinstance\u001b[0m\u001b[0;34m(\u001b[0m\u001b[0mpic\u001b[0m\u001b[0;34m,\u001b[0m \u001b[0mtorch\u001b[0m\u001b[0;34m.\u001b[0m\u001b[0mTensor\u001b[0m\u001b[0;34m)\u001b[0m \u001b[0;32mor\u001b[0m \u001b[0misinstance\u001b[0m\u001b[0;34m(\u001b[0m\u001b[0mpic\u001b[0m\u001b[0;34m,\u001b[0m \u001b[0mnp\u001b[0m\u001b[0;34m.\u001b[0m\u001b[0mndarray\u001b[0m\u001b[0;34m)\u001b[0m\u001b[0;34m)\u001b[0m\u001b[0;34m:\u001b[0m\u001b[0;34m\u001b[0m\u001b[0;34m\u001b[0m\u001b[0m\n\u001b[0;32m--> 215\u001b[0;31m         \u001b[0;32mraise\u001b[0m \u001b[0mTypeError\u001b[0m\u001b[0;34m(\u001b[0m\u001b[0;34m'pic should be Tensor or ndarray. Got {}.'\u001b[0m\u001b[0;34m.\u001b[0m\u001b[0mformat\u001b[0m\u001b[0;34m(\u001b[0m\u001b[0mtype\u001b[0m\u001b[0;34m(\u001b[0m\u001b[0mpic\u001b[0m\u001b[0;34m)\u001b[0m\u001b[0;34m)\u001b[0m\u001b[0;34m)\u001b[0m\u001b[0;34m\u001b[0m\u001b[0;34m\u001b[0m\u001b[0m\n\u001b[0m\u001b[1;32m    216\u001b[0m \u001b[0;34m\u001b[0m\u001b[0m\n\u001b[1;32m    217\u001b[0m     \u001b[0;32melif\u001b[0m \u001b[0misinstance\u001b[0m\u001b[0;34m(\u001b[0m\u001b[0mpic\u001b[0m\u001b[0;34m,\u001b[0m \u001b[0mtorch\u001b[0m\u001b[0;34m.\u001b[0m\u001b[0mTensor\u001b[0m\u001b[0;34m)\u001b[0m\u001b[0;34m:\u001b[0m\u001b[0;34m\u001b[0m\u001b[0;34m\u001b[0m\u001b[0m\n",
      "\u001b[0;31mTypeError\u001b[0m: pic should be Tensor or ndarray. Got <class 'list'>."
     ]
    },
    {
     "data": {
      "image/png": "[encoded data removed]",
      "text/plain": [
       "<Figure size 432x288 with 4 Axes>"
      ]
     },
     "metadata": {
      "needs_background": "light"
     },
     "output_type": "display_data"
    }
   ],
   "source": [
    "show(inputs)"
   ]
  },
  {
   "cell_type": "code",
   "execution_count": 25,
   "metadata": {},
   "outputs": [
    {
     "data": {
      "text/plain": [
       "4"
      ]
     },
     "execution_count": 25,
     "metadata": {},
     "output_type": "execute_result"
    }
   ],
   "source": [
    "len(inputs_list)"
   ]
  },
  {
   "cell_type": "code",
   "execution_count": 18,
   "metadata": {},
   "outputs": [],
   "source": [
    "grid = torchvision.utils.make_grid(inputs)"
   ]
  },
  {
   "cell_type": "code",
   "execution_count": 19,
   "metadata": {},
   "outputs": [
    {
     "name": "stdout",
     "output_type": "stream",
     "text": [
      "1\n",
      "i am instance\n",
      "0\n"
     ]
    },
    {
     "data": {
      "image/png": "[encoded data removed]",
      "text/plain": [
       "<Figure size 432x288 with 1 Axes>"
      ]
     },
     "metadata": {},
     "output_type": "display_data"
    }
   ],
   "source": [
    "show(grid)"
   ]
  },
  {
   "cell_type": "code",
   "execution_count": null,
   "metadata": {},
   "outputs": [],
   "source": []
  },
  {
   "cell_type": "code",
   "execution_count": null,
   "metadata": {},
   "outputs": [],
   "source": []
  },
  {
   "cell_type": "code",
   "execution_count": 4,
   "metadata": {},
   "outputs": [],
   "source": [
    "from torchvision.utils import draw_segmentation_masks"
   ]
  },
  {
   "cell_type": "code",
   "execution_count": 50,
   "metadata": {},
   "outputs": [],
   "source": [
    "loader = DataLoader(train_dataset, shuffle=True, batch_size=4)\n",
    "inputs, masks, fnames = next(iter(loader))"
   ]
  },
  {
   "cell_type": "code",
   "execution_count": 51,
   "metadata": {},
   "outputs": [],
   "source": [
    "def show(imgs):\n",
    "    if not isinstance(imgs, list):\n",
    "        imgs = [imgs]\n",
    "    fix, axs = plt.subplots(ncols=len(imgs), squeeze=False)\n",
    "    for i, img in enumerate(imgs):\n",
    "        img = img.detach()\n",
    "        img = F.to_pil_image(img)\n",
    "        axs[0, i].imshow(np.asarray(img))\n",
    "        axs[0, i].set(xticklabels=[], yticklabels=[], xticks=[], yticks=[])"
   ]
  },
  {
   "cell_type": "code",
   "execution_count": 52,
   "metadata": {},
   "outputs": [
    {
     "ename": "RuntimeError",
     "evalue": "stack expects each tensor to be equal size, but got [3, 512, 512] at entry 0 and [1, 512, 512] at entry 1",
     "output_type": "error",
     "traceback": [
      "\u001b[0;31m---------------------------------------------------------------------------\u001b[0m",
      "\u001b[0;31mRuntimeError\u001b[0m                              Traceback (most recent call last)",
      "\u001b[0;32m/tmp/ipykernel_53348/3370922874.py\u001b[0m in \u001b[0;36m<module>\u001b[0;34m\u001b[0m\n\u001b[0;32m----> 1\u001b[0;31m \u001b[0mgrid\u001b[0m \u001b[0;34m=\u001b[0m \u001b[0mtorchvision\u001b[0m\u001b[0;34m.\u001b[0m\u001b[0mutils\u001b[0m\u001b[0;34m.\u001b[0m\u001b[0mmake_grid\u001b[0m\u001b[0;34m(\u001b[0m\u001b[0;34m[\u001b[0m\u001b[0minputs\u001b[0m\u001b[0;34m[\u001b[0m\u001b[0;36m0\u001b[0m\u001b[0;34m]\u001b[0m\u001b[0;34m,\u001b[0m \u001b[0mmasks\u001b[0m\u001b[0;34m[\u001b[0m\u001b[0;36m0\u001b[0m\u001b[0;34m]\u001b[0m\u001b[0;34m]\u001b[0m\u001b[0;34m)\u001b[0m\u001b[0;34m\u001b[0m\u001b[0;34m\u001b[0m\u001b[0m\n\u001b[0m",
      "\u001b[0;32m~/miniconda3/envs/fsimple/lib/python3.8/site-packages/torch/autograd/grad_mode.py\u001b[0m in \u001b[0;36mdecorate_context\u001b[0;34m(*args, **kwargs)\u001b[0m\n\u001b[1;32m     26\u001b[0m         \u001b[0;32mdef\u001b[0m \u001b[0mdecorate_context\u001b[0m\u001b[0;34m(\u001b[0m\u001b[0;34m*\u001b[0m\u001b[0margs\u001b[0m\u001b[0;34m,\u001b[0m \u001b[0;34m**\u001b[0m\u001b[0mkwargs\u001b[0m\u001b[0;34m)\u001b[0m\u001b[0;34m:\u001b[0m\u001b[0;34m\u001b[0m\u001b[0;34m\u001b[0m\u001b[0m\n\u001b[1;32m     27\u001b[0m             \u001b[0;32mwith\u001b[0m \u001b[0mself\u001b[0m\u001b[0;34m.\u001b[0m\u001b[0m__class__\u001b[0m\u001b[0;34m(\u001b[0m\u001b[0;34m)\u001b[0m\u001b[0;34m:\u001b[0m\u001b[0;34m\u001b[0m\u001b[0;34m\u001b[0m\u001b[0m\n\u001b[0;32m---> 28\u001b[0;31m                 \u001b[0;32mreturn\u001b[0m \u001b[0mfunc\u001b[0m\u001b[0;34m(\u001b[0m\u001b[0;34m*\u001b[0m\u001b[0margs\u001b[0m\u001b[0;34m,\u001b[0m \u001b[0;34m**\u001b[0m\u001b[0mkwargs\u001b[0m\u001b[0;34m)\u001b[0m\u001b[0;34m\u001b[0m\u001b[0;34m\u001b[0m\u001b[0m\n\u001b[0m\u001b[1;32m     29\u001b[0m         \u001b[0;32mreturn\u001b[0m \u001b[0mcast\u001b[0m\u001b[0;34m(\u001b[0m\u001b[0mF\u001b[0m\u001b[0;34m,\u001b[0m \u001b[0mdecorate_context\u001b[0m\u001b[0;34m)\u001b[0m\u001b[0;34m\u001b[0m\u001b[0;34m\u001b[0m\u001b[0m\n\u001b[1;32m     30\u001b[0m \u001b[0;34m\u001b[0m\u001b[0m\n",
      "\u001b[0;32m~/miniconda3/envs/fsimple/lib/python3.8/site-packages/torchvision/utils.py\u001b[0m in \u001b[0;36mmake_grid\u001b[0;34m(tensor, nrow, padding, normalize, value_range, scale_each, pad_value, **kwargs)\u001b[0m\n\u001b[1;32m     53\u001b[0m     \u001b[0;31m# if list of tensors, convert to a 4D mini-batch Tensor\u001b[0m\u001b[0;34m\u001b[0m\u001b[0;34m\u001b[0m\u001b[0;34m\u001b[0m\u001b[0m\n\u001b[1;32m     54\u001b[0m     \u001b[0;32mif\u001b[0m \u001b[0misinstance\u001b[0m\u001b[0;34m(\u001b[0m\u001b[0mtensor\u001b[0m\u001b[0;34m,\u001b[0m \u001b[0mlist\u001b[0m\u001b[0;34m)\u001b[0m\u001b[0;34m:\u001b[0m\u001b[0;34m\u001b[0m\u001b[0;34m\u001b[0m\u001b[0m\n\u001b[0;32m---> 55\u001b[0;31m         \u001b[0mtensor\u001b[0m \u001b[0;34m=\u001b[0m \u001b[0mtorch\u001b[0m\u001b[0;34m.\u001b[0m\u001b[0mstack\u001b[0m\u001b[0;34m(\u001b[0m\u001b[0mtensor\u001b[0m\u001b[0;34m,\u001b[0m \u001b[0mdim\u001b[0m\u001b[0;34m=\u001b[0m\u001b[0;36m0\u001b[0m\u001b[0;34m)\u001b[0m\u001b[0;34m\u001b[0m\u001b[0;34m\u001b[0m\u001b[0m\n\u001b[0m\u001b[1;32m     56\u001b[0m \u001b[0;34m\u001b[0m\u001b[0m\n\u001b[1;32m     57\u001b[0m     \u001b[0;32mif\u001b[0m \u001b[0mtensor\u001b[0m\u001b[0;34m.\u001b[0m\u001b[0mdim\u001b[0m\u001b[0;34m(\u001b[0m\u001b[0;34m)\u001b[0m \u001b[0;34m==\u001b[0m \u001b[0;36m2\u001b[0m\u001b[0;34m:\u001b[0m  \u001b[0;31m# single image H x W\u001b[0m\u001b[0;34m\u001b[0m\u001b[0;34m\u001b[0m\u001b[0m\n",
      "\u001b[0;31mRuntimeError\u001b[0m: stack expects each tensor to be equal size, but got [3, 512, 512] at entry 0 and [1, 512, 512] at entry 1"
     ]
    }
   ],
   "source": [
    "grid = torchvision.utils.make_grid([inputs[0], masks[0]])"
   ]
  },
  {
   "cell_type": "code",
   "execution_count": 57,
   "metadata": {},
   "outputs": [
    {
     "data": {
      "text/plain": [
       "torch.Size([3, 512, 512])"
      ]
     },
     "execution_count": 57,
     "metadata": {},
     "output_type": "execute_result"
    }
   ],
   "source": [
    "inputs[0].shape"
   ]
  },
  {
   "cell_type": "code",
   "execution_count": 47,
   "metadata": {},
   "outputs": [
    {
     "data": {
      "image/png": "[encoded data removed]",
      "text/plain": [
       "<Figure size 432x288 with 1 Axes>"
      ]
     },
     "metadata": {},
     "output_type": "display_data"
    }
   ],
   "source": [
    "show(grid)"
   ]
  },
  {
   "cell_type": "code",
   "execution_count": null,
   "metadata": {},
   "outputs": [],
   "source": []
  },
  {
   "cell_type": "code",
   "execution_count": null,
   "metadata": {},
   "outputs": [],
   "source": []
  },
  {
   "cell_type": "code",
   "execution_count": null,
   "metadata": {},
   "outputs": [],
   "source": []
  },
  {
   "cell_type": "code",
   "execution_count": null,
   "metadata": {},
   "outputs": [],
   "source": []
  },
  {
   "cell_type": "code",
   "execution_count": null,
   "metadata": {},
   "outputs": [],
   "source": []
  },
  {
   "cell_type": "code",
   "execution_count": null,
   "metadata": {},
   "outputs": [],
   "source": []
  },
  {
   "cell_type": "code",
   "execution_count": null,
   "metadata": {},
   "outputs": [],
   "source": []
  },
  {
   "cell_type": "code",
   "execution_count": null,
   "metadata": {},
   "outputs": [],
   "source": []
  },
  {
   "cell_type": "code",
   "execution_count": 14,
   "metadata": {},
   "outputs": [],
   "source": [
    "def format_image(img):\n",
    "\n",
    "    img = np.array(np.transpose(img, (1, 2, 0)))\n",
    "    mean = np.array((0.485, 0.456, 0.406))\n",
    "    std = np.array((0.229, 0.224, 0.225))\n",
    "    img = std * img + mean\n",
    "    img = img*255\n",
    "    img = img.astype(np.uint8)\n",
    "    return img"
   ]
  },
  {
   "cell_type": "code",
   "execution_count": 26,
   "metadata": {},
   "outputs": [],
   "source": [
    "hey_inputs = F.normalize(inputs, mean=(0.485, 0.456, 0.406), std=(0.229, 0.224, 0.225))"
   ]
  },
  {
   "cell_type": "code",
   "execution_count": 28,
   "metadata": {},
   "outputs": [
    {
     "name": "stdout",
     "output_type": "stream",
     "text": [
      "torch.Size([4, 3, 512, 512]) -11.291611671447754 9.864740371704102\n"
     ]
    }
   ],
   "source": [
    "print(hey_inputs.shape, hey_inputs.min().item(), hey_inputs.max().item())"
   ]
  },
  {
   "cell_type": "code",
   "execution_count": 29,
   "metadata": {},
   "outputs": [],
   "source": [
    "normalized_masks = torch.nn.functional.softmax(hey_inputs, dim=1)"
   ]
  },
  {
   "cell_type": "code",
   "execution_count": null,
   "metadata": {},
   "outputs": [],
   "source": []
  },
  {
   "cell_type": "code",
   "execution_count": null,
   "metadata": {},
   "outputs": [],
   "source": []
  },
  {
   "cell_type": "code",
   "execution_count": 16,
   "metadata": {},
   "outputs": [
    {
     "data": {
      "text/plain": [
       "torch.Size([4, 3, 512, 512])"
      ]
     },
     "execution_count": 16,
     "metadata": {},
     "output_type": "execute_result"
    }
   ],
   "source": [
    "inputs.shape"
   ]
  },
  {
   "cell_type": "code",
   "execution_count": 23,
   "metadata": {},
   "outputs": [
    {
     "data": {
      "text/plain": [
       "array([[[ 3,  3,  3],\n",
       "        [ 3,  3,  3],\n",
       "        [ 3,  3,  3],\n",
       "        ...,\n",
       "        [ 2,  2,  2],\n",
       "        [ 2,  2,  2],\n",
       "        [ 2,  2,  2]],\n",
       "\n",
       "       [[ 3,  3,  3],\n",
       "        [ 3,  3,  3],\n",
       "        [ 3,  3,  3],\n",
       "        ...,\n",
       "        [ 2,  2,  2],\n",
       "        [ 2,  2,  2],\n",
       "        [ 2,  2,  2]],\n",
       "\n",
       "       [[ 3,  3,  3],\n",
       "        [ 3,  3,  3],\n",
       "        [ 3,  3,  3],\n",
       "        ...,\n",
       "        [ 2,  2,  2],\n",
       "        [ 2,  2,  2],\n",
       "        [ 2,  2,  2]],\n",
       "\n",
       "       ...,\n",
       "\n",
       "       [[41, 41, 41],\n",
       "        [41, 41, 41],\n",
       "        [43, 43, 43],\n",
       "        ...,\n",
       "        [ 0,  1,  1],\n",
       "        [ 0,  1,  1],\n",
       "        [ 0,  1,  1]],\n",
       "\n",
       "       [[38, 38, 38],\n",
       "        [38, 38, 38],\n",
       "        [39, 39, 39],\n",
       "        ...,\n",
       "        [ 0,  1,  1],\n",
       "        [ 0,  1,  1],\n",
       "        [ 0,  1,  1]],\n",
       "\n",
       "       [[38, 38, 38],\n",
       "        [38, 38, 38],\n",
       "        [39, 39, 39],\n",
       "        ...,\n",
       "        [ 0,  1,  1],\n",
       "        [ 0,  1,  1],\n",
       "        [ 0,  1,  1]]], dtype=uint8)"
      ]
     },
     "execution_count": 23,
     "metadata": {},
     "output_type": "execute_result"
    }
   ],
   "source": [
    "hey_image"
   ]
  },
  {
   "cell_type": "code",
   "execution_count": 22,
   "metadata": {},
   "outputs": [
    {
     "ename": "TypeError",
     "evalue": "The image must be a tensor, got <class 'numpy.ndarray'>",
     "output_type": "error",
     "traceback": [
      "\u001b[0;31m---------------------------------------------------------------------------\u001b[0m",
      "\u001b[0;31mTypeError\u001b[0m                                 Traceback (most recent call last)",
      "\u001b[0;32m/tmp/ipykernel_53348/41454523.py\u001b[0m in \u001b[0;36m<module>\u001b[0;34m\u001b[0m\n\u001b[1;32m      2\u001b[0m \u001b[0mhey_mask\u001b[0m \u001b[0;34m=\u001b[0m \u001b[0mmasks\u001b[0m\u001b[0;34m[\u001b[0m\u001b[0;36m0\u001b[0m\u001b[0;34m]\u001b[0m\u001b[0;34m\u001b[0m\u001b[0;34m\u001b[0m\u001b[0m\n\u001b[1;32m      3\u001b[0m \u001b[0;34m\u001b[0m\u001b[0m\n\u001b[0;32m----> 4\u001b[0;31m \u001b[0mdraw_segmentation_masks\u001b[0m\u001b[0;34m(\u001b[0m\u001b[0mhey_image\u001b[0m\u001b[0;34m,\u001b[0m \u001b[0mhey_mask\u001b[0m\u001b[0;34m)\u001b[0m\u001b[0;34m\u001b[0m\u001b[0;34m\u001b[0m\u001b[0m\n\u001b[0m",
      "\u001b[0;32m~/miniconda3/envs/fsimple/lib/python3.8/site-packages/torch/autograd/grad_mode.py\u001b[0m in \u001b[0;36mdecorate_context\u001b[0;34m(*args, **kwargs)\u001b[0m\n\u001b[1;32m     26\u001b[0m         \u001b[0;32mdef\u001b[0m \u001b[0mdecorate_context\u001b[0m\u001b[0;34m(\u001b[0m\u001b[0;34m*\u001b[0m\u001b[0margs\u001b[0m\u001b[0;34m,\u001b[0m \u001b[0;34m**\u001b[0m\u001b[0mkwargs\u001b[0m\u001b[0;34m)\u001b[0m\u001b[0;34m:\u001b[0m\u001b[0;34m\u001b[0m\u001b[0;34m\u001b[0m\u001b[0m\n\u001b[1;32m     27\u001b[0m             \u001b[0;32mwith\u001b[0m \u001b[0mself\u001b[0m\u001b[0;34m.\u001b[0m\u001b[0m__class__\u001b[0m\u001b[0;34m(\u001b[0m\u001b[0;34m)\u001b[0m\u001b[0;34m:\u001b[0m\u001b[0;34m\u001b[0m\u001b[0;34m\u001b[0m\u001b[0m\n\u001b[0;32m---> 28\u001b[0;31m                 \u001b[0;32mreturn\u001b[0m \u001b[0mfunc\u001b[0m\u001b[0;34m(\u001b[0m\u001b[0;34m*\u001b[0m\u001b[0margs\u001b[0m\u001b[0;34m,\u001b[0m \u001b[0;34m**\u001b[0m\u001b[0mkwargs\u001b[0m\u001b[0;34m)\u001b[0m\u001b[0;34m\u001b[0m\u001b[0;34m\u001b[0m\u001b[0m\n\u001b[0m\u001b[1;32m     29\u001b[0m         \u001b[0;32mreturn\u001b[0m \u001b[0mcast\u001b[0m\u001b[0;34m(\u001b[0m\u001b[0mF\u001b[0m\u001b[0;34m,\u001b[0m \u001b[0mdecorate_context\u001b[0m\u001b[0;34m)\u001b[0m\u001b[0;34m\u001b[0m\u001b[0;34m\u001b[0m\u001b[0m\n\u001b[1;32m     30\u001b[0m \u001b[0;34m\u001b[0m\u001b[0m\n",
      "\u001b[0;32m~/miniconda3/envs/fsimple/lib/python3.8/site-packages/torchvision/utils.py\u001b[0m in \u001b[0;36mdraw_segmentation_masks\u001b[0;34m(image, masks, alpha, colors)\u001b[0m\n\u001b[1;32m    245\u001b[0m \u001b[0;34m\u001b[0m\u001b[0m\n\u001b[1;32m    246\u001b[0m     \u001b[0;32mif\u001b[0m \u001b[0;32mnot\u001b[0m \u001b[0misinstance\u001b[0m\u001b[0;34m(\u001b[0m\u001b[0mimage\u001b[0m\u001b[0;34m,\u001b[0m \u001b[0mtorch\u001b[0m\u001b[0;34m.\u001b[0m\u001b[0mTensor\u001b[0m\u001b[0;34m)\u001b[0m\u001b[0;34m:\u001b[0m\u001b[0;34m\u001b[0m\u001b[0;34m\u001b[0m\u001b[0m\n\u001b[0;32m--> 247\u001b[0;31m         \u001b[0;32mraise\u001b[0m \u001b[0mTypeError\u001b[0m\u001b[0;34m(\u001b[0m\u001b[0;34mf\"The image must be a tensor, got {type(image)}\"\u001b[0m\u001b[0;34m)\u001b[0m\u001b[0;34m\u001b[0m\u001b[0;34m\u001b[0m\u001b[0m\n\u001b[0m\u001b[1;32m    248\u001b[0m     \u001b[0;32melif\u001b[0m \u001b[0mimage\u001b[0m\u001b[0;34m.\u001b[0m\u001b[0mdtype\u001b[0m \u001b[0;34m!=\u001b[0m \u001b[0mtorch\u001b[0m\u001b[0;34m.\u001b[0m\u001b[0muint8\u001b[0m\u001b[0;34m:\u001b[0m\u001b[0;34m\u001b[0m\u001b[0;34m\u001b[0m\u001b[0m\n\u001b[1;32m    249\u001b[0m         \u001b[0;32mraise\u001b[0m \u001b[0mValueError\u001b[0m\u001b[0;34m(\u001b[0m\u001b[0;34mf\"The image dtype must be uint8, got {image.dtype}\"\u001b[0m\u001b[0;34m)\u001b[0m\u001b[0;34m\u001b[0m\u001b[0;34m\u001b[0m\u001b[0m\n",
      "\u001b[0;31mTypeError\u001b[0m: The image must be a tensor, got <class 'numpy.ndarray'>"
     ]
    }
   ],
   "source": [
    "hey_image = format_image(inputs[0])\n",
    "hey_mask = masks[0]\n",
    "\n"
   ]
  },
  {
   "cell_type": "code",
   "execution_count": null,
   "metadata": {},
   "outputs": [],
   "source": []
  },
  {
   "cell_type": "code",
   "execution_count": 128,
   "metadata": {},
   "outputs": [
    {
     "data": {
      "text/plain": [
       "<function torchvision.utils.draw_segmentation_masks(image: torch.Tensor, masks: torch.Tensor, alpha: float = 0.8, colors: Union[List[Union[str, Tuple[int, int, int]]], NoneType] = None) -> torch.Tensor>"
      ]
     },
     "execution_count": 128,
     "metadata": {},
     "output_type": "execute_result"
    }
   ],
   "source": [
    "draw_segmentation_masks"
   ]
  },
  {
   "cell_type": "code",
   "execution_count": 9,
   "metadata": {},
   "outputs": [
    {
     "ename": "ValueError",
     "evalue": "The image dtype must be uint8, got torch.float32",
     "output_type": "error",
     "traceback": [
      "\u001b[0;31m---------------------------------------------------------------------------\u001b[0m",
      "\u001b[0;31mValueError\u001b[0m                                Traceback (most recent call last)",
      "\u001b[0;32m/tmp/ipykernel_53348/2722131258.py\u001b[0m in \u001b[0;36m<module>\u001b[0;34m\u001b[0m\n\u001b[0;32m----> 1\u001b[0;31m \u001b[0mdraw_segmentation_masks\u001b[0m\u001b[0;34m(\u001b[0m\u001b[0minputs\u001b[0m\u001b[0;34m,\u001b[0m \u001b[0mmasks\u001b[0m\u001b[0;34m)\u001b[0m\u001b[0;34m\u001b[0m\u001b[0;34m\u001b[0m\u001b[0m\n\u001b[0m",
      "\u001b[0;32m~/miniconda3/envs/fsimple/lib/python3.8/site-packages/torch/autograd/grad_mode.py\u001b[0m in \u001b[0;36mdecorate_context\u001b[0;34m(*args, **kwargs)\u001b[0m\n\u001b[1;32m     26\u001b[0m         \u001b[0;32mdef\u001b[0m \u001b[0mdecorate_context\u001b[0m\u001b[0;34m(\u001b[0m\u001b[0;34m*\u001b[0m\u001b[0margs\u001b[0m\u001b[0;34m,\u001b[0m \u001b[0;34m**\u001b[0m\u001b[0mkwargs\u001b[0m\u001b[0;34m)\u001b[0m\u001b[0;34m:\u001b[0m\u001b[0;34m\u001b[0m\u001b[0;34m\u001b[0m\u001b[0m\n\u001b[1;32m     27\u001b[0m             \u001b[0;32mwith\u001b[0m \u001b[0mself\u001b[0m\u001b[0;34m.\u001b[0m\u001b[0m__class__\u001b[0m\u001b[0;34m(\u001b[0m\u001b[0;34m)\u001b[0m\u001b[0;34m:\u001b[0m\u001b[0;34m\u001b[0m\u001b[0;34m\u001b[0m\u001b[0m\n\u001b[0;32m---> 28\u001b[0;31m                 \u001b[0;32mreturn\u001b[0m \u001b[0mfunc\u001b[0m\u001b[0;34m(\u001b[0m\u001b[0;34m*\u001b[0m\u001b[0margs\u001b[0m\u001b[0;34m,\u001b[0m \u001b[0;34m**\u001b[0m\u001b[0mkwargs\u001b[0m\u001b[0;34m)\u001b[0m\u001b[0;34m\u001b[0m\u001b[0;34m\u001b[0m\u001b[0m\n\u001b[0m\u001b[1;32m     29\u001b[0m         \u001b[0;32mreturn\u001b[0m \u001b[0mcast\u001b[0m\u001b[0;34m(\u001b[0m\u001b[0mF\u001b[0m\u001b[0;34m,\u001b[0m \u001b[0mdecorate_context\u001b[0m\u001b[0;34m)\u001b[0m\u001b[0;34m\u001b[0m\u001b[0;34m\u001b[0m\u001b[0m\n\u001b[1;32m     30\u001b[0m \u001b[0;34m\u001b[0m\u001b[0m\n",
      "\u001b[0;32m~/miniconda3/envs/fsimple/lib/python3.8/site-packages/torchvision/utils.py\u001b[0m in \u001b[0;36mdraw_segmentation_masks\u001b[0;34m(image, masks, alpha, colors)\u001b[0m\n\u001b[1;32m    247\u001b[0m         \u001b[0;32mraise\u001b[0m \u001b[0mTypeError\u001b[0m\u001b[0;34m(\u001b[0m\u001b[0;34mf\"The image must be a tensor, got {type(image)}\"\u001b[0m\u001b[0;34m)\u001b[0m\u001b[0;34m\u001b[0m\u001b[0;34m\u001b[0m\u001b[0m\n\u001b[1;32m    248\u001b[0m     \u001b[0;32melif\u001b[0m \u001b[0mimage\u001b[0m\u001b[0;34m.\u001b[0m\u001b[0mdtype\u001b[0m \u001b[0;34m!=\u001b[0m \u001b[0mtorch\u001b[0m\u001b[0;34m.\u001b[0m\u001b[0muint8\u001b[0m\u001b[0;34m:\u001b[0m\u001b[0;34m\u001b[0m\u001b[0;34m\u001b[0m\u001b[0m\n\u001b[0;32m--> 249\u001b[0;31m         \u001b[0;32mraise\u001b[0m \u001b[0mValueError\u001b[0m\u001b[0;34m(\u001b[0m\u001b[0;34mf\"The image dtype must be uint8, got {image.dtype}\"\u001b[0m\u001b[0;34m)\u001b[0m\u001b[0;34m\u001b[0m\u001b[0;34m\u001b[0m\u001b[0m\n\u001b[0m\u001b[1;32m    250\u001b[0m     \u001b[0;32melif\u001b[0m \u001b[0mimage\u001b[0m\u001b[0;34m.\u001b[0m\u001b[0mdim\u001b[0m\u001b[0;34m(\u001b[0m\u001b[0;34m)\u001b[0m \u001b[0;34m!=\u001b[0m \u001b[0;36m3\u001b[0m\u001b[0;34m:\u001b[0m\u001b[0;34m\u001b[0m\u001b[0;34m\u001b[0m\u001b[0m\n\u001b[1;32m    251\u001b[0m         \u001b[0;32mraise\u001b[0m \u001b[0mValueError\u001b[0m\u001b[0;34m(\u001b[0m\u001b[0;34m\"Pass individual images, not batches\"\u001b[0m\u001b[0;34m)\u001b[0m\u001b[0;34m\u001b[0m\u001b[0;34m\u001b[0m\u001b[0m\n",
      "\u001b[0;31mValueError\u001b[0m: The image dtype must be uint8, got torch.float32"
     ]
    }
   ],
   "source": [
    "draw_segmentation_masks(inputs, masks)"
   ]
  },
  {
   "cell_type": "code",
   "execution_count": 124,
   "metadata": {},
   "outputs": [
    {
     "name": "stderr",
     "output_type": "stream",
     "text": [
      "/tmp/ipykernel_15524/274514211.py:67: DeprecationWarning: `np.bool` is a deprecated alias for the builtin `bool`. To silence this warning, use `bool` by itself. Doing this will not modify any behavior and is safe. If you specifically wanted the numpy scalar type, use `np.bool_` here.\n",
      "Deprecated in NumPy 1.20; for more details and guidance: https://numpy.org/devdocs/release/1.20.0-notes.html#deprecations\n",
      "  mask = np.zeros((IMG_HEIGHT, IMG_WIDTH, 1), dtype=np.bool)\n"
     ]
    }
   ],
   "source": [
    "\n",
    "inputs = next(iter(loader))"
   ]
  },
  {
   "cell_type": "code",
   "execution_count": 107,
   "metadata": {},
   "outputs": [
    {
     "ename": "AttributeError",
     "evalue": "'DataLoader' object has no attribute '__getitem__'",
     "output_type": "error",
     "traceback": [
      "\u001b[0;31m---------------------------------------------------------------------------\u001b[0m",
      "\u001b[0;31mAttributeError\u001b[0m                            Traceback (most recent call last)",
      "\u001b[0;32m/tmp/ipykernel_15524/1090148083.py\u001b[0m in \u001b[0;36m<module>\u001b[0;34m\u001b[0m\n\u001b[0;32m----> 1\u001b[0;31m \u001b[0mloader\u001b[0m\u001b[0;34m.\u001b[0m\u001b[0m__getitem__\u001b[0m\u001b[0;34m(\u001b[0m\u001b[0;36m0\u001b[0m\u001b[0;34m)\u001b[0m\u001b[0;34m\u001b[0m\u001b[0;34m\u001b[0m\u001b[0m\n\u001b[0m",
      "\u001b[0;31mAttributeError\u001b[0m: 'DataLoader' object has no attribute '__getitem__'"
     ]
    }
   ],
   "source": [
    "loader.__getitem__(0)"
   ]
  },
  {
   "cell_type": "code",
   "execution_count": null,
   "metadata": {},
   "outputs": [],
   "source": []
  },
  {
   "cell_type": "code",
   "execution_count": 65,
   "metadata": {},
   "outputs": [],
   "source": [
    "out = torchvision.utils.make_grid(inputs)"
   ]
  },
  {
   "cell_type": "code",
   "execution_count": null,
   "metadata": {},
   "outputs": [],
   "source": []
  },
  {
   "cell_type": "code",
   "execution_count": null,
   "metadata": {},
   "outputs": [],
   "source": []
  },
  {
   "cell_type": "code",
   "execution_count": 54,
   "metadata": {},
   "outputs": [],
   "source": [
    "def show(imgs):\n",
    "    if not isinstance(imgs, list):\n",
    "        imgs = [imgs]\n",
    "    fix, axs = plt.subplots(ncols=len(imgs), squeeze=False)\n",
    "    for i, img in enumerate(imgs):\n",
    "        img = img.detach()\n",
    "        img = F.to_pil_image(img)\n",
    "        axs[0, i].imshow(np.asarray(img))\n",
    "        axs[0, i].set(xticklabels=[], yticklabels=[], xticks=[], yticks=[])"
   ]
  },
  {
   "cell_type": "code",
   "execution_count": 64,
   "metadata": {},
   "outputs": [
    {
     "ename": "ValueError",
     "evalue": "pic should be 2/3 dimensional. Got 4 dimensions.",
     "output_type": "error",
     "traceback": [
      "\u001b[0;31m---------------------------------------------------------------------------\u001b[0m",
      "\u001b[0;31mValueError\u001b[0m                                Traceback (most recent call last)",
      "\u001b[0;32m/tmp/ipykernel_15524/3966922635.py\u001b[0m in \u001b[0;36m<module>\u001b[0;34m\u001b[0m\n\u001b[0;32m----> 1\u001b[0;31m \u001b[0mshow\u001b[0m\u001b[0;34m(\u001b[0m\u001b[0mmasks\u001b[0m\u001b[0;34m)\u001b[0m\u001b[0;34m\u001b[0m\u001b[0;34m\u001b[0m\u001b[0m\n\u001b[0m",
      "\u001b[0;32m/tmp/ipykernel_15524/2422770906.py\u001b[0m in \u001b[0;36mshow\u001b[0;34m(imgs)\u001b[0m\n\u001b[1;32m      5\u001b[0m     \u001b[0;32mfor\u001b[0m \u001b[0mi\u001b[0m\u001b[0;34m,\u001b[0m \u001b[0mimg\u001b[0m \u001b[0;32min\u001b[0m \u001b[0menumerate\u001b[0m\u001b[0;34m(\u001b[0m\u001b[0mimgs\u001b[0m\u001b[0;34m)\u001b[0m\u001b[0;34m:\u001b[0m\u001b[0;34m\u001b[0m\u001b[0;34m\u001b[0m\u001b[0m\n\u001b[1;32m      6\u001b[0m         \u001b[0mimg\u001b[0m \u001b[0;34m=\u001b[0m \u001b[0mimg\u001b[0m\u001b[0;34m.\u001b[0m\u001b[0mdetach\u001b[0m\u001b[0;34m(\u001b[0m\u001b[0;34m)\u001b[0m\u001b[0;34m\u001b[0m\u001b[0;34m\u001b[0m\u001b[0m\n\u001b[0;32m----> 7\u001b[0;31m         \u001b[0mimg\u001b[0m \u001b[0;34m=\u001b[0m \u001b[0mF\u001b[0m\u001b[0;34m.\u001b[0m\u001b[0mto_pil_image\u001b[0m\u001b[0;34m(\u001b[0m\u001b[0mimg\u001b[0m\u001b[0;34m)\u001b[0m\u001b[0;34m\u001b[0m\u001b[0;34m\u001b[0m\u001b[0m\n\u001b[0m\u001b[1;32m      8\u001b[0m         \u001b[0maxs\u001b[0m\u001b[0;34m[\u001b[0m\u001b[0;36m0\u001b[0m\u001b[0;34m,\u001b[0m \u001b[0mi\u001b[0m\u001b[0;34m]\u001b[0m\u001b[0;34m.\u001b[0m\u001b[0mimshow\u001b[0m\u001b[0;34m(\u001b[0m\u001b[0mnp\u001b[0m\u001b[0;34m.\u001b[0m\u001b[0masarray\u001b[0m\u001b[0;34m(\u001b[0m\u001b[0mimg\u001b[0m\u001b[0;34m)\u001b[0m\u001b[0;34m)\u001b[0m\u001b[0;34m\u001b[0m\u001b[0;34m\u001b[0m\u001b[0m\n\u001b[1;32m      9\u001b[0m         \u001b[0maxs\u001b[0m\u001b[0;34m[\u001b[0m\u001b[0;36m0\u001b[0m\u001b[0;34m,\u001b[0m \u001b[0mi\u001b[0m\u001b[0;34m]\u001b[0m\u001b[0;34m.\u001b[0m\u001b[0mset\u001b[0m\u001b[0;34m(\u001b[0m\u001b[0mxticklabels\u001b[0m\u001b[0;34m=\u001b[0m\u001b[0;34m[\u001b[0m\u001b[0;34m]\u001b[0m\u001b[0;34m,\u001b[0m \u001b[0myticklabels\u001b[0m\u001b[0;34m=\u001b[0m\u001b[0;34m[\u001b[0m\u001b[0;34m]\u001b[0m\u001b[0;34m,\u001b[0m \u001b[0mxticks\u001b[0m\u001b[0;34m=\u001b[0m\u001b[0;34m[\u001b[0m\u001b[0;34m]\u001b[0m\u001b[0;34m,\u001b[0m \u001b[0myticks\u001b[0m\u001b[0;34m=\u001b[0m\u001b[0;34m[\u001b[0m\u001b[0;34m]\u001b[0m\u001b[0;34m)\u001b[0m\u001b[0;34m\u001b[0m\u001b[0;34m\u001b[0m\u001b[0m\n",
      "\u001b[0;32m~/miniconda3/envs/fsimple/lib/python3.8/site-packages/torchvision/transforms/functional.py\u001b[0m in \u001b[0;36mto_pil_image\u001b[0;34m(pic, mode)\u001b[0m\n\u001b[1;32m    217\u001b[0m     \u001b[0;32melif\u001b[0m \u001b[0misinstance\u001b[0m\u001b[0;34m(\u001b[0m\u001b[0mpic\u001b[0m\u001b[0;34m,\u001b[0m \u001b[0mtorch\u001b[0m\u001b[0;34m.\u001b[0m\u001b[0mTensor\u001b[0m\u001b[0;34m)\u001b[0m\u001b[0;34m:\u001b[0m\u001b[0;34m\u001b[0m\u001b[0;34m\u001b[0m\u001b[0m\n\u001b[1;32m    218\u001b[0m         \u001b[0;32mif\u001b[0m \u001b[0mpic\u001b[0m\u001b[0;34m.\u001b[0m\u001b[0mndimension\u001b[0m\u001b[0;34m(\u001b[0m\u001b[0;34m)\u001b[0m \u001b[0;32mnot\u001b[0m \u001b[0;32min\u001b[0m \u001b[0;34m{\u001b[0m\u001b[0;36m2\u001b[0m\u001b[0;34m,\u001b[0m \u001b[0;36m3\u001b[0m\u001b[0;34m}\u001b[0m\u001b[0;34m:\u001b[0m\u001b[0;34m\u001b[0m\u001b[0;34m\u001b[0m\u001b[0m\n\u001b[0;32m--> 219\u001b[0;31m             \u001b[0;32mraise\u001b[0m \u001b[0mValueError\u001b[0m\u001b[0;34m(\u001b[0m\u001b[0;34m'pic should be 2/3 dimensional. Got {} dimensions.'\u001b[0m\u001b[0;34m.\u001b[0m\u001b[0mformat\u001b[0m\u001b[0;34m(\u001b[0m\u001b[0mpic\u001b[0m\u001b[0;34m.\u001b[0m\u001b[0mndimension\u001b[0m\u001b[0;34m(\u001b[0m\u001b[0;34m)\u001b[0m\u001b[0;34m)\u001b[0m\u001b[0;34m)\u001b[0m\u001b[0;34m\u001b[0m\u001b[0;34m\u001b[0m\u001b[0m\n\u001b[0m\u001b[1;32m    220\u001b[0m \u001b[0;34m\u001b[0m\u001b[0m\n\u001b[1;32m    221\u001b[0m         \u001b[0;32melif\u001b[0m \u001b[0mpic\u001b[0m\u001b[0;34m.\u001b[0m\u001b[0mndimension\u001b[0m\u001b[0;34m(\u001b[0m\u001b[0;34m)\u001b[0m \u001b[0;34m==\u001b[0m \u001b[0;36m2\u001b[0m\u001b[0;34m:\u001b[0m\u001b[0;34m\u001b[0m\u001b[0;34m\u001b[0m\u001b[0m\n",
      "\u001b[0;31mValueError\u001b[0m: pic should be 2/3 dimensional. Got 4 dimensions."
     ]
    },
    {
     "data": {
      "image/png": "[encoded data removed]",
      "text/plain": [
       "<Figure size 432x288 with 1 Axes>"
      ]
     },
     "metadata": {
      "needs_background": "light"
     },
     "output_type": "display_data"
    }
   ],
   "source": [
    "show(masks)"
   ]
  },
  {
   "cell_type": "code",
   "execution_count": null,
   "metadata": {},
   "outputs": [],
   "source": []
  },
  {
   "cell_type": "code",
   "execution_count": null,
   "metadata": {},
   "outputs": [],
   "source": []
  },
  {
   "cell_type": "code",
   "execution_count": 3,
   "metadata": {},
   "outputs": [],
   "source": [
    "_path = \"/home/data/02_SSD4TB/suzy/datasets/public/data-science-bowl-2018\"\n",
    "train_dataset = DSB18Dataset(_path, transform=None, download=False)\n",
    "#train_dataset.visualize_dataset(5)"
   ]
  },
  {
   "cell_type": "code",
   "execution_count": 4,
   "metadata": {},
   "outputs": [
    {
     "name": "stdout",
     "output_type": "stream",
     "text": [
      "[130, 46, 477, 36, 170]\n"
     ]
    },
    {
     "data": {
      "image/png": "[encoded data removed]",
      "text/plain": [
       "<Figure size 360x576 with 10 Axes>"
      ]
     },
     "metadata": {
      "needs_background": "light"
     },
     "output_type": "display_data"
    }
   ],
   "source": [
    "train_dataset = DSB18Dataset(_path, transform=None, download=False)\n",
    "#train_dataset.visualize_dataset(5)"
   ]
  },
  {
   "cell_type": "code",
   "execution_count": null,
   "metadata": {},
   "outputs": [],
   "source": []
  },
  {
   "cell_type": "code",
   "execution_count": null,
   "metadata": {},
   "outputs": [],
   "source": []
  },
  {
   "cell_type": "code",
   "execution_count": 28,
   "metadata": {},
   "outputs": [],
   "source": [
    "class DSB18Dataset0(Dataset):\n",
    "    r\"\"\"PyTorch friendly DSB18Dataset class\n",
    "\n",
    "    Dataset is loaded using Kaggle API.\n",
    "    For further information on raw dataset and nuclei segmentation, please refer to [1]_.\n",
    "\n",
    "    Examples\n",
    "    ----------\n",
    "    >>> train_dataset = DSB18Dataset(root=\".\", transform=None, download=False)\n",
    "    >>> train_dataset.visualize_dataset(5)\n",
    "\n",
    "    .. image:: ../imgs/DSB18Dataset.png\n",
    "        :width: 300\n",
    "\n",
    "    References\n",
    "    ---------------\n",
    "    .. [1] https://www.kaggle.com/c/data-science-bowl-2018/overview\n",
    "    \"\"\"\n",
    "\n",
    "    def __init__(self, root: str = \".\", download: bool = False, mode: str = \"train\", shape: int = 512, transform: transforms = None, target_transform: transforms = None, show: int = 5):\n",
    "    \n",
    "        tag = \"data-science-bowl-2018\"\n",
    "        modes = [\"train\", \"val\"]\n",
    "        assert mode in modes, \"Available options for mode: train, val\"\n",
    "\n",
    "        path = os.path.join(root, tag, \"stage1_train\")\n",
    "        if download:\n",
    "            download_datasets(tag, path=root)\n",
    "            extract_zip(os.path.join(root, tag+\".zip\"),\n",
    "                        os.path.join(root, tag))\n",
    "            extract_zip(os.path.join(root, tag, \"stage1_train.zip\"), path)\n",
    "        else:\n",
    "            path = os.path.join(root, \"stage1_train\")\n",
    "\n",
    "        self.path = path\n",
    "\n",
    "        if transform is None:\n",
    "            self.transforms = self.default_transform(shape)\n",
    "\n",
    "        self.folders = os.listdir(self.path)\n",
    "        self.shape = shape\n",
    "        #self.visualize_dataset(show)\n",
    "\n",
    "    def __len__(self):\n",
    "        return len(self.folders)\n",
    "\n",
    "    def __getitem__(self, idx):\n",
    "        image_folder = os.path.join(self.path, self.folders[idx], 'images/')\n",
    "        mask_folder = os.path.join(self.path, self.folders[idx], 'masks/')\n",
    "        fname = os.listdir(image_folder)[0]\n",
    "        image_path = os.path.join(image_folder, fname)\n",
    "\n",
    "        img = io.imread(image_path)[:, :, :3].astype('float32')\n",
    "        img = transform.resize(img, (self.shape, self.shape))\n",
    "\n",
    "        mask = self.get_mask(mask_folder, self.shape,\n",
    "                             self.shape).astype('float32')\n",
    "\n",
    "        augmented = self.transforms(image=img, mask=mask)\n",
    "        img = augmented['image']\n",
    "        mask = augmented['mask']\n",
    "\n",
    "        mask = mask.permute(2, 0, 1)\n",
    "        return (img, mask, fname)\n",
    "\n",
    "    def get_mask(self, mask_folder, IMG_HEIGHT, IMG_WIDTH):\n",
    "        mask = np.zeros((IMG_HEIGHT, IMG_WIDTH, 1), dtype=np.bool)\n",
    "        for mask_ in os.listdir(mask_folder):\n",
    "            mask_ = io.imread(os.path.join(mask_folder, mask_))\n",
    "            mask_ = transform.resize(mask_, (IMG_HEIGHT, IMG_WIDTH))\n",
    "            mask_ = np.expand_dims(mask_, axis=-1)\n",
    "            mask = np.maximum(mask, mask_)\n",
    "\n",
    "        return mask\n",
    "\n",
    "    def default_transform(self, img_shape):\n",
    "        return A.Compose([\n",
    "            A.Resize(img_shape, img_shape),\n",
    "            A.Normalize(mean=(0.485, 0.456, 0.406),\n",
    "                        std=(0.229, 0.224, 0.225)),\n",
    "            A.HorizontalFlip(p=0.25),\n",
    "            A.VerticalFlip(p=0.25),\n",
    "            ToTensorV2()\n",
    "        ])\n",
    "\n",
    "#     def visualize_dataset(self, n_images, predict=None):\n",
    "#         \"\"\"\n",
    "#         Function to visualize images and masks\n",
    "#         \"\"\"\n",
    "#         images = random.sample(range(0, 670), n_images)\n",
    "#         figure, ax = plt.subplots(nrows=len(images), ncols=2, figsize=(5, 8))\n",
    "#         for i in range(0, len(images)):\n",
    "#             img_no = images[i]\n",
    "#             image, mask, fname = self.__getitem__(img_no)\n",
    "#             image = self.format_image(image)\n",
    "#             mask = self.format_mask(mask)\n",
    "#             ax[i, 0].imshow(image)\n",
    "#             ax[i, 1].imshow(mask, interpolation=\"nearest\", cmap=\"gray\")\n",
    "#             ax[i, 0].set_title(\"Ground Truth Image\")\n",
    "#             ax[i, 1].set_title(\"Mask\")\n",
    "#             ax[i, 0].set_axis_off()\n",
    "#             ax[i, 1].set_axis_off()\n",
    "#             plt.tight_layout()\n",
    "\n",
    "#         return plt\n",
    "\n",
    "#     @staticmethod\n",
    "#     def format_image(img):\n",
    "#         img = np.array(np.transpose(img, (1, 2, 0)))\n",
    "#         mean = np.array((0.485, 0.456, 0.406))\n",
    "#         std = np.array((0.229, 0.224, 0.225))\n",
    "#         img = std * img + mean\n",
    "#         img = img*255\n",
    "#         img = img.astype(np.uint8)\n",
    "#         return img\n",
    "\n",
    "#     @staticmethod\n",
    "#     def format_mask(mask):\n",
    "#         mask = np.squeeze(np.transpose(mask, (1, 2, 0)))\n",
    "#         return mask"
   ]
  },
  {
   "cell_type": "code",
   "execution_count": 29,
   "metadata": {},
   "outputs": [],
   "source": [
    "_path = \"/home/data/02_SSD4TB/suzy/datasets/public/data-science-bowl-2018\"\n",
    "train_dataset = DSB18Dataset0(_path, transform=None, download=False)\n",
    "#train_dataset.visualize_dataset(5)"
   ]
  },
  {
   "cell_type": "code",
   "execution_count": 30,
   "metadata": {},
   "outputs": [],
   "source": [
    "loader = DataLoader(train_dataset, batch_size=8, shuffle=True)"
   ]
  },
  {
   "cell_type": "code",
   "execution_count": 31,
   "metadata": {},
   "outputs": [
    {
     "name": "stderr",
     "output_type": "stream",
     "text": [
      "/tmp/ipykernel_15331/114469613.py:67: DeprecationWarning: `np.bool` is a deprecated alias for the builtin `bool`. To silence this warning, use `bool` by itself. Doing this will not modify any behavior and is safe. If you specifically wanted the numpy scalar type, use `np.bool_` here.\n",
      "Deprecated in NumPy 1.20; for more details and guidance: https://numpy.org/devdocs/release/1.20.0-notes.html#deprecations\n",
      "  mask = np.zeros((IMG_HEIGHT, IMG_WIDTH, 1), dtype=np.bool)\n"
     ]
    },
    {
     "data": {
      "text/plain": [
       "[tensor([[[[-1.9326, -1.9374, -1.9295,  ..., -1.9143, -1.9217, -1.9264],\n",
       "           [-1.9296, -1.9297, -1.9295,  ..., -1.9295, -1.9295, -1.9158],\n",
       "           [-1.9325, -1.9371, -1.9301,  ..., -1.9295, -1.9292, -1.9289],\n",
       "           ...,\n",
       "           [-1.9465, -1.9463, -1.9467,  ..., -1.8970, -1.9124, -1.9119],\n",
       "           [-1.9467, -1.9467, -1.9316,  ..., -1.8953, -1.9034, -1.8987],\n",
       "           [-1.9327, -1.9375, -1.9448,  ..., -1.9105, -1.9032, -1.8984]],\n",
       " \n",
       "          [[-1.8463, -1.8511, -1.8431,  ..., -1.8275, -1.8351, -1.8399],\n",
       "           [-1.8432, -1.8433, -1.8431,  ..., -1.8431, -1.8431, -1.8291],\n",
       "           [-1.8462, -1.8509, -1.8438,  ..., -1.8431, -1.8428, -1.8425],\n",
       "           ...,\n",
       "           [-1.8605, -1.8603, -1.8606,  ..., -1.8099, -1.8256, -1.8251],\n",
       "           [-1.8606, -1.8606, -1.8453,  ..., -1.8082, -1.8164, -1.8116],\n",
       "           [-1.8464, -1.8513, -1.8588,  ..., -1.8237, -1.8162, -1.8113]],\n",
       " \n",
       "          [[-1.6158, -1.6207, -1.6127,  ..., -1.5972, -1.6048, -1.6095],\n",
       "           [-1.6128, -1.6129, -1.6127,  ..., -1.6127, -1.6127, -1.5988],\n",
       "           [-1.6157, -1.6204, -1.6133,  ..., -1.6127, -1.6124, -1.6120],\n",
       "           ...,\n",
       "           [-1.6300, -1.6298, -1.6302,  ..., -1.5796, -1.5953, -1.5947],\n",
       "           [-1.6302, -1.6302, -1.6149,  ..., -1.5779, -1.5861, -1.5813],\n",
       "           [-1.6160, -1.6208, -1.6283,  ..., -1.5934, -1.5859, -1.5810]]],\n",
       " \n",
       " \n",
       "         [[[ 1.0622,  1.0440,  0.9983,  ...,  0.6384,  0.6627,  0.6713],\n",
       "           [ 1.0622,  1.0440,  0.9983,  ...,  0.6384,  0.6627,  0.6713],\n",
       "           [ 1.0777,  1.0574,  1.0100,  ...,  0.6111,  0.6563,  0.6734],\n",
       "           ...,\n",
       "           [ 1.2787,  1.2808,  1.2897,  ...,  1.2249,  1.1877,  1.1727],\n",
       "           [ 1.2562,  1.2626,  1.2827,  ...,  1.2597,  1.2123,  1.1931],\n",
       "           [ 1.2562,  1.2626,  1.2827,  ...,  1.2597,  1.2123,  1.1931]],\n",
       " \n",
       "          [[ 0.8729,  0.8587,  0.8237,  ..., -0.0607,  0.0170,  0.0520],\n",
       "           [ 0.8729,  0.8587,  0.8237,  ..., -0.0607,  0.0170,  0.0520],\n",
       "           [ 0.8975,  0.8811,  0.8417,  ..., -0.1373, -0.1012, -0.0837],\n",
       "           ...,\n",
       "           [ 1.5393,  1.5382,  1.5322,  ...,  1.1284,  1.1188,  1.1145],\n",
       "           [ 1.5464,  1.5431,  1.5316,  ...,  1.1891,  1.1801,  1.1757],\n",
       "           [ 1.5464,  1.5431,  1.5316,  ...,  1.1891,  1.1801,  1.1757]],\n",
       " \n",
       "          [[ 1.7026,  1.6787,  1.6188,  ...,  0.9265,  0.9012,  0.8914],\n",
       "           [ 1.7026,  1.6787,  1.6188,  ...,  0.9265,  0.9012,  0.8914],\n",
       "           [ 1.7146,  1.6950,  1.6438,  ...,  0.9788,  0.9093,  0.8799],\n",
       "           ...,\n",
       "           [ 1.9104,  1.8963,  1.8619,  ...,  1.6588,  1.7037,  1.7233],\n",
       "           [ 1.9349,  1.9186,  1.8788,  ...,  1.6855,  1.7397,  1.7636],\n",
       "           [ 1.9349,  1.9186,  1.8788,  ...,  1.6855,  1.7397,  1.7636]]],\n",
       " \n",
       " \n",
       "         [[[-1.9124, -1.9124, -1.8971,  ..., -1.9278, -1.9282, -1.9326],\n",
       "           [-1.9124, -1.9124, -1.9128,  ..., -1.9295, -1.9295, -1.9295],\n",
       "           [-1.9124, -1.9120, -1.9277,  ..., -1.9289, -1.9298, -1.9302],\n",
       "           ...,\n",
       "           [-1.9124, -1.9216, -1.9141,  ..., -1.9450, -1.9378, -1.9467],\n",
       "           [-1.9154, -1.9203, -1.9275,  ..., -1.9466, -1.9464, -1.9467],\n",
       "           [-1.9155, -1.9203, -1.9125,  ..., -1.9467, -1.9467, -1.9467]],\n",
       " \n",
       "          [[-1.8256, -1.8256, -1.8100,  ..., -1.8414, -1.8418, -1.8463],\n",
       "           [-1.8256, -1.8256, -1.8260,  ..., -1.8431, -1.8431, -1.8431],\n",
       "           [-1.8256, -1.8253, -1.8413,  ..., -1.8425, -1.8435, -1.8438],\n",
       "           ...,\n",
       "           [-1.8256, -1.8351, -1.8274,  ..., -1.8589, -1.8516, -1.8606],\n",
       "           [-1.8287, -1.8337, -1.8410,  ..., -1.8606, -1.8604, -1.8606],\n",
       "           [-1.8288, -1.8337, -1.8258,  ..., -1.8606, -1.8606, -1.8606]],\n",
       " \n",
       "          [[-1.5953, -1.5953, -1.5798,  ..., -1.6110, -1.6114, -1.6158],\n",
       "           [-1.5953, -1.5953, -1.5957,  ..., -1.6127, -1.6127, -1.6127],\n",
       "           [-1.5953, -1.5949, -1.6109,  ..., -1.6121, -1.6130, -1.6134],\n",
       "           ...,\n",
       "           [-1.5953, -1.6047, -1.5971,  ..., -1.6285, -1.6211, -1.6302],\n",
       "           [-1.5984, -1.6034, -1.6106,  ..., -1.6301, -1.6299, -1.6302],\n",
       "           [-1.5984, -1.6033, -1.5954,  ..., -1.6302, -1.6302, -1.6302]]],\n",
       " \n",
       " \n",
       "         ...,\n",
       " \n",
       " \n",
       "         [[[-2.0867, -2.1007, -2.0854,  ..., -1.8192, -1.7344, -1.7389],\n",
       "           [-2.0837, -2.0927, -2.0854,  ..., -1.9586, -1.8829, -1.8506],\n",
       "           [-2.0843, -2.0843, -2.0837,  ..., -2.0336, -2.0254, -2.0024],\n",
       "           ...,\n",
       "           [-2.1008, -2.1011, -2.1008,  ..., -1.9997, -2.0145, -2.0285],\n",
       "           [-2.1008, -2.1008, -2.1008,  ..., -2.0298, -2.0229, -2.0322],\n",
       "           [-2.1008, -2.1008, -2.1008,  ..., -2.0357, -2.0584, -2.0632]],\n",
       " \n",
       "          [[-2.0038, -2.0181, -2.0025,  ..., -1.7303, -1.6437, -1.6483],\n",
       "           [-2.0007, -2.0099, -2.0024,  ..., -1.8728, -1.7955, -1.7624],\n",
       "           [-2.0014, -2.0014, -2.0008,  ..., -1.9495, -1.9411, -1.9177],\n",
       "           ...,\n",
       "           [-2.0182, -2.0186, -2.0183,  ..., -1.9149, -1.9300, -1.9443],\n",
       "           [-2.0182, -2.0182, -2.0182,  ..., -1.9457, -1.9386, -1.9481],\n",
       "           [-2.0182, -2.0182, -2.0182,  ..., -1.9517, -1.9748, -1.9798]],\n",
       " \n",
       "          [[-1.7727, -1.7870, -1.7714,  ..., -1.5004, -1.4141, -1.4187],\n",
       "           [-1.7696, -1.7788, -1.7713,  ..., -1.6423, -1.5653, -1.5324],\n",
       "           [-1.7703, -1.7703, -1.7697,  ..., -1.7186, -1.7103, -1.6869],\n",
       "           ...,\n",
       "           [-1.7870, -1.7874, -1.7871,  ..., -1.6841, -1.6992, -1.7135],\n",
       "           [-1.7870, -1.7870, -1.7870,  ..., -1.7148, -1.7077, -1.7172],\n",
       "           [-1.7870, -1.7870, -1.7870,  ..., -1.7208, -1.7438, -1.7488]]],\n",
       " \n",
       " \n",
       "         [[[-2.0612, -2.0612, -2.0676,  ..., -2.0462, -2.0483, -2.0483],\n",
       "           [-2.0612, -2.0612, -2.0676,  ..., -2.0462, -2.0483, -2.0483],\n",
       "           [-2.0762, -2.0762, -2.0783,  ..., -2.0398, -2.0462, -2.0462],\n",
       "           ...,\n",
       "           [-2.0730, -2.0730, -2.0601,  ..., -2.0665, -2.0665, -2.0665],\n",
       "           [-2.0687, -2.0687, -2.0644,  ..., -2.0665, -2.0665, -2.0665],\n",
       "           [-2.0687, -2.0687, -2.0644,  ..., -2.0665, -2.0665, -2.0665]],\n",
       " \n",
       "          [[-1.9777, -1.9777, -1.9843,  ..., -1.9624, -1.9646, -1.9646],\n",
       "           [-1.9777, -1.9777, -1.9843,  ..., -1.9624, -1.9646, -1.9646],\n",
       "           [-1.9930, -1.9930, -1.9952,  ..., -1.9558, -1.9624, -1.9624],\n",
       "           ...,\n",
       "           [-1.9898, -1.9898, -1.9766,  ..., -1.9832, -1.9832, -1.9832],\n",
       "           [-1.9854, -1.9854, -1.9810,  ..., -1.9832, -1.9832, -1.9832],\n",
       "           [-1.9854, -1.9854, -1.9810,  ..., -1.9832, -1.9832, -1.9832]],\n",
       " \n",
       "          [[-1.7467, -1.7467, -1.7532,  ..., -1.7315, -1.7336, -1.7336],\n",
       "           [-1.7467, -1.7467, -1.7532,  ..., -1.7315, -1.7336, -1.7336],\n",
       "           [-1.7620, -1.7620, -1.7641,  ..., -1.7249, -1.7315, -1.7315],\n",
       "           ...,\n",
       "           [-1.7587, -1.7587, -1.7456,  ..., -1.7522, -1.7522, -1.7522],\n",
       "           [-1.7543, -1.7543, -1.7500,  ..., -1.7522, -1.7522, -1.7522],\n",
       "           [-1.7543, -1.7543, -1.7500,  ..., -1.7522, -1.7522, -1.7522]]],\n",
       " \n",
       " \n",
       "         [[[-2.0537, -2.0586, -2.0602,  ..., -2.0557, -2.0519, -2.0519],\n",
       "           [-2.0586, -2.0579, -2.0551,  ..., -2.0609, -2.0589, -2.0589],\n",
       "           [-2.0602, -2.0551, -2.0494,  ..., -2.0665, -2.0665, -2.0665],\n",
       "           ...,\n",
       "           [-2.0596, -2.0526, -2.0461,  ..., -1.9295, -1.9035, -1.8878],\n",
       "           [-2.0510, -2.0502, -2.0474,  ..., -1.9573, -1.9372, -1.9232],\n",
       "           [-2.0392, -2.0440, -2.0456,  ..., -1.9746, -1.9580, -1.9441]],\n",
       " \n",
       "          [[-1.9701, -1.9751, -1.9768,  ..., -1.9721, -1.9683, -1.9683],\n",
       "           [-1.9751, -1.9743, -1.9715,  ..., -1.9774, -1.9754, -1.9754],\n",
       "           [-1.9768, -1.9715, -1.9657,  ..., -1.9832, -1.9832, -1.9832],\n",
       "           ...,\n",
       "           [-1.9761, -1.9690, -1.9623,  ..., -1.8431, -1.8165, -1.8004],\n",
       "           [-1.9673, -1.9665, -1.9637,  ..., -1.8715, -1.8509, -1.8367],\n",
       "           [-1.9552, -1.9602, -1.9618,  ..., -1.8892, -1.8723, -1.8580]],\n",
       " \n",
       "          [[-1.7391, -1.7441, -1.7457,  ..., -1.7411, -1.7373, -1.7373],\n",
       "           [-1.7441, -1.7433, -1.7405,  ..., -1.7464, -1.7444, -1.7444],\n",
       "           [-1.7457, -1.7405, -1.7347,  ..., -1.7522, -1.7522, -1.7522],\n",
       "           ...,\n",
       "           [-1.7451, -1.7380, -1.7314,  ..., -1.6127, -1.5862, -1.5702],\n",
       "           [-1.7364, -1.7356, -1.7327,  ..., -1.6410, -1.6205, -1.6063],\n",
       "           [-1.7243, -1.7293, -1.7309,  ..., -1.6586, -1.6417, -1.6276]]]]),\n",
       " tensor([[[[0.0000, 0.0000, 0.0000,  ..., 0.0000, 0.0000, 0.0000],\n",
       "           [0.0000, 0.0000, 0.0000,  ..., 0.0000, 0.0000, 0.0000],\n",
       "           [0.0000, 0.0000, 0.0000,  ..., 0.0000, 0.0000, 0.0000],\n",
       "           ...,\n",
       "           [0.0000, 0.0000, 0.0000,  ..., 0.0000, 0.0000, 0.0000],\n",
       "           [0.0000, 0.0000, 0.0000,  ..., 0.0000, 0.0000, 0.0000],\n",
       "           [0.0000, 0.0000, 0.0000,  ..., 0.0000, 0.0000, 0.0000]]],\n",
       " \n",
       " \n",
       "         [[[0.1406, 0.3281, 0.7656,  ..., 1.0000, 1.0000, 1.0000],\n",
       "           [0.1406, 0.3281, 0.7656,  ..., 1.0000, 1.0000, 1.0000],\n",
       "           [0.0469, 0.1094, 0.2969,  ..., 1.0000, 1.0000, 1.0000],\n",
       "           ...,\n",
       "           [0.0000, 0.0000, 0.0000,  ..., 0.0000, 0.0000, 0.0000],\n",
       "           [0.0000, 0.0000, 0.0000,  ..., 0.0000, 0.0000, 0.0000],\n",
       "           [0.0000, 0.0000, 0.0000,  ..., 0.0000, 0.0000, 0.0000]]],\n",
       " \n",
       " \n",
       "         [[[0.0000, 0.0000, 0.0000,  ..., 0.0000, 0.0000, 0.0000],\n",
       "           [0.0000, 0.0000, 0.0000,  ..., 0.0000, 0.0000, 0.0000],\n",
       "           [0.0000, 0.0000, 0.0000,  ..., 0.0000, 0.0000, 0.0000],\n",
       "           ...,\n",
       "           [0.0000, 0.0000, 0.0000,  ..., 0.0000, 0.0000, 0.0000],\n",
       "           [0.0000, 0.0000, 0.0000,  ..., 0.0000, 0.0000, 0.0000],\n",
       "           [0.0000, 0.0000, 0.0000,  ..., 0.0000, 0.0000, 0.0000]]],\n",
       " \n",
       " \n",
       "         ...,\n",
       " \n",
       " \n",
       "         [[[0.0000, 0.0000, 0.0000,  ..., 0.0000, 0.0000, 0.0000],\n",
       "           [0.0000, 0.0000, 0.0000,  ..., 0.0000, 0.0000, 0.0000],\n",
       "           [0.0000, 0.0000, 0.0000,  ..., 0.0000, 0.0000, 0.0000],\n",
       "           ...,\n",
       "           [0.0000, 0.0000, 0.0000,  ..., 1.0000, 1.0000, 1.0000],\n",
       "           [0.0000, 0.0000, 0.0000,  ..., 1.0000, 1.0000, 1.0000],\n",
       "           [0.0000, 0.0000, 0.0000,  ..., 1.0000, 1.0000, 1.0000]]],\n",
       " \n",
       " \n",
       "         [[[0.0000, 0.0000, 0.0000,  ..., 0.0000, 0.0000, 0.0000],\n",
       "           [0.0000, 0.0000, 0.0000,  ..., 0.0000, 0.0000, 0.0000],\n",
       "           [0.0000, 0.0000, 0.0000,  ..., 0.0000, 0.0000, 0.0000],\n",
       "           ...,\n",
       "           [0.0000, 0.0000, 0.0000,  ..., 0.0000, 0.0000, 0.0000],\n",
       "           [0.0000, 0.0000, 0.0000,  ..., 0.0000, 0.0000, 0.0000],\n",
       "           [0.0000, 0.0000, 0.0000,  ..., 0.0000, 0.0000, 0.0000]]],\n",
       " \n",
       " \n",
       "         [[[0.0000, 0.0000, 0.0000,  ..., 0.0000, 0.0000, 0.0000],\n",
       "           [0.0000, 0.0000, 0.0000,  ..., 0.0000, 0.0000, 0.0000],\n",
       "           [0.0000, 0.0000, 0.0000,  ..., 0.0000, 0.0000, 0.0000],\n",
       "           ...,\n",
       "           [0.0000, 0.0000, 0.0000,  ..., 0.0000, 0.0000, 0.0000],\n",
       "           [0.0000, 0.0000, 0.0000,  ..., 0.0000, 0.0000, 0.0000],\n",
       "           [0.0000, 0.0000, 0.0000,  ..., 0.0000, 0.0000, 0.0000]]]]),\n",
       " ('2d53d7ec0c579fffd6710c956288537d46c719a93c6a04ac0d6550f75a6a6493.png',\n",
       "  'ed5be4b63e9506ad64660dd92a098ffcc0325195298c13c815a73773f1efc279.png',\n",
       "  'f4faa3a409014db1865074c5f66a0255f71ae3faba03265da0b3b91f68e8a8f0.png',\n",
       "  'aaa52100fafaa50877e777229cdf6cde7c422f145ff6719449b80631d9a3b0f6.png',\n",
       "  '9f073db4acd7e634fd578af50d4e77218742f63a4d423a99808d6fd7cb0d3cdb.png',\n",
       "  'bde3727f3a9e8b2b58f383ebc762b2157eb50cdbff23e69b025418b43967556b.png',\n",
       "  '7ba20aa731cc21af74a8d940254176cbad1bdc44f240b550341c6d9c27509daa.png',\n",
       "  'a6e81120d1cb9f71f8a25f90a5d56c4b714a642fc496a705e38921fd90a3f69c.png')]"
      ]
     },
     "execution_count": 31,
     "metadata": {},
     "output_type": "execute_result"
    }
   ],
   "source": [
    "next(iter(loader))"
   ]
  },
  {
   "cell_type": "code",
   "execution_count": null,
   "metadata": {},
   "outputs": [],
   "source": []
  },
  {
   "cell_type": "code",
   "execution_count": null,
   "metadata": {},
   "outputs": [],
   "source": []
  },
  {
   "cell_type": "code",
   "execution_count": null,
   "metadata": {},
   "outputs": [],
   "source": []
  },
  {
   "cell_type": "code",
   "execution_count": null,
   "metadata": {},
   "outputs": [],
   "source": []
  },
  {
   "cell_type": "code",
   "execution_count": null,
   "metadata": {},
   "outputs": [],
   "source": []
  },
  {
   "cell_type": "code",
   "execution_count": null,
   "metadata": {},
   "outputs": [],
   "source": []
  },
  {
   "cell_type": "code",
   "execution_count": null,
   "metadata": {},
   "outputs": [],
   "source": []
  },
  {
   "cell_type": "code",
   "execution_count": null,
   "metadata": {},
   "outputs": [],
   "source": [
    "@staticmethod\n",
    "def imshow(inp, title=None):\n",
    "    inp = inp.numpy().transpose((1, 2, 0))\n",
    "    mean = np.array([0.485, 0.456, 0.406])\n",
    "    std = np.array([0.229, 0.224, 0.225])\n",
    "    inp = std * inp + mean\n",
    "    inp = np.clip(inp, 0, 1)\n",
    "    fig = plt.gcf()\n",
    "    plt.imshow(inp)\n",
    "    if title is not None:\n",
    "        plt.title(title)\n",
    "    plt.pause(0.001)\n",
    "    return fig\n",
    "\n",
    "def visualize_dataset(self, show):\n",
    "    loader = DataLoader(self, batch_size=show, shuffle=True)\n",
    "    inputs, classes = next(iter(loader))\n",
    "    class_names = self.classes\n",
    "    out = torchvision.utils.make_grid(inputs)\n",
    "    self.imshow(out, title=[class_names[x] for x in classes])"
   ]
  },
  {
   "cell_type": "code",
   "execution_count": 4,
   "metadata": {},
   "outputs": [],
   "source": [
    "loader = DataLoader(train_dataset, batch_size=4, shuffle=True)"
   ]
  },
  {
   "cell_type": "code",
   "execution_count": 20,
   "metadata": {},
   "outputs": [],
   "source": [
    "def imshow(inp, title=None):\n",
    "    inp = inp.numpy().transpose((1, 2, 0))\n",
    "    mean = np.array([0.485, 0.456, 0.406])\n",
    "    std = np.array([0.229, 0.224, 0.225])\n",
    "    inp = std * inp + mean\n",
    "    inp = np.clip(inp, 0, 1)\n",
    "    fig = plt.gcf()\n",
    "    plt.imshow(inp)\n",
    "    if title is not None:\n",
    "        plt.title(title)\n",
    "    plt.pause(0.001)\n",
    "    return fig"
   ]
  },
  {
   "cell_type": "code",
   "execution_count": 24,
   "metadata": {},
   "outputs": [
    {
     "ename": "RuntimeError",
     "evalue": "Boolean value of Tensor with more than one value is ambiguous",
     "output_type": "error",
     "traceback": [
      "\u001b[0;31m---------------------------------------------------------------------------\u001b[0m",
      "\u001b[0;31mRuntimeError\u001b[0m                              Traceback (most recent call last)",
      "\u001b[0;32m/tmp/ipykernel_3396089/3366865941.py\u001b[0m in \u001b[0;36m<module>\u001b[0;34m\u001b[0m\n\u001b[1;32m      1\u001b[0m \u001b[0mimg\u001b[0m\u001b[0;34m,\u001b[0m \u001b[0mmask\u001b[0m\u001b[0;34m,\u001b[0m \u001b[0mfname\u001b[0m \u001b[0;34m=\u001b[0m \u001b[0mnext\u001b[0m\u001b[0;34m(\u001b[0m\u001b[0miter\u001b[0m\u001b[0;34m(\u001b[0m\u001b[0mloader\u001b[0m\u001b[0;34m)\u001b[0m\u001b[0;34m)\u001b[0m\u001b[0;34m\u001b[0m\u001b[0;34m\u001b[0m\u001b[0m\n\u001b[1;32m      2\u001b[0m \u001b[0;34m\u001b[0m\u001b[0m\n\u001b[0;32m----> 3\u001b[0;31m \u001b[0mout\u001b[0m \u001b[0;34m=\u001b[0m \u001b[0mtorchvision\u001b[0m\u001b[0;34m.\u001b[0m\u001b[0mutils\u001b[0m\u001b[0;34m.\u001b[0m\u001b[0mmake_grid\u001b[0m\u001b[0;34m(\u001b[0m\u001b[0mimg\u001b[0m\u001b[0;34m,\u001b[0m \u001b[0mmask\u001b[0m\u001b[0;34m)\u001b[0m\u001b[0;34m\u001b[0m\u001b[0;34m\u001b[0m\u001b[0m\n\u001b[0m\u001b[1;32m      4\u001b[0m \u001b[0mimshow\u001b[0m\u001b[0;34m(\u001b[0m\u001b[0mout\u001b[0m\u001b[0;34m)\u001b[0m\u001b[0;34m\u001b[0m\u001b[0;34m\u001b[0m\u001b[0m\n",
      "\u001b[0;32m~/miniconda3/envs/fsimple/lib/python3.8/site-packages/torch/autograd/grad_mode.py\u001b[0m in \u001b[0;36mdecorate_context\u001b[0;34m(*args, **kwargs)\u001b[0m\n\u001b[1;32m     26\u001b[0m         \u001b[0;32mdef\u001b[0m \u001b[0mdecorate_context\u001b[0m\u001b[0;34m(\u001b[0m\u001b[0;34m*\u001b[0m\u001b[0margs\u001b[0m\u001b[0;34m,\u001b[0m \u001b[0;34m**\u001b[0m\u001b[0mkwargs\u001b[0m\u001b[0;34m)\u001b[0m\u001b[0;34m:\u001b[0m\u001b[0;34m\u001b[0m\u001b[0;34m\u001b[0m\u001b[0m\n\u001b[1;32m     27\u001b[0m             \u001b[0;32mwith\u001b[0m \u001b[0mself\u001b[0m\u001b[0;34m.\u001b[0m\u001b[0m__class__\u001b[0m\u001b[0;34m(\u001b[0m\u001b[0;34m)\u001b[0m\u001b[0;34m:\u001b[0m\u001b[0;34m\u001b[0m\u001b[0;34m\u001b[0m\u001b[0m\n\u001b[0;32m---> 28\u001b[0;31m                 \u001b[0;32mreturn\u001b[0m \u001b[0mfunc\u001b[0m\u001b[0;34m(\u001b[0m\u001b[0;34m*\u001b[0m\u001b[0margs\u001b[0m\u001b[0;34m,\u001b[0m \u001b[0;34m**\u001b[0m\u001b[0mkwargs\u001b[0m\u001b[0;34m)\u001b[0m\u001b[0;34m\u001b[0m\u001b[0;34m\u001b[0m\u001b[0m\n\u001b[0m\u001b[1;32m     29\u001b[0m         \u001b[0;32mreturn\u001b[0m \u001b[0mcast\u001b[0m\u001b[0;34m(\u001b[0m\u001b[0mF\u001b[0m\u001b[0;34m,\u001b[0m \u001b[0mdecorate_context\u001b[0m\u001b[0;34m)\u001b[0m\u001b[0;34m\u001b[0m\u001b[0;34m\u001b[0m\u001b[0m\n\u001b[1;32m     30\u001b[0m \u001b[0;34m\u001b[0m\u001b[0m\n",
      "\u001b[0;32m~/miniconda3/envs/fsimple/lib/python3.8/site-packages/torchvision/utils.py\u001b[0m in \u001b[0;36mmake_grid\u001b[0;34m(tensor, nrow, padding, normalize, value_range, scale_each, pad_value, **kwargs)\u001b[0m\n\u001b[1;32m     92\u001b[0m     \u001b[0;31m# make the mini-batch of images into a grid\u001b[0m\u001b[0;34m\u001b[0m\u001b[0;34m\u001b[0m\u001b[0;34m\u001b[0m\u001b[0m\n\u001b[1;32m     93\u001b[0m     \u001b[0mnmaps\u001b[0m \u001b[0;34m=\u001b[0m \u001b[0mtensor\u001b[0m\u001b[0;34m.\u001b[0m\u001b[0msize\u001b[0m\u001b[0;34m(\u001b[0m\u001b[0;36m0\u001b[0m\u001b[0;34m)\u001b[0m\u001b[0;34m\u001b[0m\u001b[0;34m\u001b[0m\u001b[0m\n\u001b[0;32m---> 94\u001b[0;31m     \u001b[0mxmaps\u001b[0m \u001b[0;34m=\u001b[0m \u001b[0mmin\u001b[0m\u001b[0;34m(\u001b[0m\u001b[0mnrow\u001b[0m\u001b[0;34m,\u001b[0m \u001b[0mnmaps\u001b[0m\u001b[0;34m)\u001b[0m\u001b[0;34m\u001b[0m\u001b[0;34m\u001b[0m\u001b[0m\n\u001b[0m\u001b[1;32m     95\u001b[0m     \u001b[0mymaps\u001b[0m \u001b[0;34m=\u001b[0m \u001b[0mint\u001b[0m\u001b[0;34m(\u001b[0m\u001b[0mmath\u001b[0m\u001b[0;34m.\u001b[0m\u001b[0mceil\u001b[0m\u001b[0;34m(\u001b[0m\u001b[0mfloat\u001b[0m\u001b[0;34m(\u001b[0m\u001b[0mnmaps\u001b[0m\u001b[0;34m)\u001b[0m \u001b[0;34m/\u001b[0m \u001b[0mxmaps\u001b[0m\u001b[0;34m)\u001b[0m\u001b[0;34m)\u001b[0m\u001b[0;34m\u001b[0m\u001b[0;34m\u001b[0m\u001b[0m\n\u001b[1;32m     96\u001b[0m     \u001b[0mheight\u001b[0m\u001b[0;34m,\u001b[0m \u001b[0mwidth\u001b[0m \u001b[0;34m=\u001b[0m \u001b[0mint\u001b[0m\u001b[0;34m(\u001b[0m\u001b[0mtensor\u001b[0m\u001b[0;34m.\u001b[0m\u001b[0msize\u001b[0m\u001b[0;34m(\u001b[0m\u001b[0;36m2\u001b[0m\u001b[0;34m)\u001b[0m \u001b[0;34m+\u001b[0m \u001b[0mpadding\u001b[0m\u001b[0;34m)\u001b[0m\u001b[0;34m,\u001b[0m \u001b[0mint\u001b[0m\u001b[0;34m(\u001b[0m\u001b[0mtensor\u001b[0m\u001b[0;34m.\u001b[0m\u001b[0msize\u001b[0m\u001b[0;34m(\u001b[0m\u001b[0;36m3\u001b[0m\u001b[0;34m)\u001b[0m \u001b[0;34m+\u001b[0m \u001b[0mpadding\u001b[0m\u001b[0;34m)\u001b[0m\u001b[0;34m\u001b[0m\u001b[0;34m\u001b[0m\u001b[0m\n",
      "\u001b[0;31mRuntimeError\u001b[0m: Boolean value of Tensor with more than one value is ambiguous"
     ]
    }
   ],
   "source": [
    "img, mask, fname = next(iter(loader))\n",
    "\n",
    "out = torchvision.utils.make_grid(img, mask)\n",
    "imshow(out)"
   ]
  },
  {
   "cell_type": "code",
   "execution_count": 23,
   "metadata": {},
   "outputs": [
    {
     "data": {
      "text/plain": [
       "torch.Size([4, 3, 512, 512])"
      ]
     },
     "execution_count": 23,
     "metadata": {},
     "output_type": "execute_result"
    }
   ],
   "source": [
    "img.shape"
   ]
  },
  {
   "cell_type": "code",
   "execution_count": null,
   "metadata": {},
   "outputs": [],
   "source": []
  },
  {
   "cell_type": "code",
   "execution_count": null,
   "metadata": {},
   "outputs": [],
   "source": []
  },
  {
   "cell_type": "code",
   "execution_count": 15,
   "metadata": {},
   "outputs": [
    {
     "data": {
      "text/plain": [
       "tensor([[[ 0.0000,  0.0000,  0.0000,  ...,  0.0000,  0.0000,  0.0000],\n",
       "         [ 0.0000,  0.0000,  0.0000,  ...,  0.0000,  0.0000,  0.0000],\n",
       "         [ 0.0000,  0.0000, -1.6941,  ..., -1.8064,  0.0000,  0.0000],\n",
       "         ...,\n",
       "         [ 0.0000,  0.0000, -2.0155,  ..., -1.3912,  0.0000,  0.0000],\n",
       "         [ 0.0000,  0.0000,  0.0000,  ...,  0.0000,  0.0000,  0.0000],\n",
       "         [ 0.0000,  0.0000,  0.0000,  ...,  0.0000,  0.0000,  0.0000]],\n",
       "\n",
       "        [[ 0.0000,  0.0000,  0.0000,  ...,  0.0000,  0.0000,  0.0000],\n",
       "         [ 0.0000,  0.0000,  0.0000,  ...,  0.0000,  0.0000,  0.0000],\n",
       "         [ 0.0000,  0.0000, -1.6025,  ..., -1.7173,  0.0000,  0.0000],\n",
       "         ...,\n",
       "         [ 0.0000,  0.0000, -1.9311,  ..., -1.2928,  0.0000,  0.0000],\n",
       "         [ 0.0000,  0.0000,  0.0000,  ...,  0.0000,  0.0000,  0.0000],\n",
       "         [ 0.0000,  0.0000,  0.0000,  ...,  0.0000,  0.0000,  0.0000]],\n",
       "\n",
       "        [[ 0.0000,  0.0000,  0.0000,  ...,  0.0000,  0.0000,  0.0000],\n",
       "         [ 0.0000,  0.0000,  0.0000,  ...,  0.0000,  0.0000,  0.0000],\n",
       "         [ 0.0000,  0.0000, -1.3731,  ..., -1.4875,  0.0000,  0.0000],\n",
       "         ...,\n",
       "         [ 0.0000,  0.0000, -1.7003,  ..., -1.0648,  0.0000,  0.0000],\n",
       "         [ 0.0000,  0.0000,  0.0000,  ...,  0.0000,  0.0000,  0.0000],\n",
       "         [ 0.0000,  0.0000,  0.0000,  ...,  0.0000,  0.0000,  0.0000]]])"
      ]
     },
     "execution_count": 15,
     "metadata": {},
     "output_type": "execute_result"
    }
   ],
   "source": [
    "out"
   ]
  },
  {
   "cell_type": "code",
   "execution_count": null,
   "metadata": {},
   "outputs": [],
   "source": []
  },
  {
   "cell_type": "code",
   "execution_count": 13,
   "metadata": {},
   "outputs": [],
   "source": [
    "#next(iter(loader))"
   ]
  },
  {
   "cell_type": "code",
   "execution_count": null,
   "metadata": {},
   "outputs": [],
   "source": []
  },
  {
   "cell_type": "code",
   "execution_count": null,
   "metadata": {},
   "outputs": [],
   "source": []
  },
  {
   "cell_type": "code",
   "execution_count": null,
   "metadata": {},
   "outputs": [],
   "source": []
  },
  {
   "cell_type": "code",
   "execution_count": 1,
   "metadata": {},
   "outputs": [
    {
     "ename": "NameError",
     "evalue": "name 'ChestXrayDataset' is not defined",
     "output_type": "error",
     "traceback": [
      "\u001b[0;31m---------------------------------------------------------------------------\u001b[0m",
      "\u001b[0;31mNameError\u001b[0m                                 Traceback (most recent call last)",
      "\u001b[0;32m/tmp/ipykernel_3395820/1310250800.py\u001b[0m in \u001b[0;36m<module>\u001b[0;34m\u001b[0m\n\u001b[1;32m      2\u001b[0m \u001b[0;31m#_path = \"/home/data/02_SSD4TB/suzy/datasets/public/testy\"\u001b[0m\u001b[0;34m\u001b[0m\u001b[0;34m\u001b[0m\u001b[0;34m\u001b[0m\u001b[0m\n\u001b[1;32m      3\u001b[0m \u001b[0;34m\u001b[0m\u001b[0m\n\u001b[0;32m----> 4\u001b[0;31m \u001b[0mvalid_dataset\u001b[0m \u001b[0;34m=\u001b[0m \u001b[0mChestXrayDataset\u001b[0m\u001b[0;34m(\u001b[0m\u001b[0mroot\u001b[0m\u001b[0;34m=\u001b[0m\u001b[0m_path\u001b[0m\u001b[0;34m,\u001b[0m \u001b[0mdownload\u001b[0m\u001b[0;34m=\u001b[0m\u001b[0;32mFalse\u001b[0m\u001b[0;34m,\u001b[0m \u001b[0mmode\u001b[0m\u001b[0;34m=\u001b[0m\u001b[0;34m\"val\"\u001b[0m\u001b[0;34m,\u001b[0m \u001b[0mshow\u001b[0m\u001b[0;34m=\u001b[0m\u001b[0;32mTrue\u001b[0m\u001b[0;34m)\u001b[0m\u001b[0;34m\u001b[0m\u001b[0;34m\u001b[0m\u001b[0m\n\u001b[0m\u001b[1;32m      5\u001b[0m \u001b[0;31m#valid_dataset.visualize_dataset()\u001b[0m\u001b[0;34m\u001b[0m\u001b[0;34m\u001b[0m\u001b[0;34m\u001b[0m\u001b[0m\n",
      "\u001b[0;31mNameError\u001b[0m: name 'ChestXrayDataset' is not defined"
     ]
    }
   ],
   "source": [
    "_path = \"/home/data/02_SSD4TB/suzy/datasets/public/chest-xray\"\n",
    "#_path = \"/home/data/02_SSD4TB/suzy/datasets/public/testy\"\n",
    "\n",
    "valid_dataset = ChestXrayDataset(root=_path, download=False, mode=\"val\", show=True)\n",
    "#valid_dataset.visualize_dataset()"
   ]
  },
  {
   "cell_type": "code",
   "execution_count": null,
   "metadata": {},
   "outputs": [],
   "source": []
  },
  {
   "cell_type": "code",
   "execution_count": null,
   "metadata": {},
   "outputs": [],
   "source": []
  },
  {
   "cell_type": "code",
   "execution_count": null,
   "metadata": {},
   "outputs": [],
   "source": []
  },
  {
   "cell_type": "code",
   "execution_count": null,
   "metadata": {},
   "outputs": [],
   "source": []
  },
  {
   "cell_type": "code",
   "execution_count": null,
   "metadata": {},
   "outputs": [],
   "source": []
  },
  {
   "cell_type": "code",
   "execution_count": null,
   "metadata": {},
   "outputs": [],
   "source": []
  },
  {
   "cell_type": "code",
   "execution_count": null,
   "metadata": {},
   "outputs": [],
   "source": []
  },
  {
   "cell_type": "code",
   "execution_count": null,
   "metadata": {},
   "outputs": [],
   "source": []
  },
  {
   "cell_type": "code",
   "execution_count": null,
   "metadata": {},
   "outputs": [],
   "source": []
  },
  {
   "cell_type": "code",
   "execution_count": 2,
   "metadata": {},
   "outputs": [
    {
     "data": {
      "image/png": "[encoded data removed]",
      "text/plain": [
       "<Figure size 432x288 with 1 Axes>"
      ]
     },
     "metadata": {
      "needs_background": "light"
     },
     "output_type": "display_data"
    },
    {
     "data": {
      "image/png": "[encoded data removed]",
      "text/plain": [
       "<Figure size 432x288 with 1 Axes>"
      ]
     },
     "execution_count": 2,
     "metadata": {},
     "output_type": "execute_result"
    }
   ],
   "source": [
    "import os\n",
    "import torchvision\n",
    "from farabio.data.biodatasets import ChestXrayDataset\n",
    "from torch.utils.data import Dataset, DataLoader\n",
    "import matplotlib.pyplot as plt\n",
    "import numpy as np\n",
    "\n",
    "_path = \"/home/data/02_SSD4TB/suzy/datasets/public/chest-xray\"\n",
    "#_path = \"/home/data/02_SSD4TB/suzy/datasets/public/testy\"\n",
    "\n",
    "valid_dataset = ChestXrayDataset(root=_path, download=False, mode=\"val\")\n",
    "#valid_dataset.visualize_dataset()\n",
    "\n",
    "#print(valid_dataset.__getitem__(0)[0])\n",
    "train_loader = DataLoader(valid_dataset, batch_size=4, shuffle=True)\n",
    "inputs, classes = next(iter(train_loader))\n",
    "class_names = valid_dataset.classes\n",
    "\n",
    "#inputs, classes = next(iter(train_loader))\n",
    "out = torchvision.utils.make_grid(inputs)\n",
    "\n",
    "def imshow(inp, title=None):\n",
    "    inp = inp.numpy().transpose((1, 2, 0))\n",
    "    mean = np.array([0.485, 0.456, 0.406])\n",
    "    std = np.array([0.229, 0.224, 0.225])\n",
    "    inp = std * inp + mean\n",
    "    inp = np.clip(inp, 0, 1)\n",
    "    fig = plt.gcf()\n",
    "    plt.imshow(inp)\n",
    "    if title is not None:\n",
    "        plt.title(title)\n",
    "    plt.pause(0.001)\n",
    "    return fig\n",
    "\n",
    "imshow(out, title=[class_names[x] for x in classes])"
   ]
  },
  {
   "cell_type": "code",
   "execution_count": null,
   "metadata": {},
   "outputs": [],
   "source": []
  }
 ],
 "metadata": {
  "interpreter": {
   "hash": "7359474afcefc4fb684f05f5b663e651e302fe22c8298f846c22242b5cf24d3e"
  },
  "kernelspec": {
   "display_name": "Python 3 (ipykernel)",
   "language": "python",
   "name": "python3"
  },
  "language_info": {
   "codemirror_mode": {
    "name": "ipython",
    "version": 3
   },
   "file_extension": ".py",
   "mimetype": "text/x-python",
   "name": "python",
   "nbconvert_exporter": "python",
   "pygments_lexer": "ipython3",
   "version": "3.8.10"
  }
 },
 "nbformat": 4,
 "nbformat_minor": 4
}
