{
 "cells": [
  {
   "cell_type": "code",
   "execution_count": 30,
   "id": "62581275-45b2-4f4a-8558-a3f5d1ff2ba4",
   "metadata": {},
   "outputs": [],
   "source": [
    "import unittest\n",
    "import farabio\n",
    "from farabio.data.biodatasets import ChestXrayDataset, DSB18Dataset, HistocancerDataset, RANZCRDataset, RetinopathyDataset"
   ]
  },
  {
   "cell_type": "code",
   "execution_count": 6,
   "id": "5d18120e-7e52-4035-8b2e-4e45e492a81f",
   "metadata": {},
   "outputs": [],
   "source": [
    "_path = \"/home/data/02_SSD4TB/suzy/datasets/public/chest-xray\"\n",
    "valid_dataset = ChestXrayDataset(root=_path, download=False, mode=\"val\", show=False)"
   ]
  },
  {
   "cell_type": "code",
   "execution_count": 20,
   "id": "971ab3d6-435d-4122-bf23-76420013fcfd",
   "metadata": {},
   "outputs": [],
   "source": [
    "_path = \"/home/data/02_SSD4TB/suzy/datasets/public/data-science-bowl-2018\"\n",
    "train_dataset = DSB18Dataset(root=_path, transform=None, mode=\"train\", download=False, show=False)"
   ]
  },
  {
   "cell_type": "code",
   "execution_count": 24,
   "id": "5c6196c3-12cc-4b86-9d2f-3265d36267cd",
   "metadata": {},
   "outputs": [],
   "source": [
    "_path = \"/home/data/02_SSD4TB/suzy/datasets/public/histopathologic-cancer-detection\"\n",
    "train_dataset = HistocancerDataset(root=_path, download=False, mode=\"train\", show=False)"
   ]
  },
  {
   "cell_type": "code",
   "execution_count": 28,
   "id": "f64d5d4b-f943-42e2-bf9b-e432bb540e96",
   "metadata": {},
   "outputs": [],
   "source": [
    "_path = \"/home/data/02_SSD4TB/suzy/datasets/public/ranzcr-clip-catheter-line-classification\"\n",
    "train_dataset = RANZCRDataset(root=_path, show=False, shape=512, mode=\"train\")"
   ]
  },
  {
   "cell_type": "code",
   "execution_count": 32,
   "id": "5d46a825-9e33-46f8-ab99-00db90a8a7cd",
   "metadata": {},
   "outputs": [],
   "source": [
    "_path = \"/home/data/02_SSD4TB/suzy/datasets/public/aptos2019-blindness-detection\"\n",
    "train_dataset = RetinopathyDataset(root=_path, mode=\"train\", show=False)"
   ]
  },
  {
   "cell_type": "code",
   "execution_count": null,
   "id": "d90bde94-4e6a-47b2-98ee-60901968d63e",
   "metadata": {},
   "outputs": [],
   "source": []
  },
  {
   "cell_type": "code",
   "execution_count": 29,
   "id": "7884307b-da8b-430a-809c-76dfbe4fde94",
   "metadata": {},
   "outputs": [
    {
     "data": {
      "text/plain": [
       "14399"
      ]
     },
     "execution_count": 29,
     "metadata": {},
     "output_type": "execute_result"
    }
   ],
   "source": [
    "len(train_dataset)"
   ]
  },
  {
   "cell_type": "code",
   "execution_count": 11,
   "id": "ba49b5bb-d526-43fb-837b-9e9d0d1ee66a",
   "metadata": {},
   "outputs": [
    {
     "name": "stderr",
     "output_type": "stream",
     "text": [
      "E\n",
      "======================================================================\n",
      "ERROR: /home/suzy/ (unittest.loader._FailedTest)\n",
      "----------------------------------------------------------------------\n",
      "AttributeError: module '__main__' has no attribute '/home/suzy/'\n",
      "\n",
      "----------------------------------------------------------------------\n",
      "Ran 1 test in 0.001s\n",
      "\n",
      "FAILED (errors=1)\n"
     ]
    },
    {
     "ename": "SystemExit",
     "evalue": "True",
     "output_type": "error",
     "traceback": [
      "An exception has occurred, use %tb to see the full traceback.\n",
      "\u001b[0;31mSystemExit\u001b[0m\u001b[0;31m:\u001b[0m True\n"
     ]
    },
    {
     "name": "stderr",
     "output_type": "stream",
     "text": [
      "/home/suzy/miniconda3/envs/fclean/lib/python3.8/site-packages/IPython/core/interactiveshell.py:3449: UserWarning: To exit: use 'exit', 'quit', or Ctrl-D.\n",
      "  warn(\"To exit: use 'exit', 'quit', or Ctrl-D.\", stacklevel=1)\n"
     ]
    }
   ],
   "source": [
    "\n",
    "\n",
    "class TestBiodatasets(unittest.TestCase):\n",
    "    def testChestXrayDataset(self):\n",
    "        _path = \"/home/data/02_SSD4TB/suzy/datasets/public/chest-xray\"\n",
    "        valid_dataset = ChestXrayDataset(root=_path, download=False, mode=\"val\", show=False)\n",
    "        print(valid_dataset)\n",
    "    \n",
    "    def testDSB18Dataset(self):\n",
    "        _path = \"/home/data/02_SSD4TB/suzy/datasets/public/data-science-bowl-2018\"\n",
    "        train_dataset = DSB18Dataset(root=_path, transform=None, mode=\"train\", download=False, show=False)\n",
    "        print(train_dataset)\n",
    "    \n",
    "    def testHistocancerDataset(self):\n",
    "        _path = \"/home/data/02_SSD4TB/suzy/datasets/public/histopathologic-cancer-detection\"\n",
    "        train_dataset = HistocancerDataset(root=_path, download=False, mode=\"train\", show=False)\n",
    "        print(train_dataset)\n",
    "        \n",
    "    def testRANZCRDataset(self):\n",
    "        _path = \"/home/data/02_SSD4TB/suzy/datasets/public/ranzcr-clip-catheter-line-classification\"\n",
    "        train_dataset = RANZCRDataset(root=_path, show=False, shape=512, mode=\"train\")\n",
    "        print(train_dataset)\n",
    "    \n",
    "    def testRetinopathyDataset(self):\n",
    "        _path = \"/home/data/02_SSD4TB/suzy/datasets/public/aptos2019-blindness-detection\"\n",
    "        train_dataset = RetinopathyDataset(root=_path, mode=\"train\", show=False)\n",
    "        print(train_dataset)\n",
    "\n",
    "if __name__ == '__main__':\n",
    "    unittest.main()"
   ]
  },
  {
   "cell_type": "code",
   "execution_count": null,
   "id": "9893964b-1916-4718-abe4-1437e68dbd4c",
   "metadata": {},
   "outputs": [],
   "source": []
  }
 ],
 "metadata": {
  "kernelspec": {
   "display_name": "Python 3 (ipykernel)",
   "language": "python",
   "name": "python3"
  },
  "language_info": {
   "codemirror_mode": {
    "name": "ipython",
    "version": 3
   },
   "file_extension": ".py",
   "mimetype": "text/x-python",
   "name": "python",
   "nbconvert_exporter": "python",
   "pygments_lexer": "ipython3",
   "version": "3.8.10"
  }
 },
 "nbformat": 4,
 "nbformat_minor": 5
}
