{
 "cells": [
  {
   "cell_type": "code",
   "execution_count": null,
   "id": "cf191cf6-0c03-4636-b33d-85baeb9570e5",
   "metadata": {},
   "outputs": [],
   "source": []
  },
  {
   "cell_type": "code",
   "execution_count": 1,
   "id": "1aea1b9d-94a4-47de-b375-7b36235bef20",
   "metadata": {},
   "outputs": [],
   "source": [
    "#from farabio.models.classification.conv import resnet\n",
    "import torch\n",
    "from torch import nn\n",
    "from typing import Type, Any, Callable, Union, List, Optional, Dict\n",
    "from collections import OrderedDict\n",
    "from torch.nn import functional as F\n",
    "from torchvision import transforms\n",
    "from torch import Tensor\n",
    "from farabio.models.classification.conv import resnet #######???\n",
    "from farabio.models._utils import IntermediateLayerGetter\n",
    "from farabio.models.segmentation.deeplab.deeplabv3 import DeepLabHead, DeepLabV3\n",
    "from farabio.models.classification.conv import mobilenetv3\n",
    "from farabio.models.segmentation.fcn.fcn import FCN, FCNHead"
   ]
  },
  {
   "cell_type": "code",
   "execution_count": null,
   "id": "98f1c5dd-92f1-4066-8565-b93381ade0dc",
   "metadata": {},
   "outputs": [],
   "source": []
  }
 ],
 "metadata": {
  "kernelspec": {
   "display_name": "Python 3 (ipykernel)",
   "language": "python",
   "name": "python3"
  },
  "language_info": {
   "codemirror_mode": {
    "name": "ipython",
    "version": 3
   },
   "file_extension": ".py",
   "mimetype": "text/x-python",
   "name": "python",
   "nbconvert_exporter": "python",
   "pygments_lexer": "ipython3",
   "version": "3.8.10"
  }
 },
 "nbformat": 4,
 "nbformat_minor": 5
}
