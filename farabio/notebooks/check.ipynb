{
 "cells": [
  {
   "cell_type": "code",
   "execution_count": 1,
   "id": "d86d7e9a-3412-4493-935b-64e6e1c3aea8",
   "metadata": {},
   "outputs": [],
   "source": [
    "import os\n",
    "import random\n",
    "import subprocess\n",
    "import numpy as np\n",
    "import pandas as pd\n",
    "from PIL import Image\n",
    "import albumentations as A\n",
    "from albumentations.pytorch import ToTensorV2\n",
    "from typing import Optional, Callable\n",
    "import matplotlib.pyplot as plt\n",
    "from skimage import io, transform\n",
    "from sklearn.model_selection import train_test_split\n",
    "from sklearn.preprocessing import OrdinalEncoder\n",
    "import torch\n",
    "from torch.utils.data import Dataset, DataLoader\n",
    "import torchvision\n",
    "import torchvision.transforms.functional as F\n",
    "from torchvision import transforms\n",
    "from torchvision.datasets import ImageFolder\n",
    "from torchvision.utils import draw_segmentation_masks\n",
    "from zipfile import ZipFile\n",
    "import glob\n",
    "import torchvision.models as models\n",
    "import torch.nn as nn"
   ]
  },
  {
   "cell_type": "code",
   "execution_count": 2,
   "id": "556aa599-818a-4844-ad82-706ebea01c0c",
   "metadata": {},
   "outputs": [],
   "source": [
    "_path_chest = \"/home/data/02_SSD4TB/suzy/datasets/public/chest-xray\"\n",
    "_path_dsb = \"/home/data/02_SSD4TB/suzy/datasets/public/data-science-bowl-2018\"\n",
    "_path_histo = \"/home/data/02_SSD4TB/suzy/datasets/public/histopathologic-cancer-detection\"\n",
    "_path_ranzcr = \"/home/data/02_SSD4TB/suzy/datasets/public/ranzcr-clip-catheter-line-classification\"\n",
    "_path_retina = \"/home/data/02_SSD4TB/suzy/datasets/public/aptos2019-blindness-detection\""
   ]
  },
  {
   "cell_type": "code",
   "execution_count": 2,
   "id": "3f22956f-f271-4a4f-a4f7-18ef2cfc130f",
   "metadata": {},
   "outputs": [],
   "source": [
    "from farabio.models.classification.conv import *"
   ]
  },
  {
   "cell_type": "code",
   "execution_count": 5,
   "id": "683c4c0a-ff0a-4127-93be-07db783b22bb",
   "metadata": {},
   "outputs": [
    {
     "data": {
      "text/plain": [
       "ResNet(\n",
       "  (conv1): Conv2d(3, 64, kernel_size=(7, 7), stride=(2, 2), padding=(3, 3), bias=False)\n",
       "  (bn1): BatchNorm2d(64, eps=1e-05, momentum=0.1, affine=True, track_running_stats=True)\n",
       "  (relu): ReLU(inplace=True)\n",
       "  (maxpool): MaxPool2d(kernel_size=3, stride=2, padding=1, dilation=1, ceil_mode=False)\n",
       "  (avgpool): AdaptiveAvgPool2d(output_size=(1, 1))\n",
       "  (fc): Linear(in_features=512, out_features=1000, bias=True)\n",
       "  (layer1): Sequential(\n",
       "    (0): BasicBlock(\n",
       "      (conv1): Conv2d(64, 64, kernel_size=(3, 3), stride=(1, 1), padding=(1, 1), bias=False)\n",
       "      (bn1): BatchNorm2d(64, eps=1e-05, momentum=0.1, affine=True, track_running_stats=True)\n",
       "      (relu): ReLU(inplace=True)\n",
       "      (conv2): Conv2d(64, 64, kernel_size=(3, 3), stride=(1, 1), padding=(1, 1), bias=False)\n",
       "      (bn2): BatchNorm2d(64, eps=1e-05, momentum=0.1, affine=True, track_running_stats=True)\n",
       "    )\n",
       "    (1): BasicBlock(\n",
       "      (conv1): Conv2d(64, 64, kernel_size=(3, 3), stride=(1, 1), padding=(1, 1), bias=False)\n",
       "      (bn1): BatchNorm2d(64, eps=1e-05, momentum=0.1, affine=True, track_running_stats=True)\n",
       "      (relu): ReLU(inplace=True)\n",
       "      (conv2): Conv2d(64, 64, kernel_size=(3, 3), stride=(1, 1), padding=(1, 1), bias=False)\n",
       "      (bn2): BatchNorm2d(64, eps=1e-05, momentum=0.1, affine=True, track_running_stats=True)\n",
       "    )\n",
       "  )\n",
       "  (layer2): Sequential(\n",
       "    (0): BasicBlock(\n",
       "      (conv1): Conv2d(64, 128, kernel_size=(3, 3), stride=(2, 2), padding=(1, 1), bias=False)\n",
       "      (bn1): BatchNorm2d(128, eps=1e-05, momentum=0.1, affine=True, track_running_stats=True)\n",
       "      (relu): ReLU(inplace=True)\n",
       "      (conv2): Conv2d(128, 128, kernel_size=(3, 3), stride=(1, 1), padding=(1, 1), bias=False)\n",
       "      (bn2): BatchNorm2d(128, eps=1e-05, momentum=0.1, affine=True, track_running_stats=True)\n",
       "      (downsample): Sequential(\n",
       "        (0): Conv2d(64, 128, kernel_size=(1, 1), stride=(2, 2), bias=False)\n",
       "        (1): BatchNorm2d(128, eps=1e-05, momentum=0.1, affine=True, track_running_stats=True)\n",
       "      )\n",
       "    )\n",
       "    (1): BasicBlock(\n",
       "      (conv1): Conv2d(128, 128, kernel_size=(3, 3), stride=(1, 1), padding=(1, 1), bias=False)\n",
       "      (bn1): BatchNorm2d(128, eps=1e-05, momentum=0.1, affine=True, track_running_stats=True)\n",
       "      (relu): ReLU(inplace=True)\n",
       "      (conv2): Conv2d(128, 128, kernel_size=(3, 3), stride=(1, 1), padding=(1, 1), bias=False)\n",
       "      (bn2): BatchNorm2d(128, eps=1e-05, momentum=0.1, affine=True, track_running_stats=True)\n",
       "    )\n",
       "  )\n",
       "  (layer3): Sequential(\n",
       "    (0): BasicBlock(\n",
       "      (conv1): Conv2d(128, 256, kernel_size=(3, 3), stride=(2, 2), padding=(1, 1), bias=False)\n",
       "      (bn1): BatchNorm2d(256, eps=1e-05, momentum=0.1, affine=True, track_running_stats=True)\n",
       "      (relu): ReLU(inplace=True)\n",
       "      (conv2): Conv2d(256, 256, kernel_size=(3, 3), stride=(1, 1), padding=(1, 1), bias=False)\n",
       "      (bn2): BatchNorm2d(256, eps=1e-05, momentum=0.1, affine=True, track_running_stats=True)\n",
       "      (downsample): Sequential(\n",
       "        (0): Conv2d(128, 256, kernel_size=(1, 1), stride=(2, 2), bias=False)\n",
       "        (1): BatchNorm2d(256, eps=1e-05, momentum=0.1, affine=True, track_running_stats=True)\n",
       "      )\n",
       "    )\n",
       "    (1): BasicBlock(\n",
       "      (conv1): Conv2d(256, 256, kernel_size=(3, 3), stride=(1, 1), padding=(1, 1), bias=False)\n",
       "      (bn1): BatchNorm2d(256, eps=1e-05, momentum=0.1, affine=True, track_running_stats=True)\n",
       "      (relu): ReLU(inplace=True)\n",
       "      (conv2): Conv2d(256, 256, kernel_size=(3, 3), stride=(1, 1), padding=(1, 1), bias=False)\n",
       "      (bn2): BatchNorm2d(256, eps=1e-05, momentum=0.1, affine=True, track_running_stats=True)\n",
       "    )\n",
       "  )\n",
       "  (layer4): Sequential(\n",
       "    (0): BasicBlock(\n",
       "      (conv1): Conv2d(256, 512, kernel_size=(3, 3), stride=(2, 2), padding=(1, 1), bias=False)\n",
       "      (bn1): BatchNorm2d(512, eps=1e-05, momentum=0.1, affine=True, track_running_stats=True)\n",
       "      (relu): ReLU(inplace=True)\n",
       "      (conv2): Conv2d(512, 512, kernel_size=(3, 3), stride=(1, 1), padding=(1, 1), bias=False)\n",
       "      (bn2): BatchNorm2d(512, eps=1e-05, momentum=0.1, affine=True, track_running_stats=True)\n",
       "      (downsample): Sequential(\n",
       "        (0): Conv2d(256, 512, kernel_size=(1, 1), stride=(2, 2), bias=False)\n",
       "        (1): BatchNorm2d(512, eps=1e-05, momentum=0.1, affine=True, track_running_stats=True)\n",
       "      )\n",
       "    )\n",
       "    (1): BasicBlock(\n",
       "      (conv1): Conv2d(512, 512, kernel_size=(3, 3), stride=(1, 1), padding=(1, 1), bias=False)\n",
       "      (bn1): BatchNorm2d(512, eps=1e-05, momentum=0.1, affine=True, track_running_stats=True)\n",
       "      (relu): ReLU(inplace=True)\n",
       "      (conv2): Conv2d(512, 512, kernel_size=(3, 3), stride=(1, 1), padding=(1, 1), bias=False)\n",
       "      (bn2): BatchNorm2d(512, eps=1e-05, momentum=0.1, affine=True, track_running_stats=True)\n",
       "    )\n",
       "  )\n",
       ")"
      ]
     },
     "execution_count": 5,
     "metadata": {},
     "output_type": "execute_result"
    }
   ],
   "source": [
    "resnet18()"
   ]
  },
  {
   "cell_type": "code",
   "execution_count": null,
   "id": "62528ca7-da1e-445e-9eeb-62ca979f74a3",
   "metadata": {},
   "outputs": [],
   "source": []
  },
  {
   "cell_type": "code",
   "execution_count": null,
   "id": "5eb079d0-c031-47b9-8cf2-8869e78178a1",
   "metadata": {},
   "outputs": [],
   "source": []
  },
  {
   "cell_type": "code",
   "execution_count": 67,
   "id": "04991a0a-7810-48d4-b8fb-cd44f86b9015",
   "metadata": {},
   "outputs": [
    {
     "name": "stdout",
     "output_type": "stream",
     "text": [
      "Trainable parameters:  60192808\n",
      "in shape:  torch.Size([1, 3, 224, 224]) , out shape:  torch.Size([1, 1000])\n"
     ]
    }
   ],
   "source": [
    "#18 34 50 101 152\n",
    "import numpy as np\n",
    "import torch\n",
    "import torch.nn as nn\n",
    "from typing import Union, List, Any, Type, Optional\n",
    "from farabio.utils.helpers import get_num_parameters\n",
    "\n",
    "__all__ = ['ResNet', 'resnet18', 'resnet34', 'resnet50', 'resnet101', 'resnet152']\n",
    "\n",
    "cfgs = {\n",
    "    'resnet18': [2, 2, 2, 2],\n",
    "    'resnet34': [3, 4, 6, 3],\n",
    "    'resnet50': [3, 4, 6, 3],\n",
    "    'resnet101': [3, 4, 23, 3],\n",
    "    'resnet152': [3, 8, 36, 3]\n",
    "}\n",
    "\n",
    "\n",
    "def conv1x1(\n",
    "    in_planes: int,\n",
    "    out_planes: int,\n",
    "    stride: int = 1,\n",
    ") -> nn.Conv2d:\n",
    "    return nn.Conv2d(\n",
    "        in_planes,\n",
    "        out_planes,\n",
    "        kernel_size=1,\n",
    "        stride=stride,\n",
    "        bias=False\n",
    "    )\n",
    "\n",
    "def conv3x3(\n",
    "    in_planes: int,\n",
    "    out_planes: int,\n",
    "    stride: int = 1,\n",
    "    groups: int = 1,\n",
    "    dilation: int = 1\n",
    ") -> nn.Conv2d:\n",
    "    return nn.Conv2d(\n",
    "        in_planes,\n",
    "        out_planes,\n",
    "        kernel_size=3,\n",
    "        stride=stride,\n",
    "        padding=dilation,\n",
    "        groups=groups,\n",
    "        bias=False,\n",
    "        dilation=dilation\n",
    "    )\n",
    "\n",
    "            \n",
    "# Figure 5 of paper\n",
    "class BasicBlock(nn.Module):\n",
    "    expansion: int = 1\n",
    "\n",
    "    def __init__(\n",
    "        self,\n",
    "        in_planes: int,\n",
    "        planes: int,\n",
    "        stride: int = 1,\n",
    "        downsample: Optional[nn.Module] = None\n",
    "    ) -> None:\n",
    "        super(BasicBlock, self).__init__()\n",
    "              \n",
    "        self.conv1 = conv3x3(in_planes, planes, stride)\n",
    "        self.bn1 = nn.BatchNorm2d(planes)\n",
    "        self.relu = nn.ReLU(inplace=True)\n",
    "        self.conv2 = conv3x3(planes, planes)\n",
    "        self.bn2 = nn.BatchNorm2d(planes)\n",
    "        self.stride = stride\n",
    "        self.downsample = downsample\n",
    "    \n",
    "    def forward(self, x: torch.Tensor) -> torch.Tensor:\n",
    "        identity = x\n",
    "        \n",
    "        out = self.conv1(x)\n",
    "        out = self.bn1(out)\n",
    "        out = self.relu(out)\n",
    "        \n",
    "        out = self.conv2(out)\n",
    "        out = self.bn2(out)\n",
    "        \n",
    "        if self.downsample is not None:\n",
    "            identity = self.downsample(x)\n",
    "\n",
    "        out += identity\n",
    "        out = self.relu(out)\n",
    "        \n",
    "        return out\n",
    "\n",
    "        \n",
    "class Bottleneck(nn.Module):\n",
    "    expansion: int = 4\n",
    "    def __init__(\n",
    "        self,\n",
    "        in_planes: int,\n",
    "        planes: int,\n",
    "        stride: int = 1,\n",
    "        downsample: Optional[nn.Module] = None\n",
    "    ) -> None:\n",
    "        super(Bottleneck, self).__init__()\n",
    "        self.conv1 = conv1x1(in_planes, planes)\n",
    "        self.bn1 = nn.BatchNorm2d(planes)\n",
    "        self.conv2 = conv3x3(planes, planes, stride)\n",
    "        self.bn2 = nn.BatchNorm2d(planes)\n",
    "        self.conv3 = conv1x1(planes, planes * self.expansion)\n",
    "        self.bn3 = nn.BatchNorm2d(planes * self.expansion)\n",
    "        self.relu = nn.ReLU(inplace=True)\n",
    "        self.stride = stride\n",
    "        self.downsample = downsample\n",
    "    \n",
    "    def forward(self, x: torch.Tensor) -> torch.Tensor:\n",
    "        identity = x\n",
    "\n",
    "        out = self.conv1(x)\n",
    "        out = self.bn1(out)\n",
    "        out = self.relu(out)\n",
    "        \n",
    "        out = self.conv2(out)\n",
    "        out = self.bn2(out)\n",
    "        out = self.relu(out)\n",
    "        \n",
    "        out = self.conv3(out)\n",
    "        out = self.bn3(out)\n",
    "        \n",
    "        if self.downsample is not None:\n",
    "            identity = self.downsample(x)\n",
    "        \n",
    "        out += identity\n",
    "        out = self.relu(out)\n",
    "        \n",
    "        return out\n",
    "\n",
    "\n",
    "class ResNet(nn.Module):\n",
    "    def __init__(\n",
    "        self,\n",
    "        block: Type[Union[BasicBlock, Bottleneck]],\n",
    "        layers: List[int],\n",
    "        n_classes: int = 1000\n",
    "    ) -> None:\n",
    "        super(ResNet, self).__init__()\n",
    "        self.in_planes = 64\n",
    "        self.conv1 = nn.Conv2d(3, 64, kernel_size=7, stride=2, padding=3, bias=False)\n",
    "        self.bn1 = nn.BatchNorm2d(64)\n",
    "        self.relu = nn.ReLU(inplace=True)\n",
    "        self.maxpool = nn.MaxPool2d(kernel_size=3, stride=2, padding=1)\n",
    "        self.avgpool = nn.AdaptiveAvgPool2d((1,1))\n",
    "        self.fc = nn.Linear(512 * block.expansion, n_classes)\n",
    "        \n",
    "        self.layer1 = self._make_layer(block, 64, layers[0])\n",
    "        self.layer2 = self._make_layer(block, 128, layers[1], stride=2)\n",
    "        self.layer3 = self._make_layer(block, 256, layers[2], stride=2)\n",
    "        self.layer4 = self._make_layer(block, 512, layers[3], stride=2)\n",
    "        \n",
    "        \n",
    "    def _make_layer(\n",
    "        self,\n",
    "        block: Type[Union[BasicBlock, Bottleneck]],\n",
    "        planes,\n",
    "        num_blocks,\n",
    "        stride: int = 1\n",
    "    ) -> nn.Sequential:\n",
    "        downsample = None\n",
    "        if stride != 1 or self.in_planes != planes*block.expansion:\n",
    "            downsample = nn.Sequential(\n",
    "                conv1x1(self.in_planes, planes * block.expansion, stride),\n",
    "                nn.BatchNorm2d(planes * block.expansion)\n",
    "        )\n",
    "        \n",
    "        layers = []\n",
    "        layers.append(block(self.in_planes,planes, stride, downsample))\n",
    "        \n",
    "        self.in_planes = planes * block.expansion\n",
    "        for _ in range(1, num_blocks):\n",
    "            layers.append(block(self.in_planes, planes))\n",
    "\n",
    "        return nn.Sequential(*layers)\n",
    "\n",
    "    def forward(self, x: torch.Tensor) -> torch.Tensor:\n",
    "        x = self.conv1(x)\n",
    "        x = self.bn1(x)\n",
    "        x = self.relu(x)\n",
    "        x = self.maxpool(x)\n",
    "        \n",
    "        x = self.layer1(x)\n",
    "        x = self.layer2(x)\n",
    "        x = self.layer3(x)\n",
    "        x = self.layer4(x)\n",
    "        \n",
    "        x = self.avgpool(x)\n",
    "        x = torch.flatten(x, 1)\n",
    "\n",
    "        x = self.fc(x)\n",
    "        \n",
    "        return x\n",
    "    \n",
    "def _resnet(\n",
    "    block: Type[Union[BasicBlock, Bottleneck]],\n",
    "    layers: List[int],\n",
    "    **kwargs: Any\n",
    ") -> ResNet:\n",
    "    model = ResNet(block, layers, **kwargs)\n",
    "    return model\n",
    "\n",
    "def resnet18(**kwargs: Any) -> ResNet:\n",
    "    return _resnet(BasicBlock, cfgs['resnet18'], **kwargs)\n",
    "\n",
    "def resnet34(**kwargs: Any) -> ResNet:\n",
    "    return _resnet(BasicBlock, cfgs['resnet34'], **kwargs)\n",
    "\n",
    "def resnet50(**kwargs: Any) -> ResNet:\n",
    "    return _resnet(Bottleneck, cfgs['resnet50'], **kwargs)\n",
    "\n",
    "def resnet101(**kwargs: Any) -> ResNet:\n",
    "    return _resnet(Bottleneck, cfgs['resnet101'], **kwargs)\n",
    "\n",
    "def resnet152(**kwargs: Any) -> ResNet:\n",
    "    return _resnet(Bottleneck, cfgs['resnet152'], **kwargs)\n",
    "\n",
    "def test(convnet=\"resnet18\"):\n",
    "    x = torch.randn(1,3,224,224)\n",
    "    \n",
    "    tests = { \n",
    "        \"resnet18\": resnet18(),\n",
    "        \"resnet34\": resnet34(),\n",
    "        \"resnet50\": resnet50(),\n",
    "        \"resnet101\": resnet101(),\n",
    "        \"resnet152\": resnet152()\n",
    "    }\n",
    "\n",
    "    model = tests[convnet]\n",
    "    y = model(x)\n",
    "    \n",
    "    print(\"Trainable parameters: \", get_num_parameters(model, True))\n",
    "    print(\"in shape: \", x.shape, \", out shape: \", y.shape)\n",
    "    \n",
    "test(\"resnet152\")"
   ]
  },
  {
   "cell_type": "code",
   "execution_count": null,
   "id": "80bccfcc-2a0c-4598-9433-4b57d07743e1",
   "metadata": {},
   "outputs": [],
   "source": []
  },
  {
   "cell_type": "code",
   "execution_count": null,
   "id": "00404e35-ff79-41c3-8d2f-865cb7d72d8d",
   "metadata": {},
   "outputs": [],
   "source": []
  },
  {
   "cell_type": "code",
   "execution_count": 62,
   "id": "939799d2-8b6b-4691-97dd-bf23152891fd",
   "metadata": {},
   "outputs": [
    {
     "name": "stdout",
     "output_type": "stream",
     "text": [
      "Trainable parameters:  11689512\n",
      "in shape:  torch.Size([1, 3, 224, 224]) , out shape:  torch.Size([1, 1000])\n"
     ]
    }
   ],
   "source": [
    "test(\"resnet18\")"
   ]
  },
  {
   "cell_type": "code",
   "execution_count": null,
   "id": "755ff3d4-7a82-4ac0-8c59-7392a0bbd2bc",
   "metadata": {},
   "outputs": [],
   "source": [
    "11178051"
   ]
  },
  {
   "cell_type": "code",
   "execution_count": null,
   "id": "e5d7ba54-8404-4d33-85b9-4cb0c8d3caf1",
   "metadata": {},
   "outputs": [],
   "source": [
    "11689512"
   ]
  },
  {
   "cell_type": "code",
   "execution_count": null,
   "id": "dc3fad54-4966-4e5a-8c53-553d26d18c08",
   "metadata": {},
   "outputs": [],
   "source": []
  },
  {
   "cell_type": "code",
   "execution_count": null,
   "id": "73b49cf9-0ae3-40a0-a587-051e9d648cbe",
   "metadata": {},
   "outputs": [],
   "source": [
    "11689512"
   ]
  },
  {
   "cell_type": "code",
   "execution_count": null,
   "id": "3f52206b-2c87-4eb5-a89a-cd68353da414",
   "metadata": {},
   "outputs": [],
   "source": []
  },
  {
   "cell_type": "code",
   "execution_count": null,
   "id": "296feb79-926e-4f33-abbb-5cab7d937679",
   "metadata": {},
   "outputs": [],
   "source": [
    "11689512"
   ]
  },
  {
   "cell_type": "code",
   "execution_count": null,
   "id": "1d3bdde6-6d0e-4007-82a3-3f839af6bee9",
   "metadata": {},
   "outputs": [],
   "source": []
  },
  {
   "cell_type": "code",
   "execution_count": null,
   "id": "3956d553-61e1-4085-929d-ac4e6cd00d96",
   "metadata": {},
   "outputs": [],
   "source": [
    " 60192808"
   ]
  },
  {
   "cell_type": "code",
   "execution_count": null,
   "id": "8a13891b-bee6-4c3a-b98d-8817fcf50bc8",
   "metadata": {},
   "outputs": [],
   "source": []
  },
  {
   "cell_type": "code",
   "execution_count": 19,
   "id": "0badba5a-ca94-4e48-85a1-66fc80a5d8ac",
   "metadata": {},
   "outputs": [
    {
     "name": "stdout",
     "output_type": "stream",
     "text": [
      "hi]\n"
     ]
    }
   ],
   "source": [
    "print(\"hi]\")"
   ]
  },
  {
   "cell_type": "code",
   "execution_count": 11,
   "id": "f1fcb67b-cd3f-40ad-833a-6522ae9bf49b",
   "metadata": {},
   "outputs": [
    {
     "name": "stdout",
     "output_type": "stream",
     "text": [
      "First function name:  <class 'str'>\n"
     ]
    }
   ],
   "source": [
    "def cal_odd():\n",
    "    print(\"hery\")\n",
    "\n",
    "print (\"First function name: \", type(str(cal_odd.__name__)))"
   ]
  },
  {
   "cell_type": "code",
   "execution_count": 12,
   "id": "f788d2c8-27cf-430a-97e4-17c0478a2391",
   "metadata": {},
   "outputs": [
    {
     "name": "stdout",
     "output_type": "stream",
     "text": [
      "<class 'str'>\n"
     ]
    }
   ],
   "source": [
    "a = \"as\"\n",
    "print(type(a))"
   ]
  },
  {
   "cell_type": "code",
   "execution_count": null,
   "id": "2e4bd64a-f787-49e2-a556-4064bcfbde8f",
   "metadata": {},
   "outputs": [],
   "source": []
  },
  {
   "cell_type": "code",
   "execution_count": null,
   "id": "916a061f-325e-4cb2-b6ee-37f887930f38",
   "metadata": {},
   "outputs": [],
   "source": []
  },
  {
   "cell_type": "code",
   "execution_count": null,
   "id": "b50a6a5b-9379-40e9-b9c1-89be24342af3",
   "metadata": {},
   "outputs": [],
   "source": []
  },
  {
   "cell_type": "code",
   "execution_count": null,
   "id": "fab94453-bf9e-4fdd-a21f-7e09657b21b4",
   "metadata": {},
   "outputs": [],
   "source": []
  },
  {
   "cell_type": "code",
   "execution_count": null,
   "id": "f9023fac-64f9-45bb-8fa2-0024b91fd3a2",
   "metadata": {},
   "outputs": [],
   "source": []
  },
  {
   "cell_type": "code",
   "execution_count": 3,
   "id": "8e20da1a-028a-4b37-b3ea-5834f9c07898",
   "metadata": {},
   "outputs": [
    {
     "name": "stdout",
     "output_type": "stream",
     "text": [
      "AlexNet(\n",
      "  (relu): ReLU(inplace=True)\n",
      "  (maxpool): MaxPool2d(kernel_size=3, stride=2, padding=0, dilation=1, ceil_mode=False)\n",
      "  (dropout): Dropout(p=0.5, inplace=False)\n",
      "  (conv): Sequential(\n",
      "    (0): Sequential(\n",
      "      (0): Conv2d(3, 64, kernel_size=(11, 11), stride=(4, 4), padding=(2, 2))\n",
      "      (1): ReLU(inplace=True)\n",
      "      (2): MaxPool2d(kernel_size=3, stride=2, padding=0, dilation=1, ceil_mode=False)\n",
      "    )\n",
      "    (1): Sequential(\n",
      "      (0): Conv2d(64, 192, kernel_size=(5, 5), stride=(1, 1), padding=(2, 2))\n",
      "      (1): ReLU(inplace=True)\n",
      "      (2): MaxPool2d(kernel_size=3, stride=2, padding=0, dilation=1, ceil_mode=False)\n",
      "    )\n",
      "    (2): Sequential(\n",
      "      (0): Conv2d(192, 384, kernel_size=(3, 3), stride=(1, 1), padding=(1, 1))\n",
      "      (1): ReLU(inplace=True)\n",
      "    )\n",
      "    (3): Sequential(\n",
      "      (0): Conv2d(384, 256, kernel_size=(3, 3), stride=(1, 1), padding=(1, 1))\n",
      "      (1): ReLU(inplace=True)\n",
      "    )\n",
      "    (4): Sequential(\n",
      "      (0): Conv2d(256, 256, kernel_size=(3, 3), stride=(1, 1), padding=(1, 1))\n",
      "      (1): ReLU(inplace=True)\n",
      "      (2): MaxPool2d(kernel_size=3, stride=2, padding=0, dilation=1, ceil_mode=False)\n",
      "    )\n",
      "  )\n",
      "  (avgpool): AdaptiveAvgPool2d(output_size=(6, 6))\n",
      "  (fc): Sequential(\n",
      "    (0): Sequential(\n",
      "      (0): Dropout(p=0.5, inplace=False)\n",
      "      (1): Linear(in_features=9216, out_features=4096, bias=True)\n",
      "      (2): ReLU(inplace=True)\n",
      "    )\n",
      "    (1): Sequential(\n",
      "      (0): Dropout(p=0.5, inplace=False)\n",
      "      (1): Linear(in_features=4096, out_features=4096, bias=True)\n",
      "      (2): ReLU(inplace=True)\n",
      "    )\n",
      "  )\n",
      "  (final): Linear(in_features=4096, out_features=5, bias=True)\n",
      ")\n"
     ]
    }
   ],
   "source": [
    "model = alexnet(n_classes=5)\n",
    "print(model)"
   ]
  },
  {
   "cell_type": "code",
   "execution_count": null,
   "id": "ae91ac3c-f79d-4f46-80db-8ede53fddb7b",
   "metadata": {},
   "outputs": [],
   "source": []
  },
  {
   "cell_type": "code",
   "execution_count": null,
   "id": "6d7c6a79-c3f8-47e1-985c-ad42e8bb0eda",
   "metadata": {},
   "outputs": [],
   "source": []
  },
  {
   "cell_type": "code",
   "execution_count": null,
   "id": "fee9f2a0-447c-4616-8091-49e6100328e5",
   "metadata": {},
   "outputs": [],
   "source": []
  },
  {
   "cell_type": "code",
   "execution_count": null,
   "id": "78ad2052-38ff-4bc6-9cdc-d4d2ae239a48",
   "metadata": {},
   "outputs": [],
   "source": []
  },
  {
   "cell_type": "code",
   "execution_count": 5,
   "id": "ac6ccdc4-1ec5-4c7f-8339-9df4c9a7450b",
   "metadata": {},
   "outputs": [],
   "source": [
    "\"\"\"AlexNet\n",
    "\n",
    "Adapted from https://github.com/pytorch/vision/blob/master/torchvision/models/alexnet.py\n",
    "\n",
    "Copyright 2021 | farabio\n",
    "\"\"\"\n",
    "import torch\n",
    "import torch.nn as nn\n",
    "from farabio.utils.helpers import get_num_parameters\n",
    "\n",
    "__all__ = ['AlexNet', 'alexnet']\n",
    "\n",
    "\n",
    "class AlexNet(nn.Module):\n",
    "    def __init__(self, n_classes: int = 1000) -> None:\n",
    "        super(AlexNet, self).__init__()\n",
    "        \n",
    "        self.relu = nn.ReLU(inplace=True)\n",
    "        self.maxpool = nn.MaxPool2d(kernel_size=3, stride=2)\n",
    "        self.dropout = nn.Dropout()\n",
    "        \n",
    "        c1 = self._conv_bn(nn.Conv2d(3, 64, kernel_size=11, stride=4, padding=2))\n",
    "        c2 = self._conv_bn(nn.Conv2d(64, 192, kernel_size=5, padding=2))\n",
    "        c3 = self._conv(nn.Conv2d(192, 384, kernel_size=3, padding=1))\n",
    "        c4 = self._conv(nn.Conv2d(384, 256, kernel_size=3, padding=1))\n",
    "        c5 = self._conv_bn(nn.Conv2d(256, 256, kernel_size=3, padding=1))\n",
    "\n",
    "        self.conv = nn.Sequential(c1,c2,c3,c4,c5)\n",
    "        self.avgpool = nn.AdaptiveAvgPool2d((6, 6))\n",
    "        \n",
    "        l1 = self._fc(nn.Linear(256*6*6, 4096))\n",
    "        l2 = self._fc(nn.Linear(4096, 4096))\n",
    "        \n",
    "        self.fc = nn.Sequential(l1, l2)\n",
    "        self.final = nn.Linear(4096, n_classes)\n",
    "        \n",
    "    def forward(self, x: torch.Tensor) -> torch.Tensor:\n",
    "        x = self.conv(x)\n",
    "        x = self.avgpool(x)\n",
    "        x = torch.flatten(x, 1)\n",
    "        x = self.fc(x)\n",
    "        x = self.final(x)\n",
    "        \n",
    "        print(x.shape)\n",
    "        \n",
    "        return x\n",
    "    \n",
    "    def _conv_bn(self, conv):\n",
    "        return nn.Sequential(\n",
    "            conv,\n",
    "            self.relu,\n",
    "            self.maxpool\n",
    "        )\n",
    "    \n",
    "    def _conv(self, conv):\n",
    "        return nn.Sequential(\n",
    "            conv,\n",
    "            self.relu\n",
    "        )\n",
    "    \n",
    "    def _fc(self, linear):\n",
    "        return nn.Sequential(\n",
    "            self.dropout,\n",
    "            linear,\n",
    "            self.relu\n",
    "        )\n",
    "    \n",
    "def alexnet(n_classes):\n",
    "    model = AlexNet(n_classes)\n",
    "    return model\n",
    "\n",
    "def test():\n",
    "    x = torch.randn(1,3,224,224)\n",
    "    model = alexnet(n_classes=3)\n",
    "    y = model(x)\n",
    "    \n",
    "    print(\"Trainable parameters: \", get_num_parameters(model))\n",
    "    print(\"in shape: \", x.shape, \", out shape: \", y.shape)\n",
    "    \n",
    "# test()"
   ]
  },
  {
   "cell_type": "code",
   "execution_count": 6,
   "id": "bf1d76f6-0a54-4352-a5cf-72b616cd5d6c",
   "metadata": {},
   "outputs": [
    {
     "name": "stdout",
     "output_type": "stream",
     "text": [
      "torch.Size([1, 3])\n",
      "Trainable parameters:  57016131\n",
      "in shape:  torch.Size([1, 3, 224, 224]) , out shape:  torch.Size([1, 3])\n"
     ]
    }
   ],
   "source": [
    "test()"
   ]
  },
  {
   "cell_type": "code",
   "execution_count": null,
   "id": "6b22e51f-1bfa-46aa-8c5c-6c21be5bd788",
   "metadata": {},
   "outputs": [],
   "source": []
  },
  {
   "cell_type": "code",
   "execution_count": null,
   "id": "8001f56d-0e0d-4e29-8999-4ed79824f900",
   "metadata": {},
   "outputs": [],
   "source": []
  },
  {
   "cell_type": "code",
   "execution_count": null,
   "id": "d1ca18e0-fc1b-485c-9270-c85ee6091d62",
   "metadata": {},
   "outputs": [],
   "source": [
    "def test(convnet=\"vgg11\"):\n",
    "    x = torch.randn(1,3,224,224)\n",
    "    \n",
    "    tests = { \n",
    "        \"vgg11\": vgg11(),\n",
    "        \"vgg11_bn\": vgg11_bn(),\n",
    "        \"vgg13\": vgg13(),\n",
    "        \"vgg13_bn\": vgg13_bn(),\n",
    "        \"vgg16\": vgg16(),\n",
    "        \"vgg16_bn\": vgg16_bn(),\n",
    "        \"vgg19\": vgg19(),\n",
    "        \"vgg19_bn\": vgg19_bn(n_classes=3)\n",
    "    }\n",
    "    \n",
    "    model = tests[convnet]\n",
    "    y = model(x)\n",
    "    \n",
    "    print(\"Trainable parameters: \", get_num_parameters(model))\n",
    "    print(\"in shape: \", x.shape, \", out shape: \", y.shape)\n",
    "\n",
    "#test(\"vgg19\", n_classes = 3)"
   ]
  },
  {
   "cell_type": "code",
   "execution_count": 3,
   "id": "dc886e11-bb26-419c-b06c-f0663e76fe07",
   "metadata": {},
   "outputs": [],
   "source": []
  },
  {
   "cell_type": "code",
   "execution_count": 4,
   "id": "626592b3-1edb-4215-8706-a1c3e6718ea9",
   "metadata": {},
   "outputs": [],
   "source": [
    "\"\"\"VGG\n",
    "\n",
    "Adapted from https://github.com/pytorch/vision/blob/master/torchvision/models/vgg.py\n",
    "Paper: https://arxiv.org/pdf/1409.1556.pdf\n",
    "\n",
    "Copyright 2021 | farabio\n",
    "\"\"\"\n",
    "    \n",
    "import torch\n",
    "import torch.nn as nn\n",
    "from typing import Union, List, Any, cast\n",
    "from farabio.utils.helpers import get_num_parameters\n",
    "\n",
    "__all__ = [\n",
    "    'VGG', 'vgg11', 'vgg11_bn', 'vgg13', 'vgg13_bn', 'vgg16', 'vgg16_bn',\n",
    "    'vgg19_bn', 'vgg19',\n",
    "]\n",
    "\n",
    "cfgs = {\n",
    "    'A': [64, 'M', 128, 'M', 256, 256, 'M', 512, 512, 'M', 512, 512, 'M'],\n",
    "    'B': [64, 64, 'M', 128, 128, 'M', 256, 256, 'M', 512, 512, 'M', 512, 512, 'M'],\n",
    "    'D': [64, 64, 'M', 128, 128, 'M', 256, 256, 256, 'M', 512, 512, 512, 'M', 512, 512, 512, 'M'],\n",
    "    'E': [64, 64, 'M', 128, 128, 'M', 256, 256, 256, 256, 'M', 512, 512, 512, 512, 'M', 512, 512, 512, 512, 'M']\n",
    "}\n",
    "\n",
    "\n",
    "class VGG(nn.Module):\n",
    "    def __init__(self, convnet: nn.Module, n_classes: int = 1000) -> None:\n",
    "        super(VGG, self).__init__()\n",
    "        self.conv = convnet\n",
    "        self.avgpool = nn.AdaptiveAvgPool2d((7,7))\n",
    "        \n",
    "        self.relu = nn.ReLU(inplace=True)\n",
    "        self.dropout = nn.Dropout()\n",
    "        \n",
    "        l1 = self._fc(nn.Linear(512*7*7, 4096))\n",
    "        l2 = self._fc(nn.Linear(4096, 4096))\n",
    "        \n",
    "        self.fc = nn.Sequential(l1, l2)\n",
    "        self.final = nn.Linear(4096, n_classes)\n",
    "    \n",
    "    def forward(self, x: torch.Tensor) -> torch.Tensor:\n",
    "        x = self.conv(x)\n",
    "        x = self.avgpool(x)\n",
    "        x = torch.flatten(x, 1)\n",
    "        x = self.fc(x)\n",
    "        x = self.final(x)\n",
    "        \n",
    "        return x\n",
    "    \n",
    "    def _fc(self, linear):\n",
    "        return nn.Sequential(\n",
    "            linear,\n",
    "            self.relu,\n",
    "            self.dropout\n",
    "        )\n",
    "    \n",
    "def make_layers(cfg: List[Union[str, int]], batch_norm: bool = False) -> nn.Sequential:\n",
    "    layers: List[nn.Module] = []\n",
    "    in_channels = 3\n",
    "    \n",
    "    for v in cfg:\n",
    "        if v == \"M\":\n",
    "            v = cast(str, v)\n",
    "            layers += [nn.MaxPool2d(kernel_size=2, stride=2)]\n",
    "        else:\n",
    "            v = cast(int, v)\n",
    "            conv2d = nn.Conv2d(in_channels, v, kernel_size=3, padding=1)\n",
    "        \n",
    "            if batch_norm:\n",
    "                layers += [conv2d, nn.BatchNorm2d(v), nn.ReLU(inplace=True)]\n",
    "            else:\n",
    "                layers += [conv2d, nn.ReLU(inplace=True)]\n",
    "            \n",
    "            in_channels = v\n",
    "    \n",
    "    return nn.Sequential(*layers)\n",
    "\n",
    "def _vgg(cfg: str, batch_norm: bool, **kwargs) -> VGG:\n",
    "    model = VGG(convnet = make_layers(cfg, batch_norm=batch_norm), **kwargs)\n",
    "    return model\n",
    "\n",
    "def vgg11(**kwargs) -> VGG:\n",
    "    return _vgg(cfgs['A'], False, **kwargs)\n",
    "\n",
    "def vgg11_bn(**kwargs) -> VGG:\n",
    "    return _vgg(cfgs['A'], True, **kwargs)\n",
    "\n",
    "def vgg13(**kwargs) -> VGG:\n",
    "    return _vgg(cfgs['B'], False, **kwargs)\n",
    "\n",
    "def vgg13_bn(**kwargs) -> VGG:\n",
    "    return _vgg(cfgs['B'], True, **kwargs)\n",
    "\n",
    "def vgg16(**kwargs) -> VGG:\n",
    "    return _vgg(cfgs['D'], False, **kwargs)\n",
    "\n",
    "def vgg16_bn(**kwargs) -> VGG:\n",
    "    return _vgg(cfgs['D'], True, **kwargs)\n",
    "\n",
    "def vgg19(**kwargs) -> VGG:\n",
    "    return _vgg(cfgs['E'], False, **kwargs)\n",
    "\n",
    "def vgg19_bn(**kwargs) -> VGG:\n",
    "    return _vgg(cfgs['E'], True, **kwargs)\n",
    "\n",
    "def test(convnet=\"vgg11\"):\n",
    "    x = torch.randn(1,3,224,224)\n",
    "    \n",
    "    tests = { \n",
    "        \"vgg11\": vgg11(),\n",
    "        \"vgg11_bn\": vgg11_bn(),\n",
    "        \"vgg13\": vgg13(),\n",
    "        \"vgg13_bn\": vgg13_bn(),\n",
    "        \"vgg16\": vgg16(),\n",
    "        \"vgg16_bn\": vgg16_bn(),\n",
    "        \"vgg19\": vgg19(),\n",
    "        \"vgg19_bn\": vgg19_bn(n_classes=3)\n",
    "    }\n",
    "    \n",
    "    model = tests[convnet]\n",
    "    y = model(x)\n",
    "    \n",
    "    print(\"Trainable parameters: \", get_num_parameters(model))\n",
    "    print(\"in shape: \", x.shape, \", out shape: \", y.shape)\n",
    "\n",
    "#test(\"vgg19\", n_classes = 3)"
   ]
  },
  {
   "cell_type": "code",
   "execution_count": 8,
   "id": "8c5a7600-768b-457e-8478-7dc8f8e12d99",
   "metadata": {},
   "outputs": [
    {
     "name": "stdout",
     "output_type": "stream",
     "text": [
      "Trainable parameters:  133047848\n",
      "in shape:  torch.Size([1, 3, 224, 224]) , out shape:  torch.Size([1, 1000])\n"
     ]
    }
   ],
   "source": [
    "test(\"vgg13\")"
   ]
  },
  {
   "cell_type": "code",
   "execution_count": null,
   "id": "a905f575-6c14-46be-a300-a8a2b1660351",
   "metadata": {},
   "outputs": [],
   "source": [
    "133053736"
   ]
  },
  {
   "cell_type": "code",
   "execution_count": null,
   "id": "1e509dfb-bd59-4ff9-af7b-0048e024969e",
   "metadata": {},
   "outputs": [],
   "source": []
  },
  {
   "cell_type": "code",
   "execution_count": null,
   "id": "64ec068e-a0af-4bac-baa0-ae8cb49992c1",
   "metadata": {},
   "outputs": [],
   "source": []
  },
  {
   "cell_type": "code",
   "execution_count": null,
   "id": "a011c8cb-653b-4e91-8fac-c6bc4fbb2b04",
   "metadata": {},
   "outputs": [],
   "source": []
  },
  {
   "cell_type": "code",
   "execution_count": 194,
   "id": "71bf125f-ba41-4c21-be92-e1eb31bc2042",
   "metadata": {},
   "outputs": [
    {
     "data": {
      "text/plain": [
       "128778627"
      ]
     },
     "execution_count": 194,
     "metadata": {},
     "output_type": "execute_result"
    }
   ],
   "source": [
    "128778627"
   ]
  },
  {
   "cell_type": "code",
   "execution_count": null,
   "id": "37d9953a-6add-42bc-bcdf-32ab63892a26",
   "metadata": {},
   "outputs": [],
   "source": []
  },
  {
   "cell_type": "code",
   "execution_count": null,
   "id": "f9d8496d-a66d-4c3e-9fdc-d70a6e4f11da",
   "metadata": {},
   "outputs": [],
   "source": []
  },
  {
   "cell_type": "code",
   "execution_count": 187,
   "id": "20df2039-44f3-44dd-9543-24233c65ffe0",
   "metadata": {},
   "outputs": [],
   "source": [
    "model = vgg11(n_classes=3)\n"
   ]
  },
  {
   "cell_type": "code",
   "execution_count": 188,
   "id": "ecb4f2b0-a98c-4aaf-8318-1016cdfbd6a6",
   "metadata": {},
   "outputs": [
    {
     "name": "stdout",
     "output_type": "stream",
     "text": [
      "128778627\n"
     ]
    }
   ],
   "source": [
    "print(pytorch_total_params)"
   ]
  },
  {
   "cell_type": "code",
   "execution_count": 184,
   "id": "423c86e8-8866-4d12-9a95-52de638dc9ee",
   "metadata": {},
   "outputs": [],
   "source": [
    "pytorch_total_params = sum(p.numel() for p in model.parameters())"
   ]
  },
  {
   "cell_type": "code",
   "execution_count": 185,
   "id": "783b293e-7e37-4422-9c45-c66c47fe15af",
   "metadata": {},
   "outputs": [
    {
     "name": "stdout",
     "output_type": "stream",
     "text": [
      "128778627\n"
     ]
    }
   ],
   "source": [
    "print(pytorch_total_params)"
   ]
  },
  {
   "cell_type": "code",
   "execution_count": null,
   "id": "c8b1502a-36e5-41ac-9178-58eb05d87b4e",
   "metadata": {},
   "outputs": [],
   "source": []
  },
  {
   "cell_type": "code",
   "execution_count": 161,
   "id": "45848f21-2d45-4bd4-9591-6e20900b4eae",
   "metadata": {},
   "outputs": [
    {
     "name": "stdout",
     "output_type": "stream",
     "text": [
      "torch.Size([1, 3, 224, 224]) torch.Size([1, 3])\n"
     ]
    }
   ],
   "source": [
    "_in = torch.Tensor(1,3,224,224)\n",
    "model = vgg19(n_classes=3)\n",
    "_out = model(_in)\n",
    "print(_in.shape, _out.shape)"
   ]
  },
  {
   "cell_type": "code",
   "execution_count": null,
   "id": "c250499f-0c2f-4e8e-9543-e9488d65d750",
   "metadata": {},
   "outputs": [],
   "source": []
  },
  {
   "cell_type": "code",
   "execution_count": null,
   "id": "8bef564e-cf01-422e-8f2c-c562c43c2f3e",
   "metadata": {},
   "outputs": [],
   "source": []
  },
  {
   "cell_type": "code",
   "execution_count": null,
   "id": "5a58bdb3-06e1-485a-85c0-2fe124c57c7d",
   "metadata": {},
   "outputs": [],
   "source": []
  },
  {
   "cell_type": "code",
   "execution_count": null,
   "id": "a8d8220a-2e35-441a-be71-093538213b90",
   "metadata": {},
   "outputs": [],
   "source": []
  },
  {
   "cell_type": "code",
   "execution_count": null,
   "id": "e596a962-1333-48d9-8f02-7d05ea57c231",
   "metadata": {},
   "outputs": [],
   "source": []
  },
  {
   "cell_type": "code",
   "execution_count": null,
   "id": "a6a61fa4-11ce-4fc9-9a9b-5ed17744a306",
   "metadata": {},
   "outputs": [],
   "source": []
  },
  {
   "cell_type": "code",
   "execution_count": 10,
   "id": "0a64a375-f344-4eb5-9fb9-2e7982034de7",
   "metadata": {},
   "outputs": [],
   "source": [
    "jaja.append([2])"
   ]
  },
  {
   "cell_type": "code",
   "execution_count": 11,
   "id": "9b193663-942b-45be-aa24-bde16ee4b88d",
   "metadata": {},
   "outputs": [
    {
     "data": {
      "text/plain": [
       "[[2]]"
      ]
     },
     "execution_count": 11,
     "metadata": {},
     "output_type": "execute_result"
    }
   ],
   "source": [
    "jaja"
   ]
  },
  {
   "cell_type": "code",
   "execution_count": 12,
   "id": "3eb323b2-422b-4e23-9f14-f8f5526190d3",
   "metadata": {},
   "outputs": [],
   "source": [
    "jaja.append([12,21])"
   ]
  },
  {
   "cell_type": "code",
   "execution_count": 13,
   "id": "4760d8d6-04b9-4df5-9eee-bed242f2d333",
   "metadata": {},
   "outputs": [
    {
     "data": {
      "text/plain": [
       "[[2], [12, 21]]"
      ]
     },
     "execution_count": 13,
     "metadata": {},
     "output_type": "execute_result"
    }
   ],
   "source": [
    "jaja"
   ]
  },
  {
   "cell_type": "code",
   "execution_count": 15,
   "id": "e28ea0bb-3182-4f05-9473-73a4d59d6da2",
   "metadata": {},
   "outputs": [],
   "source": [
    "hasxa = []"
   ]
  },
  {
   "cell_type": "code",
   "execution_count": 16,
   "id": "a131a435-c498-41e1-a2cf-baba8faf0888",
   "metadata": {},
   "outputs": [],
   "source": [
    "hasxa += [12]"
   ]
  },
  {
   "cell_type": "code",
   "execution_count": 17,
   "id": "29c0d69f-4ee1-4eec-be0a-b30d0c733163",
   "metadata": {},
   "outputs": [
    {
     "data": {
      "text/plain": [
       "[12]"
      ]
     },
     "execution_count": 17,
     "metadata": {},
     "output_type": "execute_result"
    }
   ],
   "source": [
    "hasxa"
   ]
  },
  {
   "cell_type": "code",
   "execution_count": 18,
   "id": "796ec6bb-d847-40a4-b9f6-d1b5e45f4517",
   "metadata": {},
   "outputs": [],
   "source": [
    "hasxa += [21,21,42]"
   ]
  },
  {
   "cell_type": "code",
   "execution_count": 19,
   "id": "5ad4fefa-3ecc-4ae9-a529-428cdff902ae",
   "metadata": {},
   "outputs": [
    {
     "data": {
      "text/plain": [
       "[12, 21, 21, 42]"
      ]
     },
     "execution_count": 19,
     "metadata": {},
     "output_type": "execute_result"
    }
   ],
   "source": [
    "hasxa"
   ]
  }
 ],
 "metadata": {
  "kernelspec": {
   "display_name": "Python 3 (ipykernel)",
   "language": "python",
   "name": "python3"
  },
  "language_info": {
   "codemirror_mode": {
    "name": "ipython",
    "version": 3
   },
   "file_extension": ".py",
   "mimetype": "text/x-python",
   "name": "python",
   "nbconvert_exporter": "python",
   "pygments_lexer": "ipython3",
   "version": "3.8.10"
  }
 },
 "nbformat": 4,
 "nbformat_minor": 5
}
