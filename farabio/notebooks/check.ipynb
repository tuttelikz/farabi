{
 "cells": [
  {
   "cell_type": "code",
   "execution_count": 34,
   "id": "d86d7e9a-3412-4493-935b-64e6e1c3aea8",
   "metadata": {},
   "outputs": [],
   "source": [
    "import os\n",
    "import random\n",
    "import subprocess\n",
    "import numpy as np\n",
    "import pandas as pd\n",
    "from PIL import Image\n",
    "import albumentations as A\n",
    "from albumentations.pytorch import ToTensorV2\n",
    "from typing import Optional, Callable\n",
    "import matplotlib.pyplot as plt\n",
    "from skimage import io, transform\n",
    "from sklearn.model_selection import train_test_split\n",
    "from sklearn.preprocessing import OrdinalEncoder\n",
    "import torch\n",
    "from torch.utils.data import Dataset, DataLoader\n",
    "import torchvision\n",
    "import torchvision.transforms.functional as F\n",
    "from torchvision import transforms\n",
    "from torchvision.datasets import ImageFolder\n",
    "from torchvision.utils import draw_segmentation_masks\n",
    "from zipfile import ZipFile\n",
    "import glob"
   ]
  },
  {
   "cell_type": "code",
   "execution_count": 18,
   "id": "556aa599-818a-4844-ad82-706ebea01c0c",
   "metadata": {},
   "outputs": [],
   "source": [
    "_path_chest = \"/home/data/02_SSD4TB/suzy/datasets/public/chest-xray\"\n",
    "_path_dsb = \"/home/data/02_SSD4TB/suzy/datasets/public/data-science-bowl-2018\"\n",
    "_path_histo = \"/home/data/02_SSD4TB/suzy/datasets/public/histopathologic-cancer-detection\"\n",
    "_path_ranzcr = \"/home/data/02_SSD4TB/suzy/datasets/public/ranzcr-clip-catheter-line-classification\"\n",
    "_path_retina = \"/home/data/02_SSD4TB/suzy/datasets/public/aptos2019-blindness-detection\""
   ]
  },
  {
   "cell_type": "code",
   "execution_count": 5,
   "id": "2ee8ed22-7803-46a2-bba8-825c14cc2ee9",
   "metadata": {},
   "outputs": [],
   "source": [
    "# HistocancerDataset"
   ]
  },
  {
   "cell_type": "code",
   "execution_count": 77,
   "id": "f547a2f9-eeb2-4cef-9f4d-d5e80f4a9d1d",
   "metadata": {
    "tags": []
   },
   "outputs": [],
   "source": [
    "kaggle_biodatasets = [\n",
    "    \"aptos2019-blindness-detection\",\n",
    "    \"chest-xray-pneumonia\",\n",
    "    \"data-science-bowl-2018\",\n",
    "    \"histopathologic-cancer-detection\",\n",
    "    \"intel-mobileodt-cervical-cancer-screening\",\n",
    "    \"ranzcr-clip-catheter-line-classification\",\n",
    "    \"skin-cancer-mnist\"\n",
    "]\n",
    "\n",
    "\n",
    "def download_datasets(tag, path=\".\"):\n",
    "    \"\"\"Helper function to download datasets\n",
    "\n",
    "    Parameters\n",
    "    ----------\n",
    "    tag : str\n",
    "        tag for dataset\n",
    "\n",
    "        .. note::\n",
    "            available tags:\n",
    "            kaggle_biodatasets = [\n",
    "                \"aptos2019-blindness-detection\",\n",
    "                \"chest-xray-pneumonia\",\n",
    "                \"data-science-bowl-2018\",\n",
    "                \"histopathologic-cancer-detection\",\n",
    "                \"intel-mobileodt-cervical-cancer-screening\",\n",
    "                \"ranzcr-clip-catheter-line-classification\",\n",
    "                \"skin-cancer-mnist\"\n",
    "            ]\n",
    "    path : str, optional\n",
    "        path where to save dataset, by default \".\"\n",
    "    Examples\n",
    "    ----------\n",
    "    >>> download_datasets(tag=\"skin-cancer-mnist\", path=\".\")\n",
    "    \"\"\"\n",
    "    if tag == \"chest-xray-pneumonia\":\n",
    "        bash_c_tag = [\"kaggle\", \"datasets\", \"download\",\n",
    "                      \"-d\", \"paultimothymooney/chest-xray-pneumonia\"]\n",
    "    elif tag == \"skin-cancer-mnist\":\n",
    "        bash_c_tag = [\"kaggle\", \"datasets\", \"download\",\n",
    "                      \"-d\", \"kmader/skin-cancer-mnist-ham10000\"]\n",
    "    else:\n",
    "        bash_c = [\"kaggle\", \"competitions\", \"download\", \"-c\"]\n",
    "        bash_c_tag = bash_c.copy()\n",
    "        bash_c_tag.append(tag)\n",
    "\n",
    "    prev_cwd = os.getcwd()\n",
    "    os.chdir(path)\n",
    "    process = subprocess.Popen(bash_c_tag, stdout=subprocess.PIPE)\n",
    "    output, error = process.communicate()\n",
    "    print(output)\n",
    "\n",
    "    os.chdir(prev_cwd)\n",
    "\n",
    "\n",
    "def extract_zip(fzip, fnew=None):\n",
    "    with ZipFile(fzip, 'r') as zip:  # ZipFile(fzip, 'r') as zip:\n",
    "        print('Extracting all the train files now...')\n",
    "        zip.extractall(fnew)\n",
    "        print('Done!')\n",
    "\n",
    "        \n",
    "class RANZCRDataset(Dataset):\n",
    "    r\"\"\"PyTorch friendly RANZCRDataset class\n",
    "\n",
    "    Dataset is loaded using Kaggle API.\n",
    "    For further information on raw dataset and catheters presence, please refer to [1]_.\n",
    "\n",
    "    Examples\n",
    "    ----------\n",
    "    >>> train_dataset = RANZCRDataset(_path_ranzcr, show=True, shape=512)\n",
    "\n",
    "    .. image:: ../imgs/RANZCRDataset.png\n",
    "        :width: 600\n",
    "\n",
    "    References\n",
    "    ---------------\n",
    "    .. [1] https://www.kaggle.com/c/ranzcr-clip-catheter-line-classification/data\n",
    "    \"\"\"\n",
    "\n",
    "    def __init__(self, root: str = \".\", mode: str = \"train\", shape: int = 256, transform: Optional[Callable] = None, target_transform: Optional[Callable] = None, download: bool = False, show: bool = True):\n",
    "        tag = \"ranzcr-clip-catheter-line-classification\"\n",
    "\n",
    "        modes = [\"train\", \"val\", \"test\"]\n",
    "        assert mode in modes, \"Available options for mode: train, val, test\"\n",
    "\n",
    "        self.mode = mode\n",
    "\n",
    "        if download:\n",
    "            download_datasets(tag, path=root)\n",
    "            extract_zip(os.path.join(root, tag+\".zip\"),\n",
    "                        os.path.join(root, tag))\n",
    "            path = os.path.join(root,tag)\n",
    "        else:\n",
    "            path = root\n",
    "\n",
    "        train_path = os.path.join(path, \"train\")\n",
    "        test_path = os.path.join(path, \"test\")\n",
    "        csv_path = os.path.join(path, \"train_annotations.csv\")\n",
    "\n",
    "        self.data = pd.read_csv(csv_path)\n",
    "        self.labels, self.encoded_labels = self.get_labels()\n",
    "        self.train_list, self.valid_list = self.get_train_valid(train_path)\n",
    "        self.shape = shape\n",
    "\n",
    "        if transform is None:\n",
    "            self.transform = self.default_transform()\n",
    "        else:\n",
    "            self.transform = transform\n",
    "\n",
    "        if target_transform is not None:\n",
    "            self.target_transform = target_transform\n",
    "\n",
    "        if self.mode != \"test\":\n",
    "            if self.mode == \"train\":\n",
    "                self.file_list = self.train_list\n",
    "            else:\n",
    "                self.file_list = self.valid_list\n",
    "        else:\n",
    "            self.file_list = glob.glob(test_path+\"/*\")\n",
    "\n",
    "        if show:\n",
    "            self.visualize_batch()\n",
    "\n",
    "    def __len__(self):\n",
    "        self.filelength = len(self.file_list)\n",
    "        return self.filelength\n",
    "\n",
    "    def __getitem__(self, idx):\n",
    "        if self.mode != \"test\":\n",
    "            img_path = self.file_list[idx][0]\n",
    "            fname = img_path.split(\"/\")[-1]\n",
    "        else:\n",
    "            img_path = self.file_list[idx]\n",
    "            fname = img_path.split(\"/\")[-1]\n",
    "\n",
    "        img = Image.open(img_path).convert(\"RGB\")\n",
    "        img = self.transform(img)\n",
    "\n",
    "        if self.mode != \"test\":\n",
    "            label = self.file_list[idx][1]\n",
    "            sample = (img, label, fname)\n",
    "        else:\n",
    "            sample = (img, fname)\n",
    "\n",
    "        return sample\n",
    "\n",
    "    def default_transform(self):\n",
    "        transform = transforms.Compose([\n",
    "            transforms.Resize((self.shape, self.shape)),\n",
    "            transforms.RandomHorizontalFlip(),\n",
    "            transforms.ToTensor(),\n",
    "            transforms.Normalize((0.485, 0.456, 0.406), (0.229, 0.224, 0.225))\n",
    "        ])\n",
    "\n",
    "        return transform\n",
    "\n",
    "    def visualize_batch(self):\n",
    "        loader = DataLoader(self, batch_size=4, shuffle=True)\n",
    "        \n",
    "        if self.mode != \"test\":\n",
    "            imgs, labels, fnames = next(iter(loader))\n",
    "        else:\n",
    "            imgs, fnames = next(iter(loader))\n",
    "            labels = None\n",
    "\n",
    "        list_imgs = [imgs[i] for i in range(len(imgs))]\n",
    "        self.show(list_imgs, fnames, labels)\n",
    "\n",
    "    def show(self, imgs, fnames, labels=None):\n",
    "        if not isinstance(imgs, list):\n",
    "            imgs = [imgs]\n",
    "        fix, axs = plt.subplots(ncols=len(imgs), squeeze=False)\n",
    "        for i, img in enumerate(imgs):\n",
    "            img = img.numpy().transpose((1, 2, 0))\n",
    "            mean = np.array([0.485, 0.456, 0.406])\n",
    "            std = np.array([0.229, 0.224, 0.225])\n",
    "            inp = std * img + mean\n",
    "            inp = np.clip(inp, 0, 1)\n",
    "            \n",
    "            axs[0, i].imshow(np.asarray(inp))\n",
    "            axs[0, i].set(xticklabels=[], yticklabels=[],\n",
    "                          xticks=[], yticks=[])\n",
    "            axs[0, i].set_title(\"...\"+fnames[i][-11:-4])\n",
    "\n",
    "            if self.mode != \"test\":\n",
    "                lab = self.unique_labels[labels[i]]\n",
    "                axs[0, i].text(0, -0.2, str(int(labels[i])) +\n",
    "                           \": \" + lab, transform=axs[0, i].transAxes)\n",
    "\n",
    "    def get_labels(self):\n",
    "        self.data = self.data.drop([\"data\"], axis=1)\n",
    "\n",
    "        data_org = self.data['label']\n",
    "        labels = data_org.to_list()\n",
    "\n",
    "        used = set()\n",
    "        self.unique_labels = [\n",
    "            x for x in labels if x not in used and (used.add(x) or True)]\n",
    "\n",
    "        ord_enc = OrdinalEncoder()\n",
    "        self.data[['label']] = ord_enc.fit_transform(self.data[['label']])\n",
    "\n",
    "        self.data.label = self.data.label.astype(\"int\")\n",
    "\n",
    "        label = self.data[\"label\"]\n",
    "        label = label.to_list()\n",
    "\n",
    "        encoded_labels = label\n",
    "        return labels, encoded_labels\n",
    "\n",
    "    def get_train_valid(self, train_path):\n",
    "        seed = 42\n",
    "        train_list = []\n",
    "\n",
    "        for i in self.data.index:\n",
    "            a = self.data[\"StudyInstanceUID\"].loc[i]\n",
    "            b = train_path + \"/\" + a + \".jpg\"\n",
    "            train_list.append((b, self.data['label'].loc[i]))\n",
    "\n",
    "        train_list, valid_list = train_test_split(train_list,\n",
    "                                                  test_size=0.2,\n",
    "                                                  random_state=seed)\n",
    "        return train_list, valid_list"
   ]
  },
  {
   "cell_type": "code",
   "execution_count": 78,
   "id": "174829ab-466e-4ab9-a5bb-dfab6ce06f26",
   "metadata": {},
   "outputs": [
    {
     "name": "stderr",
     "output_type": "stream",
     "text": [
      "  1%|          | 145M/11.7G [00:19<25:53, 7.99MB/s]   \n"
     ]
    },
    {
     "ename": "KeyboardInterrupt",
     "evalue": "",
     "output_type": "error",
     "traceback": [
      "\u001b[0;31m---------------------------------------------------------------------------\u001b[0m",
      "\u001b[0;31mKeyboardInterrupt\u001b[0m                         Traceback (most recent call last)",
      "\u001b[0;32m/tmp/ipykernel_74316/3787740817.py\u001b[0m in \u001b[0;36m<module>\u001b[0;34m\u001b[0m\n\u001b[1;32m      1\u001b[0m \u001b[0m_path_ranzcr_download\u001b[0m \u001b[0;34m=\u001b[0m \u001b[0;34m\"/home/data/02_SSD4TB/suzy/datasets/public/testy\"\u001b[0m\u001b[0;34m\u001b[0m\u001b[0;34m\u001b[0m\u001b[0m\n\u001b[1;32m      2\u001b[0m \u001b[0;31m#_path_ranzcr\u001b[0m\u001b[0;34m\u001b[0m\u001b[0;34m\u001b[0m\u001b[0;34m\u001b[0m\u001b[0m\n\u001b[0;32m----> 3\u001b[0;31m \u001b[0mtrain_dataset\u001b[0m \u001b[0;34m=\u001b[0m \u001b[0mRANZCRDataset\u001b[0m\u001b[0;34m(\u001b[0m\u001b[0m_path_ranzcr_download\u001b[0m\u001b[0;34m,\u001b[0m \u001b[0mmode\u001b[0m \u001b[0;34m=\u001b[0m \u001b[0;34m\"test\"\u001b[0m\u001b[0;34m,\u001b[0m \u001b[0mdownload\u001b[0m \u001b[0;34m=\u001b[0m \u001b[0;32mTrue\u001b[0m\u001b[0;34m)\u001b[0m\u001b[0;34m\u001b[0m\u001b[0;34m\u001b[0m\u001b[0m\n\u001b[0m",
      "\u001b[0;32m/tmp/ipykernel_74316/2477714466.py\u001b[0m in \u001b[0;36m__init__\u001b[0;34m(self, root, mode, shape, transform, target_transform, download, show)\u001b[0m\n\u001b[1;32m     89\u001b[0m \u001b[0;34m\u001b[0m\u001b[0m\n\u001b[1;32m     90\u001b[0m         \u001b[0;32mif\u001b[0m \u001b[0mdownload\u001b[0m\u001b[0;34m:\u001b[0m\u001b[0;34m\u001b[0m\u001b[0;34m\u001b[0m\u001b[0m\n\u001b[0;32m---> 91\u001b[0;31m             \u001b[0mdownload_datasets\u001b[0m\u001b[0;34m(\u001b[0m\u001b[0mtag\u001b[0m\u001b[0;34m,\u001b[0m \u001b[0mpath\u001b[0m\u001b[0;34m=\u001b[0m\u001b[0mroot\u001b[0m\u001b[0;34m)\u001b[0m\u001b[0;34m\u001b[0m\u001b[0;34m\u001b[0m\u001b[0m\n\u001b[0m\u001b[1;32m     92\u001b[0m             extract_zip(os.path.join(root, tag+\".zip\"),\n\u001b[1;32m     93\u001b[0m                         os.path.join(root, tag))\n",
      "\u001b[0;32m/tmp/ipykernel_74316/2477714466.py\u001b[0m in \u001b[0;36mdownload_datasets\u001b[0;34m(tag, path)\u001b[0m\n\u001b[1;32m     49\u001b[0m     \u001b[0mos\u001b[0m\u001b[0;34m.\u001b[0m\u001b[0mchdir\u001b[0m\u001b[0;34m(\u001b[0m\u001b[0mpath\u001b[0m\u001b[0;34m)\u001b[0m\u001b[0;34m\u001b[0m\u001b[0;34m\u001b[0m\u001b[0m\n\u001b[1;32m     50\u001b[0m     \u001b[0mprocess\u001b[0m \u001b[0;34m=\u001b[0m \u001b[0msubprocess\u001b[0m\u001b[0;34m.\u001b[0m\u001b[0mPopen\u001b[0m\u001b[0;34m(\u001b[0m\u001b[0mbash_c_tag\u001b[0m\u001b[0;34m,\u001b[0m \u001b[0mstdout\u001b[0m\u001b[0;34m=\u001b[0m\u001b[0msubprocess\u001b[0m\u001b[0;34m.\u001b[0m\u001b[0mPIPE\u001b[0m\u001b[0;34m)\u001b[0m\u001b[0;34m\u001b[0m\u001b[0;34m\u001b[0m\u001b[0m\n\u001b[0;32m---> 51\u001b[0;31m     \u001b[0moutput\u001b[0m\u001b[0;34m,\u001b[0m \u001b[0merror\u001b[0m \u001b[0;34m=\u001b[0m \u001b[0mprocess\u001b[0m\u001b[0;34m.\u001b[0m\u001b[0mcommunicate\u001b[0m\u001b[0;34m(\u001b[0m\u001b[0;34m)\u001b[0m\u001b[0;34m\u001b[0m\u001b[0;34m\u001b[0m\u001b[0m\n\u001b[0m\u001b[1;32m     52\u001b[0m     \u001b[0mprint\u001b[0m\u001b[0;34m(\u001b[0m\u001b[0moutput\u001b[0m\u001b[0;34m)\u001b[0m\u001b[0;34m\u001b[0m\u001b[0;34m\u001b[0m\u001b[0m\n\u001b[1;32m     53\u001b[0m \u001b[0;34m\u001b[0m\u001b[0m\n",
      "\u001b[0;32m~/miniconda3/envs/fsimple/lib/python3.8/subprocess.py\u001b[0m in \u001b[0;36mcommunicate\u001b[0;34m(self, input, timeout)\u001b[0m\n\u001b[1;32m   1013\u001b[0m                 \u001b[0mself\u001b[0m\u001b[0;34m.\u001b[0m\u001b[0m_stdin_write\u001b[0m\u001b[0;34m(\u001b[0m\u001b[0minput\u001b[0m\u001b[0;34m)\u001b[0m\u001b[0;34m\u001b[0m\u001b[0;34m\u001b[0m\u001b[0m\n\u001b[1;32m   1014\u001b[0m             \u001b[0;32melif\u001b[0m \u001b[0mself\u001b[0m\u001b[0;34m.\u001b[0m\u001b[0mstdout\u001b[0m\u001b[0;34m:\u001b[0m\u001b[0;34m\u001b[0m\u001b[0;34m\u001b[0m\u001b[0m\n\u001b[0;32m-> 1015\u001b[0;31m                 \u001b[0mstdout\u001b[0m \u001b[0;34m=\u001b[0m \u001b[0mself\u001b[0m\u001b[0;34m.\u001b[0m\u001b[0mstdout\u001b[0m\u001b[0;34m.\u001b[0m\u001b[0mread\u001b[0m\u001b[0;34m(\u001b[0m\u001b[0;34m)\u001b[0m\u001b[0;34m\u001b[0m\u001b[0;34m\u001b[0m\u001b[0m\n\u001b[0m\u001b[1;32m   1016\u001b[0m                 \u001b[0mself\u001b[0m\u001b[0;34m.\u001b[0m\u001b[0mstdout\u001b[0m\u001b[0;34m.\u001b[0m\u001b[0mclose\u001b[0m\u001b[0;34m(\u001b[0m\u001b[0;34m)\u001b[0m\u001b[0;34m\u001b[0m\u001b[0;34m\u001b[0m\u001b[0m\n\u001b[1;32m   1017\u001b[0m             \u001b[0;32melif\u001b[0m \u001b[0mself\u001b[0m\u001b[0;34m.\u001b[0m\u001b[0mstderr\u001b[0m\u001b[0;34m:\u001b[0m\u001b[0;34m\u001b[0m\u001b[0;34m\u001b[0m\u001b[0m\n",
      "\u001b[0;31mKeyboardInterrupt\u001b[0m: "
     ]
    }
   ],
   "source": [
    "_path_ranzcr_download = \"/home/data/02_SSD4TB/suzy/datasets/public/testy\"\n",
    "#_path_ranzcr\n",
    "train_dataset = RANZCRDataset(_path_ranzcr_download, mode = \"test\", download = True)"
   ]
  },
  {
   "cell_type": "code",
   "execution_count": null,
   "id": "299f8774-ba75-4642-818f-c126f258c42e",
   "metadata": {},
   "outputs": [],
   "source": []
  },
  {
   "cell_type": "code",
   "execution_count": null,
   "id": "47131e2a-dbda-4ab5-af1e-c57197f43946",
   "metadata": {},
   "outputs": [],
   "source": []
  },
  {
   "cell_type": "code",
   "execution_count": null,
   "id": "3584d201-21e7-46b2-a26e-d2d0c40423f5",
   "metadata": {},
   "outputs": [],
   "source": []
  },
  {
   "cell_type": "code",
   "execution_count": null,
   "id": "523ee628-f9da-4ab0-b5a6-d4ead4cb7840",
   "metadata": {},
   "outputs": [],
   "source": []
  },
  {
   "cell_type": "code",
   "execution_count": 74,
   "id": "ad299658-d619-4160-8553-07b516f77504",
   "metadata": {},
   "outputs": [
    {
     "data": {
      "text/plain": [
       "3582"
      ]
     },
     "execution_count": 74,
     "metadata": {},
     "output_type": "execute_result"
    }
   ],
   "source": [
    "len(train_dataset)"
   ]
  },
  {
   "cell_type": "code",
   "execution_count": null,
   "id": "e1dd22ce-7579-4970-af01-4c6506c6f05f",
   "metadata": {},
   "outputs": [],
   "source": []
  },
  {
   "cell_type": "code",
   "execution_count": null,
   "id": "33f1bacb-0343-4e39-938d-2e6eebaf46b3",
   "metadata": {},
   "outputs": [],
   "source": []
  },
  {
   "cell_type": "code",
   "execution_count": null,
   "id": "da786120-9a1a-4a08-bbe6-60bd2103f90a",
   "metadata": {},
   "outputs": [],
   "source": []
  },
  {
   "cell_type": "code",
   "execution_count": 10,
   "id": "3dfbdf15-42cd-4749-a220-48e65fe9af25",
   "metadata": {},
   "outputs": [
    {
     "data": {
      "text/plain": [
       "22003"
      ]
     },
     "execution_count": 10,
     "metadata": {},
     "output_type": "execute_result"
    }
   ],
   "source": [
    "len(train_dataset)"
   ]
  },
  {
   "cell_type": "code",
   "execution_count": null,
   "id": "78d7b1c5-b875-4fe4-8cb3-c448ae721d76",
   "metadata": {},
   "outputs": [],
   "source": []
  },
  {
   "cell_type": "code",
   "execution_count": null,
   "id": "dae8744d-9ed3-4a75-b607-ba42324a454b",
   "metadata": {},
   "outputs": [],
   "source": []
  },
  {
   "cell_type": "code",
   "execution_count": null,
   "id": "0d385238-65db-44f3-be81-ac7901363f53",
   "metadata": {},
   "outputs": [],
   "source": [
    "len(t)"
   ]
  },
  {
   "cell_type": "code",
   "execution_count": null,
   "id": "98dd643f-0c86-407c-8836-5194c38f6ce7",
   "metadata": {},
   "outputs": [],
   "source": []
  },
  {
   "cell_type": "code",
   "execution_count": null,
   "id": "6f719f25-604a-4cf1-afbe-27cd525e17b2",
   "metadata": {},
   "outputs": [],
   "source": []
  },
  {
   "cell_type": "code",
   "execution_count": 66,
   "id": "ffed7dff-8ce1-424c-b66f-60f370b637b9",
   "metadata": {},
   "outputs": [
    {
     "data": {
      "text/plain": [
       "57458"
      ]
     },
     "execution_count": 66,
     "metadata": {},
     "output_type": "execute_result"
    }
   ],
   "source": [
    "len(train_dataset)"
   ]
  },
  {
   "cell_type": "code",
   "execution_count": null,
   "id": "7155a642-a757-4b2d-8ded-a9ae01da290c",
   "metadata": {},
   "outputs": [],
   "source": []
  },
  {
   "cell_type": "code",
   "execution_count": null,
   "id": "e8719bc4-a5dd-49ac-be10-17deb664671b",
   "metadata": {},
   "outputs": [],
   "source": []
  }
 ],
 "metadata": {
  "kernelspec": {
   "display_name": "Python 3 (ipykernel)",
   "language": "python",
   "name": "python3"
  },
  "language_info": {
   "codemirror_mode": {
    "name": "ipython",
    "version": 3
   },
   "file_extension": ".py",
   "mimetype": "text/x-python",
   "name": "python",
   "nbconvert_exporter": "python",
   "pygments_lexer": "ipython3",
   "version": "3.8.10"
  }
 },
 "nbformat": 4,
 "nbformat_minor": 5
}
