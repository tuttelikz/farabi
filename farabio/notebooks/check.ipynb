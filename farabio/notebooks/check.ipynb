{
 "cells": [
  {
   "cell_type": "code",
   "execution_count": 1,
   "id": "d86d7e9a-3412-4493-935b-64e6e1c3aea8",
   "metadata": {},
   "outputs": [],
   "source": [
    "import os\n",
    "import random\n",
    "import subprocess\n",
    "import numpy as np\n",
    "import pandas as pd\n",
    "from PIL import Image\n",
    "import albumentations as A\n",
    "from albumentations.pytorch import ToTensorV2\n",
    "from typing import Optional, Callable\n",
    "import matplotlib.pyplot as plt\n",
    "from skimage import io, transform\n",
    "from sklearn.model_selection import train_test_split\n",
    "from sklearn.preprocessing import OrdinalEncoder\n",
    "import torch\n",
    "from torch.utils.data import Dataset, DataLoader\n",
    "import torchvision\n",
    "import torchvision.transforms.functional as F\n",
    "from torchvision import transforms\n",
    "from torchvision.datasets import ImageFolder\n",
    "from torchvision.utils import draw_segmentation_masks\n",
    "from zipfile import ZipFile\n",
    "import glob\n",
    "import torchvision.models as models\n",
    "import torch.nn as nn"
   ]
  },
  {
   "cell_type": "code",
   "execution_count": 2,
   "id": "556aa599-818a-4844-ad82-706ebea01c0c",
   "metadata": {},
   "outputs": [],
   "source": [
    "_path_chest = \"/home/data/02_SSD4TB/suzy/datasets/public/chest-xray\"\n",
    "_path_dsb = \"/home/data/02_SSD4TB/suzy/datasets/public/data-science-bowl-2018\"\n",
    "_path_histo = \"/home/data/02_SSD4TB/suzy/datasets/public/histopathologic-cancer-detection\"\n",
    "_path_ranzcr = \"/home/data/02_SSD4TB/suzy/datasets/public/ranzcr-clip-catheter-line-classification\"\n",
    "_path_retina = \"/home/data/02_SSD4TB/suzy/datasets/public/aptos2019-blindness-detection\""
   ]
  },
  {
   "cell_type": "code",
   "execution_count": 1,
   "id": "e231626b-63d6-4fa6-98ec-45b0fb06b22c",
   "metadata": {},
   "outputs": [],
   "source": [
    "from farabio.models.classification.conv import *"
   ]
  },
  {
   "cell_type": "code",
   "execution_count": null,
   "id": "0d5bd22a-b0a3-4054-abe2-7bf0b23102a9",
   "metadata": {},
   "outputs": [],
   "source": []
  },
  {
   "cell_type": "code",
   "execution_count": null,
   "id": "0a09c6bd-d140-416c-92e8-94af97981f9d",
   "metadata": {},
   "outputs": [],
   "source": []
  },
  {
   "cell_type": "code",
   "execution_count": null,
   "id": "e7be9963-6178-45bf-b007-c9050809a5ab",
   "metadata": {},
   "outputs": [],
   "source": []
  },
  {
   "cell_type": "code",
   "execution_count": null,
   "id": "3221eba1-95ee-4e81-bc11-4b7cc0cf46c9",
   "metadata": {},
   "outputs": [],
   "source": []
  },
  {
   "cell_type": "code",
   "execution_count": null,
   "id": "e0c74a78-1de8-4684-b13b-a7135c8b5af4",
   "metadata": {},
   "outputs": [],
   "source": []
  },
  {
   "cell_type": "code",
   "execution_count": null,
   "id": "f7926f36-7553-4557-b826-8bc328211ddd",
   "metadata": {},
   "outputs": [],
   "source": []
  }
 ],
 "metadata": {
  "kernelspec": {
   "display_name": "Python 3 (ipykernel)",
   "language": "python",
   "name": "python3"
  },
  "language_info": {
   "codemirror_mode": {
    "name": "ipython",
    "version": 3
   },
   "file_extension": ".py",
   "mimetype": "text/x-python",
   "name": "python",
   "nbconvert_exporter": "python",
   "pygments_lexer": "ipython3",
   "version": "3.8.10"
  }
 },
 "nbformat": 4,
 "nbformat_minor": 5
}
